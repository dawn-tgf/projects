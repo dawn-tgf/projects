{
 "cells": [
  {
   "cell_type": "code",
   "execution_count": 71,
   "metadata": {},
   "outputs": [],
   "source": [
    "import pandas as pd\n",
    "import numpy as np\n",
    "import seaborn as sns\n",
    "import matplotlib.pyplot as plt\n",
    "import time\n",
    "\n",
    "from sklearn.impute import SimpleImputer\n",
    "from sklearn.ensemble import RandomForestClassifier,GradientBoostingClassifier, VotingClassifier\n",
    "\n",
    "from sklearn.metrics import accuracy_score, confusion_matrix, roc_auc_score, roc_curve\n",
    "from sklearn.tree import DecisionTreeClassifier\n",
    "from sklearn.model_selection import cross_val_score, GridSearchCV, RandomizedSearchCV, train_test_split, StratifiedShuffleSplit\n",
    "from imblearn.over_sampling import SMOTE, ADASYN\n",
    "\n",
    "#!pip install category_encoders\n",
    "from category_encoders.target_encoder import TargetEncoder\n",
    "\n",
    "%matplotlib inline\n",
    "\n",
    "pd.set_option('display.max_columns', 200)"
   ]
  },
  {
   "cell_type": "markdown",
   "metadata": {},
   "source": [
    "## Load data"
   ]
  },
  {
   "cell_type": "code",
   "execution_count": 135,
   "metadata": {},
   "outputs": [
    {
     "name": "stdout",
     "output_type": "stream",
     "text": [
      "(91713, 183)\n",
      "(39308, 183)\n"
     ]
    }
   ],
   "source": [
    "train = pd.read_csv('../data/train_clean.csv')\n",
    "test = pd.read_csv('../data/test_clean_cat.csv')\n",
    "print(train.shape)\n",
    "print(test.shape)"
   ]
  },
  {
   "cell_type": "code",
   "execution_count": 136,
   "metadata": {},
   "outputs": [
    {
     "data": {
      "text/plain": [
       "{'hospital_death'}"
      ]
     },
     "execution_count": 136,
     "metadata": {},
     "output_type": "execute_result"
    }
   ],
   "source": [
    "set(train.columns)-set(test.columns)"
   ]
  },
  {
   "cell_type": "code",
   "execution_count": 137,
   "metadata": {},
   "outputs": [
    {
     "data": {
      "text/plain": [
       "{'encounter_id'}"
      ]
     },
     "execution_count": 137,
     "metadata": {},
     "output_type": "execute_result"
    }
   ],
   "source": [
    "set(test.columns)-set(train.columns)"
   ]
  },
  {
   "cell_type": "markdown",
   "metadata": {},
   "source": [
    "## Data Preparation"
   ]
  },
  {
   "cell_type": "code",
   "execution_count": 117,
   "metadata": {},
   "outputs": [
    {
     "name": "stdout",
     "output_type": "stream",
     "text": [
      "set()\n",
      "set()\n"
     ]
    }
   ],
   "source": [
    "# To verify the categorical columns are identical in both train and test dataset\n",
    "categorical_cols = [col for col in train.columns if  (train[col].dtype != 'float64')&(train[col].dtype != 'int64') ]\n",
    "categorical_cols_test = [col for col in test.columns if  (test[col].dtype != 'float64')&(test[col].dtype != 'int64') ]\n",
    "\n",
    "print(set(categorical_cols) - set(categorical_cols_test))\n",
    "print(set(categorical_cols_test) - set(categorical_cols))"
   ]
  },
  {
   "cell_type": "code",
   "execution_count": 118,
   "metadata": {},
   "outputs": [
    {
     "name": "stdout",
     "output_type": "stream",
     "text": [
      "ethnicity                0\n",
      "gender                   0\n",
      "hospital_admit_source    0\n",
      "icu_admit_source         0\n",
      "icu_stay_type            0\n",
      "icu_type                 0\n",
      "apache_3j_bodysystem     0\n",
      "apache_2_bodysystem      0\n",
      "dtype: int64\n",
      "ethnicity                0\n",
      "gender                   0\n",
      "hospital_admit_source    0\n",
      "icu_admit_source         0\n",
      "icu_stay_type            0\n",
      "icu_type                 0\n",
      "apache_3j_bodysystem     0\n",
      "apache_2_bodysystem      0\n",
      "dtype: int64\n"
     ]
    }
   ],
   "source": [
    "# Verify no missing data in categorical variables\n",
    "print(train[categorical_cols].isnull().sum())\n",
    "print(test[categorical_cols].isnull().sum())"
   ]
  },
  {
   "cell_type": "code",
   "execution_count": 119,
   "metadata": {},
   "outputs": [
    {
     "name": "stdout",
     "output_type": "stream",
     "text": [
      "train only element for ethnicity  is:  set()\n",
      "test only element for ethnicity  is:  set()\n",
      "train only element for gender  is:  set()\n",
      "test only element for gender  is:  set()\n",
      "train only element for hospital_admit_source  is:  set()\n",
      "test only element for hospital_admit_source  is:  set()\n",
      "train only element for icu_admit_source  is:  set()\n",
      "test only element for icu_admit_source  is:  set()\n",
      "train only element for icu_stay_type  is:  set()\n",
      "test only element for icu_stay_type  is:  set()\n",
      "train only element for icu_type  is:  set()\n",
      "test only element for icu_type  is:  set()\n",
      "train only element for apache_3j_bodysystem  is:  set()\n",
      "test only element for apache_3j_bodysystem  is:  set()\n",
      "train only element for apache_2_bodysystem  is:  set()\n",
      "test only element for apache_2_bodysystem  is:  set()\n"
     ]
    }
   ],
   "source": [
    "# Verify no unique elements in either test or train categorical variables\n",
    "for col in categorical_cols:\n",
    "    print(\"train only element for\", col, \" is: \", set(train[col].unique()) - set(test[col].unique()))\n",
    "    print(\"test only element for\", col, \" is: \", set(test[col].unique()) - set(train[col].unique()))"
   ]
  },
  {
   "cell_type": "markdown",
   "metadata": {},
   "source": [
    "### v2. [Target Encoding](https://www.kaggle.com/ogrellier/python-target-encoding-for-categorical-features)"
   ]
  },
  {
   "cell_type": "code",
   "execution_count": 138,
   "metadata": {},
   "outputs": [],
   "source": [
    "X = train.drop(columns=['hospital_death'])\n",
    "y = train.hospital_death"
   ]
  },
  {
   "cell_type": "code",
   "execution_count": 139,
   "metadata": {},
   "outputs": [
    {
     "name": "stdout",
     "output_type": "stream",
     "text": [
      "(91713, 182)\n"
     ]
    }
   ],
   "source": [
    "target_enc = TargetEncoder(handle_missing='value', handle_unknown='value', min_samples_leaf=100, smoothing=10, verbose=1)\n",
    "X = target_enc.fit_transform(X,y)\n",
    "print(X.shape)\n",
    "\n",
    "test_m = target_enc.transform(test.drop(\"encounter_id\", axis=1))"
   ]
  },
  {
   "cell_type": "code",
   "execution_count": 140,
   "metadata": {},
   "outputs": [
    {
     "data": {
      "text/html": [
       "<div>\n",
       "<style scoped>\n",
       "    .dataframe tbody tr th:only-of-type {\n",
       "        vertical-align: middle;\n",
       "    }\n",
       "\n",
       "    .dataframe tbody tr th {\n",
       "        vertical-align: top;\n",
       "    }\n",
       "\n",
       "    .dataframe thead th {\n",
       "        text-align: right;\n",
       "    }\n",
       "</style>\n",
       "<table border=\"1\" class=\"dataframe\">\n",
       "  <thead>\n",
       "    <tr style=\"text-align: right;\">\n",
       "      <th></th>\n",
       "      <th>hospital_id</th>\n",
       "      <th>age</th>\n",
       "      <th>bmi</th>\n",
       "      <th>elective_surgery</th>\n",
       "      <th>ethnicity</th>\n",
       "      <th>gender</th>\n",
       "      <th>height</th>\n",
       "      <th>hospital_admit_source</th>\n",
       "      <th>icu_admit_source</th>\n",
       "      <th>icu_id</th>\n",
       "      <th>icu_stay_type</th>\n",
       "      <th>icu_type</th>\n",
       "      <th>pre_icu_los_days</th>\n",
       "      <th>weight</th>\n",
       "      <th>albumin_apache</th>\n",
       "      <th>apache_2_diagnosis</th>\n",
       "      <th>apache_3j_diagnosis</th>\n",
       "      <th>apache_post_operative</th>\n",
       "      <th>arf_apache</th>\n",
       "      <th>bilirubin_apache</th>\n",
       "      <th>bun_apache</th>\n",
       "      <th>creatinine_apache</th>\n",
       "      <th>fio2_apache</th>\n",
       "      <th>gcs_eyes_apache</th>\n",
       "      <th>gcs_motor_apache</th>\n",
       "      <th>gcs_unable_apache</th>\n",
       "      <th>gcs_verbal_apache</th>\n",
       "      <th>glucose_apache</th>\n",
       "      <th>heart_rate_apache</th>\n",
       "      <th>hematocrit_apache</th>\n",
       "      <th>intubated_apache</th>\n",
       "      <th>map_apache</th>\n",
       "      <th>paco2_apache</th>\n",
       "      <th>paco2_for_ph_apache</th>\n",
       "      <th>pao2_apache</th>\n",
       "      <th>ph_apache</th>\n",
       "      <th>resprate_apache</th>\n",
       "      <th>sodium_apache</th>\n",
       "      <th>temp_apache</th>\n",
       "      <th>urineoutput_apache</th>\n",
       "      <th>ventilated_apache</th>\n",
       "      <th>wbc_apache</th>\n",
       "      <th>d1_diasbp_invasive_max</th>\n",
       "      <th>d1_diasbp_invasive_min</th>\n",
       "      <th>d1_diasbp_max</th>\n",
       "      <th>d1_diasbp_min</th>\n",
       "      <th>d1_diasbp_noninvasive_max</th>\n",
       "      <th>d1_diasbp_noninvasive_min</th>\n",
       "      <th>d1_heartrate_max</th>\n",
       "      <th>d1_heartrate_min</th>\n",
       "      <th>d1_mbp_invasive_max</th>\n",
       "      <th>d1_mbp_invasive_min</th>\n",
       "      <th>d1_mbp_max</th>\n",
       "      <th>d1_mbp_min</th>\n",
       "      <th>d1_mbp_noninvasive_max</th>\n",
       "      <th>d1_mbp_noninvasive_min</th>\n",
       "      <th>d1_resprate_max</th>\n",
       "      <th>d1_resprate_min</th>\n",
       "      <th>d1_spo2_max</th>\n",
       "      <th>d1_spo2_min</th>\n",
       "      <th>d1_sysbp_invasive_max</th>\n",
       "      <th>d1_sysbp_invasive_min</th>\n",
       "      <th>d1_sysbp_max</th>\n",
       "      <th>d1_sysbp_min</th>\n",
       "      <th>d1_sysbp_noninvasive_max</th>\n",
       "      <th>d1_sysbp_noninvasive_min</th>\n",
       "      <th>d1_temp_max</th>\n",
       "      <th>d1_temp_min</th>\n",
       "      <th>h1_diasbp_invasive_max</th>\n",
       "      <th>h1_diasbp_invasive_min</th>\n",
       "      <th>h1_diasbp_max</th>\n",
       "      <th>h1_diasbp_min</th>\n",
       "      <th>h1_diasbp_noninvasive_max</th>\n",
       "      <th>h1_diasbp_noninvasive_min</th>\n",
       "      <th>h1_heartrate_max</th>\n",
       "      <th>h1_heartrate_min</th>\n",
       "      <th>h1_mbp_invasive_max</th>\n",
       "      <th>h1_mbp_invasive_min</th>\n",
       "      <th>h1_mbp_max</th>\n",
       "      <th>h1_mbp_min</th>\n",
       "      <th>h1_mbp_noninvasive_max</th>\n",
       "      <th>h1_mbp_noninvasive_min</th>\n",
       "      <th>h1_resprate_max</th>\n",
       "      <th>h1_resprate_min</th>\n",
       "      <th>h1_spo2_max</th>\n",
       "      <th>h1_spo2_min</th>\n",
       "      <th>h1_sysbp_invasive_max</th>\n",
       "      <th>h1_sysbp_invasive_min</th>\n",
       "      <th>h1_sysbp_max</th>\n",
       "      <th>h1_sysbp_min</th>\n",
       "      <th>h1_sysbp_noninvasive_max</th>\n",
       "      <th>h1_sysbp_noninvasive_min</th>\n",
       "      <th>h1_temp_max</th>\n",
       "      <th>h1_temp_min</th>\n",
       "      <th>d1_albumin_max</th>\n",
       "      <th>d1_albumin_min</th>\n",
       "      <th>d1_bilirubin_max</th>\n",
       "      <th>d1_bilirubin_min</th>\n",
       "      <th>d1_bun_max</th>\n",
       "      <th>d1_bun_min</th>\n",
       "      <th>d1_calcium_max</th>\n",
       "      <th>d1_calcium_min</th>\n",
       "      <th>d1_creatinine_max</th>\n",
       "      <th>d1_creatinine_min</th>\n",
       "      <th>d1_glucose_max</th>\n",
       "      <th>d1_glucose_min</th>\n",
       "      <th>d1_hco3_max</th>\n",
       "      <th>d1_hco3_min</th>\n",
       "      <th>d1_hemaglobin_max</th>\n",
       "      <th>d1_hemaglobin_min</th>\n",
       "      <th>d1_hematocrit_max</th>\n",
       "      <th>d1_hematocrit_min</th>\n",
       "      <th>d1_inr_max</th>\n",
       "      <th>d1_inr_min</th>\n",
       "      <th>d1_lactate_max</th>\n",
       "      <th>d1_lactate_min</th>\n",
       "      <th>d1_platelets_max</th>\n",
       "      <th>d1_platelets_min</th>\n",
       "      <th>d1_potassium_max</th>\n",
       "      <th>d1_potassium_min</th>\n",
       "      <th>d1_sodium_max</th>\n",
       "      <th>d1_sodium_min</th>\n",
       "      <th>d1_wbc_max</th>\n",
       "      <th>d1_wbc_min</th>\n",
       "      <th>h1_albumin_max</th>\n",
       "      <th>h1_albumin_min</th>\n",
       "      <th>h1_bilirubin_max</th>\n",
       "      <th>h1_bilirubin_min</th>\n",
       "      <th>h1_bun_max</th>\n",
       "      <th>h1_bun_min</th>\n",
       "      <th>h1_calcium_max</th>\n",
       "      <th>h1_calcium_min</th>\n",
       "      <th>h1_creatinine_max</th>\n",
       "      <th>h1_creatinine_min</th>\n",
       "      <th>h1_glucose_max</th>\n",
       "      <th>h1_glucose_min</th>\n",
       "      <th>h1_hco3_max</th>\n",
       "      <th>h1_hco3_min</th>\n",
       "      <th>h1_hemaglobin_max</th>\n",
       "      <th>h1_hemaglobin_min</th>\n",
       "      <th>h1_hematocrit_max</th>\n",
       "      <th>h1_hematocrit_min</th>\n",
       "      <th>h1_inr_max</th>\n",
       "      <th>h1_inr_min</th>\n",
       "      <th>h1_lactate_max</th>\n",
       "      <th>h1_lactate_min</th>\n",
       "      <th>h1_platelets_max</th>\n",
       "      <th>h1_platelets_min</th>\n",
       "      <th>h1_potassium_max</th>\n",
       "      <th>h1_potassium_min</th>\n",
       "      <th>h1_sodium_max</th>\n",
       "      <th>h1_sodium_min</th>\n",
       "      <th>h1_wbc_max</th>\n",
       "      <th>h1_wbc_min</th>\n",
       "      <th>d1_arterial_pco2_max</th>\n",
       "      <th>d1_arterial_pco2_min</th>\n",
       "      <th>d1_arterial_ph_max</th>\n",
       "      <th>d1_arterial_ph_min</th>\n",
       "      <th>d1_arterial_po2_max</th>\n",
       "      <th>d1_arterial_po2_min</th>\n",
       "      <th>d1_pao2fio2ratio_max</th>\n",
       "      <th>d1_pao2fio2ratio_min</th>\n",
       "      <th>h1_arterial_pco2_max</th>\n",
       "      <th>h1_arterial_pco2_min</th>\n",
       "      <th>h1_arterial_ph_max</th>\n",
       "      <th>h1_arterial_ph_min</th>\n",
       "      <th>h1_arterial_po2_max</th>\n",
       "      <th>h1_arterial_po2_min</th>\n",
       "      <th>h1_pao2fio2ratio_max</th>\n",
       "      <th>h1_pao2fio2ratio_min</th>\n",
       "      <th>apache_4a_hospital_death_prob</th>\n",
       "      <th>apache_4a_icu_death_prob</th>\n",
       "      <th>aids</th>\n",
       "      <th>cirrhosis</th>\n",
       "      <th>diabetes_mellitus</th>\n",
       "      <th>hepatic_failure</th>\n",
       "      <th>immunosuppression</th>\n",
       "      <th>leukemia</th>\n",
       "      <th>lymphoma</th>\n",
       "      <th>solid_tumor_with_metastasis</th>\n",
       "      <th>apache_3j_bodysystem</th>\n",
       "      <th>apache_2_bodysystem</th>\n",
       "    </tr>\n",
       "  </thead>\n",
       "  <tbody>\n",
       "    <tr>\n",
       "      <td>0</td>\n",
       "      <td>118</td>\n",
       "      <td>68.0</td>\n",
       "      <td>22.73</td>\n",
       "      <td>0</td>\n",
       "      <td>0.087262</td>\n",
       "      <td>0.084417</td>\n",
       "      <td>180.3</td>\n",
       "      <td>0.138796</td>\n",
       "      <td>0.134136</td>\n",
       "      <td>92</td>\n",
       "      <td>0.085168</td>\n",
       "      <td>0.060205</td>\n",
       "      <td>0.541667</td>\n",
       "      <td>73.9</td>\n",
       "      <td>2.3</td>\n",
       "      <td>113.0</td>\n",
       "      <td>502.01</td>\n",
       "      <td>0</td>\n",
       "      <td>0.0</td>\n",
       "      <td>0.4</td>\n",
       "      <td>31.0</td>\n",
       "      <td>2.51</td>\n",
       "      <td>NaN</td>\n",
       "      <td>3.0</td>\n",
       "      <td>6.0</td>\n",
       "      <td>0.0</td>\n",
       "      <td>4.0</td>\n",
       "      <td>168.0</td>\n",
       "      <td>118.0</td>\n",
       "      <td>27.4</td>\n",
       "      <td>0.0</td>\n",
       "      <td>40.0</td>\n",
       "      <td>NaN</td>\n",
       "      <td>NaN</td>\n",
       "      <td>NaN</td>\n",
       "      <td>NaN</td>\n",
       "      <td>36.0</td>\n",
       "      <td>134.0</td>\n",
       "      <td>39.3</td>\n",
       "      <td>NaN</td>\n",
       "      <td>0.0</td>\n",
       "      <td>14.1</td>\n",
       "      <td>46.0</td>\n",
       "      <td>32.0</td>\n",
       "      <td>68.0</td>\n",
       "      <td>37.0</td>\n",
       "      <td>68.0</td>\n",
       "      <td>37.0</td>\n",
       "      <td>119.0</td>\n",
       "      <td>72.0</td>\n",
       "      <td>66.0</td>\n",
       "      <td>40.0</td>\n",
       "      <td>89.0</td>\n",
       "      <td>46.0</td>\n",
       "      <td>89.0</td>\n",
       "      <td>46.0</td>\n",
       "      <td>34.0</td>\n",
       "      <td>10.0</td>\n",
       "      <td>100.0</td>\n",
       "      <td>74.0</td>\n",
       "      <td>122.0</td>\n",
       "      <td>64.0</td>\n",
       "      <td>131.0</td>\n",
       "      <td>73.0</td>\n",
       "      <td>131.0</td>\n",
       "      <td>73.0</td>\n",
       "      <td>39.9</td>\n",
       "      <td>37.2</td>\n",
       "      <td>NaN</td>\n",
       "      <td>NaN</td>\n",
       "      <td>68.0</td>\n",
       "      <td>63.0</td>\n",
       "      <td>68.0</td>\n",
       "      <td>63.0</td>\n",
       "      <td>119.0</td>\n",
       "      <td>108.0</td>\n",
       "      <td>NaN</td>\n",
       "      <td>NaN</td>\n",
       "      <td>86.0</td>\n",
       "      <td>85.0</td>\n",
       "      <td>86.0</td>\n",
       "      <td>85.0</td>\n",
       "      <td>26.0</td>\n",
       "      <td>18.0</td>\n",
       "      <td>100.0</td>\n",
       "      <td>74.0</td>\n",
       "      <td>NaN</td>\n",
       "      <td>NaN</td>\n",
       "      <td>131.0</td>\n",
       "      <td>115.0</td>\n",
       "      <td>131.0</td>\n",
       "      <td>115.0</td>\n",
       "      <td>39.5</td>\n",
       "      <td>37.5</td>\n",
       "      <td>2.3</td>\n",
       "      <td>2.3</td>\n",
       "      <td>0.4</td>\n",
       "      <td>0.4</td>\n",
       "      <td>31.0</td>\n",
       "      <td>30.0</td>\n",
       "      <td>8.5</td>\n",
       "      <td>7.4</td>\n",
       "      <td>2.51</td>\n",
       "      <td>2.23</td>\n",
       "      <td>168.0</td>\n",
       "      <td>109.0</td>\n",
       "      <td>19.0</td>\n",
       "      <td>15.0</td>\n",
       "      <td>8.9</td>\n",
       "      <td>8.9</td>\n",
       "      <td>27.4</td>\n",
       "      <td>27.4</td>\n",
       "      <td>NaN</td>\n",
       "      <td>NaN</td>\n",
       "      <td>1.3</td>\n",
       "      <td>1.0</td>\n",
       "      <td>233.0</td>\n",
       "      <td>233.0</td>\n",
       "      <td>4.0</td>\n",
       "      <td>3.4</td>\n",
       "      <td>136.0</td>\n",
       "      <td>134.0</td>\n",
       "      <td>14.1</td>\n",
       "      <td>14.1</td>\n",
       "      <td>NaN</td>\n",
       "      <td>NaN</td>\n",
       "      <td>NaN</td>\n",
       "      <td>NaN</td>\n",
       "      <td>NaN</td>\n",
       "      <td>NaN</td>\n",
       "      <td>NaN</td>\n",
       "      <td>NaN</td>\n",
       "      <td>NaN</td>\n",
       "      <td>NaN</td>\n",
       "      <td>NaN</td>\n",
       "      <td>NaN</td>\n",
       "      <td>NaN</td>\n",
       "      <td>NaN</td>\n",
       "      <td>NaN</td>\n",
       "      <td>NaN</td>\n",
       "      <td>NaN</td>\n",
       "      <td>NaN</td>\n",
       "      <td>NaN</td>\n",
       "      <td>NaN</td>\n",
       "      <td>NaN</td>\n",
       "      <td>NaN</td>\n",
       "      <td>NaN</td>\n",
       "      <td>NaN</td>\n",
       "      <td>NaN</td>\n",
       "      <td>NaN</td>\n",
       "      <td>NaN</td>\n",
       "      <td>NaN</td>\n",
       "      <td>NaN</td>\n",
       "      <td>NaN</td>\n",
       "      <td>NaN</td>\n",
       "      <td>NaN</td>\n",
       "      <td>NaN</td>\n",
       "      <td>NaN</td>\n",
       "      <td>NaN</td>\n",
       "      <td>NaN</td>\n",
       "      <td>NaN</td>\n",
       "      <td>NaN</td>\n",
       "      <td>NaN</td>\n",
       "      <td>NaN</td>\n",
       "      <td>NaN</td>\n",
       "      <td>NaN</td>\n",
       "      <td>NaN</td>\n",
       "      <td>NaN</td>\n",
       "      <td>NaN</td>\n",
       "      <td>NaN</td>\n",
       "      <td>0.10</td>\n",
       "      <td>0.05</td>\n",
       "      <td>0.0</td>\n",
       "      <td>0.0</td>\n",
       "      <td>1.0</td>\n",
       "      <td>0.0</td>\n",
       "      <td>0.0</td>\n",
       "      <td>0.0</td>\n",
       "      <td>0.0</td>\n",
       "      <td>0.0</td>\n",
       "      <td>0.157922</td>\n",
       "      <td>0.108383</td>\n",
       "    </tr>\n",
       "    <tr>\n",
       "      <td>1</td>\n",
       "      <td>81</td>\n",
       "      <td>77.0</td>\n",
       "      <td>27.42</td>\n",
       "      <td>0</td>\n",
       "      <td>0.087262</td>\n",
       "      <td>0.088373</td>\n",
       "      <td>160.0</td>\n",
       "      <td>0.138796</td>\n",
       "      <td>0.134136</td>\n",
       "      <td>90</td>\n",
       "      <td>0.085168</td>\n",
       "      <td>0.087495</td>\n",
       "      <td>0.927778</td>\n",
       "      <td>70.2</td>\n",
       "      <td>NaN</td>\n",
       "      <td>108.0</td>\n",
       "      <td>203.01</td>\n",
       "      <td>0</td>\n",
       "      <td>0.0</td>\n",
       "      <td>NaN</td>\n",
       "      <td>9.0</td>\n",
       "      <td>0.56</td>\n",
       "      <td>1.0</td>\n",
       "      <td>1.0</td>\n",
       "      <td>3.0</td>\n",
       "      <td>0.0</td>\n",
       "      <td>1.0</td>\n",
       "      <td>145.0</td>\n",
       "      <td>120.0</td>\n",
       "      <td>36.9</td>\n",
       "      <td>0.0</td>\n",
       "      <td>46.0</td>\n",
       "      <td>37.0</td>\n",
       "      <td>37.0</td>\n",
       "      <td>51.0</td>\n",
       "      <td>7.45</td>\n",
       "      <td>33.0</td>\n",
       "      <td>145.0</td>\n",
       "      <td>35.1</td>\n",
       "      <td>NaN</td>\n",
       "      <td>1.0</td>\n",
       "      <td>12.7</td>\n",
       "      <td>NaN</td>\n",
       "      <td>NaN</td>\n",
       "      <td>95.0</td>\n",
       "      <td>31.0</td>\n",
       "      <td>95.0</td>\n",
       "      <td>31.0</td>\n",
       "      <td>118.0</td>\n",
       "      <td>72.0</td>\n",
       "      <td>NaN</td>\n",
       "      <td>NaN</td>\n",
       "      <td>120.0</td>\n",
       "      <td>38.0</td>\n",
       "      <td>120.0</td>\n",
       "      <td>38.0</td>\n",
       "      <td>32.0</td>\n",
       "      <td>12.0</td>\n",
       "      <td>100.0</td>\n",
       "      <td>70.0</td>\n",
       "      <td>NaN</td>\n",
       "      <td>NaN</td>\n",
       "      <td>159.0</td>\n",
       "      <td>67.0</td>\n",
       "      <td>159.0</td>\n",
       "      <td>67.0</td>\n",
       "      <td>36.3</td>\n",
       "      <td>35.1</td>\n",
       "      <td>NaN</td>\n",
       "      <td>NaN</td>\n",
       "      <td>61.0</td>\n",
       "      <td>48.0</td>\n",
       "      <td>61.0</td>\n",
       "      <td>48.0</td>\n",
       "      <td>114.0</td>\n",
       "      <td>100.0</td>\n",
       "      <td>NaN</td>\n",
       "      <td>NaN</td>\n",
       "      <td>85.0</td>\n",
       "      <td>57.0</td>\n",
       "      <td>85.0</td>\n",
       "      <td>57.0</td>\n",
       "      <td>31.0</td>\n",
       "      <td>28.0</td>\n",
       "      <td>95.0</td>\n",
       "      <td>70.0</td>\n",
       "      <td>NaN</td>\n",
       "      <td>NaN</td>\n",
       "      <td>95.0</td>\n",
       "      <td>71.0</td>\n",
       "      <td>95.0</td>\n",
       "      <td>71.0</td>\n",
       "      <td>36.3</td>\n",
       "      <td>36.3</td>\n",
       "      <td>1.6</td>\n",
       "      <td>1.6</td>\n",
       "      <td>0.5</td>\n",
       "      <td>0.5</td>\n",
       "      <td>11.0</td>\n",
       "      <td>9.0</td>\n",
       "      <td>8.6</td>\n",
       "      <td>8.0</td>\n",
       "      <td>0.71</td>\n",
       "      <td>0.56</td>\n",
       "      <td>145.0</td>\n",
       "      <td>128.0</td>\n",
       "      <td>27.0</td>\n",
       "      <td>26.0</td>\n",
       "      <td>11.3</td>\n",
       "      <td>11.1</td>\n",
       "      <td>36.9</td>\n",
       "      <td>36.1</td>\n",
       "      <td>1.3</td>\n",
       "      <td>1.3</td>\n",
       "      <td>3.5</td>\n",
       "      <td>3.5</td>\n",
       "      <td>557.0</td>\n",
       "      <td>487.0</td>\n",
       "      <td>4.2</td>\n",
       "      <td>3.8</td>\n",
       "      <td>145.0</td>\n",
       "      <td>145.0</td>\n",
       "      <td>23.3</td>\n",
       "      <td>12.7</td>\n",
       "      <td>NaN</td>\n",
       "      <td>NaN</td>\n",
       "      <td>NaN</td>\n",
       "      <td>NaN</td>\n",
       "      <td>9.0</td>\n",
       "      <td>9.0</td>\n",
       "      <td>8.6</td>\n",
       "      <td>8.6</td>\n",
       "      <td>0.56</td>\n",
       "      <td>0.56</td>\n",
       "      <td>145.0</td>\n",
       "      <td>143.0</td>\n",
       "      <td>27.0</td>\n",
       "      <td>27.0</td>\n",
       "      <td>11.3</td>\n",
       "      <td>11.3</td>\n",
       "      <td>36.9</td>\n",
       "      <td>36.9</td>\n",
       "      <td>1.3</td>\n",
       "      <td>1.3</td>\n",
       "      <td>3.5</td>\n",
       "      <td>3.5</td>\n",
       "      <td>557.0</td>\n",
       "      <td>557.0</td>\n",
       "      <td>4.2</td>\n",
       "      <td>4.2</td>\n",
       "      <td>145.0</td>\n",
       "      <td>145.0</td>\n",
       "      <td>12.7</td>\n",
       "      <td>12.7</td>\n",
       "      <td>37.0</td>\n",
       "      <td>37.0</td>\n",
       "      <td>7.45</td>\n",
       "      <td>7.45</td>\n",
       "      <td>51.0</td>\n",
       "      <td>51.0</td>\n",
       "      <td>54.8</td>\n",
       "      <td>51.000000</td>\n",
       "      <td>37.0</td>\n",
       "      <td>37.0</td>\n",
       "      <td>7.45</td>\n",
       "      <td>7.45</td>\n",
       "      <td>51.0</td>\n",
       "      <td>51.0</td>\n",
       "      <td>51.0</td>\n",
       "      <td>51.0</td>\n",
       "      <td>0.47</td>\n",
       "      <td>0.29</td>\n",
       "      <td>0.0</td>\n",
       "      <td>0.0</td>\n",
       "      <td>1.0</td>\n",
       "      <td>0.0</td>\n",
       "      <td>0.0</td>\n",
       "      <td>0.0</td>\n",
       "      <td>0.0</td>\n",
       "      <td>0.0</td>\n",
       "      <td>0.112068</td>\n",
       "      <td>0.112068</td>\n",
       "    </tr>\n",
       "    <tr>\n",
       "      <td>2</td>\n",
       "      <td>118</td>\n",
       "      <td>25.0</td>\n",
       "      <td>31.95</td>\n",
       "      <td>0</td>\n",
       "      <td>0.087262</td>\n",
       "      <td>0.088373</td>\n",
       "      <td>172.7</td>\n",
       "      <td>0.085135</td>\n",
       "      <td>0.086385</td>\n",
       "      <td>93</td>\n",
       "      <td>0.085168</td>\n",
       "      <td>0.087495</td>\n",
       "      <td>0.000694</td>\n",
       "      <td>95.3</td>\n",
       "      <td>NaN</td>\n",
       "      <td>122.0</td>\n",
       "      <td>703.03</td>\n",
       "      <td>0</td>\n",
       "      <td>0.0</td>\n",
       "      <td>NaN</td>\n",
       "      <td>NaN</td>\n",
       "      <td>NaN</td>\n",
       "      <td>NaN</td>\n",
       "      <td>3.0</td>\n",
       "      <td>6.0</td>\n",
       "      <td>0.0</td>\n",
       "      <td>5.0</td>\n",
       "      <td>NaN</td>\n",
       "      <td>102.0</td>\n",
       "      <td>NaN</td>\n",
       "      <td>0.0</td>\n",
       "      <td>68.0</td>\n",
       "      <td>NaN</td>\n",
       "      <td>NaN</td>\n",
       "      <td>NaN</td>\n",
       "      <td>NaN</td>\n",
       "      <td>37.0</td>\n",
       "      <td>NaN</td>\n",
       "      <td>36.7</td>\n",
       "      <td>NaN</td>\n",
       "      <td>0.0</td>\n",
       "      <td>NaN</td>\n",
       "      <td>NaN</td>\n",
       "      <td>NaN</td>\n",
       "      <td>88.0</td>\n",
       "      <td>48.0</td>\n",
       "      <td>88.0</td>\n",
       "      <td>48.0</td>\n",
       "      <td>96.0</td>\n",
       "      <td>68.0</td>\n",
       "      <td>NaN</td>\n",
       "      <td>NaN</td>\n",
       "      <td>102.0</td>\n",
       "      <td>68.0</td>\n",
       "      <td>102.0</td>\n",
       "      <td>68.0</td>\n",
       "      <td>21.0</td>\n",
       "      <td>8.0</td>\n",
       "      <td>98.0</td>\n",
       "      <td>91.0</td>\n",
       "      <td>NaN</td>\n",
       "      <td>NaN</td>\n",
       "      <td>148.0</td>\n",
       "      <td>105.0</td>\n",
       "      <td>148.0</td>\n",
       "      <td>105.0</td>\n",
       "      <td>37.0</td>\n",
       "      <td>36.7</td>\n",
       "      <td>NaN</td>\n",
       "      <td>NaN</td>\n",
       "      <td>88.0</td>\n",
       "      <td>58.0</td>\n",
       "      <td>88.0</td>\n",
       "      <td>58.0</td>\n",
       "      <td>96.0</td>\n",
       "      <td>78.0</td>\n",
       "      <td>NaN</td>\n",
       "      <td>NaN</td>\n",
       "      <td>91.0</td>\n",
       "      <td>83.0</td>\n",
       "      <td>91.0</td>\n",
       "      <td>83.0</td>\n",
       "      <td>20.0</td>\n",
       "      <td>16.0</td>\n",
       "      <td>98.0</td>\n",
       "      <td>91.0</td>\n",
       "      <td>NaN</td>\n",
       "      <td>NaN</td>\n",
       "      <td>148.0</td>\n",
       "      <td>124.0</td>\n",
       "      <td>148.0</td>\n",
       "      <td>124.0</td>\n",
       "      <td>36.7</td>\n",
       "      <td>36.7</td>\n",
       "      <td>NaN</td>\n",
       "      <td>NaN</td>\n",
       "      <td>NaN</td>\n",
       "      <td>NaN</td>\n",
       "      <td>NaN</td>\n",
       "      <td>NaN</td>\n",
       "      <td>NaN</td>\n",
       "      <td>NaN</td>\n",
       "      <td>NaN</td>\n",
       "      <td>NaN</td>\n",
       "      <td>NaN</td>\n",
       "      <td>NaN</td>\n",
       "      <td>NaN</td>\n",
       "      <td>NaN</td>\n",
       "      <td>NaN</td>\n",
       "      <td>NaN</td>\n",
       "      <td>NaN</td>\n",
       "      <td>NaN</td>\n",
       "      <td>NaN</td>\n",
       "      <td>NaN</td>\n",
       "      <td>NaN</td>\n",
       "      <td>NaN</td>\n",
       "      <td>NaN</td>\n",
       "      <td>NaN</td>\n",
       "      <td>NaN</td>\n",
       "      <td>NaN</td>\n",
       "      <td>NaN</td>\n",
       "      <td>NaN</td>\n",
       "      <td>NaN</td>\n",
       "      <td>NaN</td>\n",
       "      <td>NaN</td>\n",
       "      <td>NaN</td>\n",
       "      <td>NaN</td>\n",
       "      <td>NaN</td>\n",
       "      <td>NaN</td>\n",
       "      <td>NaN</td>\n",
       "      <td>NaN</td>\n",
       "      <td>NaN</td>\n",
       "      <td>NaN</td>\n",
       "      <td>NaN</td>\n",
       "      <td>NaN</td>\n",
       "      <td>NaN</td>\n",
       "      <td>NaN</td>\n",
       "      <td>NaN</td>\n",
       "      <td>NaN</td>\n",
       "      <td>NaN</td>\n",
       "      <td>NaN</td>\n",
       "      <td>NaN</td>\n",
       "      <td>NaN</td>\n",
       "      <td>NaN</td>\n",
       "      <td>NaN</td>\n",
       "      <td>NaN</td>\n",
       "      <td>NaN</td>\n",
       "      <td>NaN</td>\n",
       "      <td>NaN</td>\n",
       "      <td>NaN</td>\n",
       "      <td>NaN</td>\n",
       "      <td>NaN</td>\n",
       "      <td>NaN</td>\n",
       "      <td>NaN</td>\n",
       "      <td>NaN</td>\n",
       "      <td>NaN</td>\n",
       "      <td>NaN</td>\n",
       "      <td>NaN</td>\n",
       "      <td>NaN</td>\n",
       "      <td>NaN</td>\n",
       "      <td>NaN</td>\n",
       "      <td>NaN</td>\n",
       "      <td>NaN</td>\n",
       "      <td>NaN</td>\n",
       "      <td>NaN</td>\n",
       "      <td>NaN</td>\n",
       "      <td>NaN</td>\n",
       "      <td>NaN</td>\n",
       "      <td>NaN</td>\n",
       "      <td>NaN</td>\n",
       "      <td>0.00</td>\n",
       "      <td>0.00</td>\n",
       "      <td>0.0</td>\n",
       "      <td>0.0</td>\n",
       "      <td>0.0</td>\n",
       "      <td>0.0</td>\n",
       "      <td>0.0</td>\n",
       "      <td>0.0</td>\n",
       "      <td>0.0</td>\n",
       "      <td>0.0</td>\n",
       "      <td>0.015163</td>\n",
       "      <td>0.015163</td>\n",
       "    </tr>\n",
       "    <tr>\n",
       "      <td>3</td>\n",
       "      <td>118</td>\n",
       "      <td>81.0</td>\n",
       "      <td>22.64</td>\n",
       "      <td>1</td>\n",
       "      <td>0.087262</td>\n",
       "      <td>0.088373</td>\n",
       "      <td>165.1</td>\n",
       "      <td>0.035451</td>\n",
       "      <td>0.037298</td>\n",
       "      <td>92</td>\n",
       "      <td>0.085168</td>\n",
       "      <td>0.060205</td>\n",
       "      <td>0.000694</td>\n",
       "      <td>61.7</td>\n",
       "      <td>NaN</td>\n",
       "      <td>203.0</td>\n",
       "      <td>1206.03</td>\n",
       "      <td>1</td>\n",
       "      <td>0.0</td>\n",
       "      <td>NaN</td>\n",
       "      <td>NaN</td>\n",
       "      <td>NaN</td>\n",
       "      <td>0.6</td>\n",
       "      <td>4.0</td>\n",
       "      <td>6.0</td>\n",
       "      <td>0.0</td>\n",
       "      <td>5.0</td>\n",
       "      <td>185.0</td>\n",
       "      <td>114.0</td>\n",
       "      <td>25.9</td>\n",
       "      <td>1.0</td>\n",
       "      <td>60.0</td>\n",
       "      <td>30.0</td>\n",
       "      <td>30.0</td>\n",
       "      <td>142.0</td>\n",
       "      <td>7.39</td>\n",
       "      <td>4.0</td>\n",
       "      <td>NaN</td>\n",
       "      <td>34.8</td>\n",
       "      <td>NaN</td>\n",
       "      <td>1.0</td>\n",
       "      <td>8.0</td>\n",
       "      <td>62.0</td>\n",
       "      <td>30.0</td>\n",
       "      <td>48.0</td>\n",
       "      <td>42.0</td>\n",
       "      <td>48.0</td>\n",
       "      <td>42.0</td>\n",
       "      <td>116.0</td>\n",
       "      <td>92.0</td>\n",
       "      <td>92.0</td>\n",
       "      <td>52.0</td>\n",
       "      <td>84.0</td>\n",
       "      <td>84.0</td>\n",
       "      <td>84.0</td>\n",
       "      <td>84.0</td>\n",
       "      <td>23.0</td>\n",
       "      <td>7.0</td>\n",
       "      <td>100.0</td>\n",
       "      <td>95.0</td>\n",
       "      <td>164.0</td>\n",
       "      <td>78.0</td>\n",
       "      <td>158.0</td>\n",
       "      <td>84.0</td>\n",
       "      <td>158.0</td>\n",
       "      <td>84.0</td>\n",
       "      <td>38.0</td>\n",
       "      <td>34.8</td>\n",
       "      <td>62.0</td>\n",
       "      <td>44.0</td>\n",
       "      <td>62.0</td>\n",
       "      <td>44.0</td>\n",
       "      <td>NaN</td>\n",
       "      <td>NaN</td>\n",
       "      <td>100.0</td>\n",
       "      <td>96.0</td>\n",
       "      <td>92.0</td>\n",
       "      <td>71.0</td>\n",
       "      <td>92.0</td>\n",
       "      <td>71.0</td>\n",
       "      <td>NaN</td>\n",
       "      <td>NaN</td>\n",
       "      <td>12.0</td>\n",
       "      <td>11.0</td>\n",
       "      <td>100.0</td>\n",
       "      <td>99.0</td>\n",
       "      <td>136.0</td>\n",
       "      <td>106.0</td>\n",
       "      <td>136.0</td>\n",
       "      <td>106.0</td>\n",
       "      <td>NaN</td>\n",
       "      <td>NaN</td>\n",
       "      <td>35.6</td>\n",
       "      <td>34.8</td>\n",
       "      <td>NaN</td>\n",
       "      <td>NaN</td>\n",
       "      <td>NaN</td>\n",
       "      <td>NaN</td>\n",
       "      <td>NaN</td>\n",
       "      <td>NaN</td>\n",
       "      <td>NaN</td>\n",
       "      <td>NaN</td>\n",
       "      <td>NaN</td>\n",
       "      <td>NaN</td>\n",
       "      <td>185.0</td>\n",
       "      <td>88.0</td>\n",
       "      <td>NaN</td>\n",
       "      <td>NaN</td>\n",
       "      <td>11.6</td>\n",
       "      <td>8.9</td>\n",
       "      <td>34.0</td>\n",
       "      <td>25.9</td>\n",
       "      <td>1.6</td>\n",
       "      <td>1.1</td>\n",
       "      <td>NaN</td>\n",
       "      <td>NaN</td>\n",
       "      <td>198.0</td>\n",
       "      <td>43.0</td>\n",
       "      <td>5.0</td>\n",
       "      <td>3.5</td>\n",
       "      <td>NaN</td>\n",
       "      <td>NaN</td>\n",
       "      <td>9.0</td>\n",
       "      <td>8.0</td>\n",
       "      <td>NaN</td>\n",
       "      <td>NaN</td>\n",
       "      <td>NaN</td>\n",
       "      <td>NaN</td>\n",
       "      <td>NaN</td>\n",
       "      <td>NaN</td>\n",
       "      <td>NaN</td>\n",
       "      <td>NaN</td>\n",
       "      <td>NaN</td>\n",
       "      <td>NaN</td>\n",
       "      <td>NaN</td>\n",
       "      <td>NaN</td>\n",
       "      <td>NaN</td>\n",
       "      <td>NaN</td>\n",
       "      <td>11.6</td>\n",
       "      <td>11.6</td>\n",
       "      <td>34.0</td>\n",
       "      <td>34.0</td>\n",
       "      <td>1.6</td>\n",
       "      <td>1.1</td>\n",
       "      <td>NaN</td>\n",
       "      <td>NaN</td>\n",
       "      <td>43.0</td>\n",
       "      <td>43.0</td>\n",
       "      <td>NaN</td>\n",
       "      <td>NaN</td>\n",
       "      <td>NaN</td>\n",
       "      <td>NaN</td>\n",
       "      <td>8.8</td>\n",
       "      <td>8.8</td>\n",
       "      <td>37.0</td>\n",
       "      <td>27.0</td>\n",
       "      <td>7.44</td>\n",
       "      <td>7.34</td>\n",
       "      <td>337.0</td>\n",
       "      <td>102.0</td>\n",
       "      <td>342.5</td>\n",
       "      <td>236.666667</td>\n",
       "      <td>36.0</td>\n",
       "      <td>33.0</td>\n",
       "      <td>7.37</td>\n",
       "      <td>7.34</td>\n",
       "      <td>337.0</td>\n",
       "      <td>265.0</td>\n",
       "      <td>337.0</td>\n",
       "      <td>337.0</td>\n",
       "      <td>0.04</td>\n",
       "      <td>0.03</td>\n",
       "      <td>0.0</td>\n",
       "      <td>0.0</td>\n",
       "      <td>0.0</td>\n",
       "      <td>0.0</td>\n",
       "      <td>0.0</td>\n",
       "      <td>0.0</td>\n",
       "      <td>0.0</td>\n",
       "      <td>0.0</td>\n",
       "      <td>0.079669</td>\n",
       "      <td>0.108383</td>\n",
       "    </tr>\n",
       "    <tr>\n",
       "      <td>4</td>\n",
       "      <td>33</td>\n",
       "      <td>19.0</td>\n",
       "      <td>24.33</td>\n",
       "      <td>0</td>\n",
       "      <td>0.087262</td>\n",
       "      <td>0.084417</td>\n",
       "      <td>188.0</td>\n",
       "      <td>0.085135</td>\n",
       "      <td>0.086385</td>\n",
       "      <td>91</td>\n",
       "      <td>0.085168</td>\n",
       "      <td>0.087495</td>\n",
       "      <td>0.073611</td>\n",
       "      <td>86.0</td>\n",
       "      <td>NaN</td>\n",
       "      <td>119.0</td>\n",
       "      <td>601.01</td>\n",
       "      <td>0</td>\n",
       "      <td>0.0</td>\n",
       "      <td>NaN</td>\n",
       "      <td>NaN</td>\n",
       "      <td>NaN</td>\n",
       "      <td>NaN</td>\n",
       "      <td>NaN</td>\n",
       "      <td>NaN</td>\n",
       "      <td>1.0</td>\n",
       "      <td>NaN</td>\n",
       "      <td>NaN</td>\n",
       "      <td>60.0</td>\n",
       "      <td>NaN</td>\n",
       "      <td>0.0</td>\n",
       "      <td>103.0</td>\n",
       "      <td>NaN</td>\n",
       "      <td>NaN</td>\n",
       "      <td>NaN</td>\n",
       "      <td>NaN</td>\n",
       "      <td>16.0</td>\n",
       "      <td>NaN</td>\n",
       "      <td>36.7</td>\n",
       "      <td>NaN</td>\n",
       "      <td>0.0</td>\n",
       "      <td>NaN</td>\n",
       "      <td>NaN</td>\n",
       "      <td>NaN</td>\n",
       "      <td>99.0</td>\n",
       "      <td>57.0</td>\n",
       "      <td>99.0</td>\n",
       "      <td>57.0</td>\n",
       "      <td>89.0</td>\n",
       "      <td>60.0</td>\n",
       "      <td>NaN</td>\n",
       "      <td>NaN</td>\n",
       "      <td>104.0</td>\n",
       "      <td>90.0</td>\n",
       "      <td>104.0</td>\n",
       "      <td>90.0</td>\n",
       "      <td>18.0</td>\n",
       "      <td>16.0</td>\n",
       "      <td>100.0</td>\n",
       "      <td>96.0</td>\n",
       "      <td>NaN</td>\n",
       "      <td>NaN</td>\n",
       "      <td>147.0</td>\n",
       "      <td>120.0</td>\n",
       "      <td>147.0</td>\n",
       "      <td>120.0</td>\n",
       "      <td>37.2</td>\n",
       "      <td>36.7</td>\n",
       "      <td>NaN</td>\n",
       "      <td>NaN</td>\n",
       "      <td>99.0</td>\n",
       "      <td>68.0</td>\n",
       "      <td>99.0</td>\n",
       "      <td>68.0</td>\n",
       "      <td>89.0</td>\n",
       "      <td>76.0</td>\n",
       "      <td>NaN</td>\n",
       "      <td>NaN</td>\n",
       "      <td>104.0</td>\n",
       "      <td>92.0</td>\n",
       "      <td>104.0</td>\n",
       "      <td>92.0</td>\n",
       "      <td>NaN</td>\n",
       "      <td>NaN</td>\n",
       "      <td>100.0</td>\n",
       "      <td>100.0</td>\n",
       "      <td>NaN</td>\n",
       "      <td>NaN</td>\n",
       "      <td>130.0</td>\n",
       "      <td>120.0</td>\n",
       "      <td>130.0</td>\n",
       "      <td>120.0</td>\n",
       "      <td>NaN</td>\n",
       "      <td>NaN</td>\n",
       "      <td>NaN</td>\n",
       "      <td>NaN</td>\n",
       "      <td>NaN</td>\n",
       "      <td>NaN</td>\n",
       "      <td>NaN</td>\n",
       "      <td>NaN</td>\n",
       "      <td>NaN</td>\n",
       "      <td>NaN</td>\n",
       "      <td>NaN</td>\n",
       "      <td>NaN</td>\n",
       "      <td>NaN</td>\n",
       "      <td>NaN</td>\n",
       "      <td>NaN</td>\n",
       "      <td>NaN</td>\n",
       "      <td>NaN</td>\n",
       "      <td>NaN</td>\n",
       "      <td>NaN</td>\n",
       "      <td>NaN</td>\n",
       "      <td>NaN</td>\n",
       "      <td>NaN</td>\n",
       "      <td>NaN</td>\n",
       "      <td>NaN</td>\n",
       "      <td>NaN</td>\n",
       "      <td>NaN</td>\n",
       "      <td>NaN</td>\n",
       "      <td>NaN</td>\n",
       "      <td>NaN</td>\n",
       "      <td>NaN</td>\n",
       "      <td>NaN</td>\n",
       "      <td>NaN</td>\n",
       "      <td>NaN</td>\n",
       "      <td>NaN</td>\n",
       "      <td>NaN</td>\n",
       "      <td>NaN</td>\n",
       "      <td>NaN</td>\n",
       "      <td>NaN</td>\n",
       "      <td>NaN</td>\n",
       "      <td>NaN</td>\n",
       "      <td>NaN</td>\n",
       "      <td>NaN</td>\n",
       "      <td>NaN</td>\n",
       "      <td>NaN</td>\n",
       "      <td>NaN</td>\n",
       "      <td>NaN</td>\n",
       "      <td>NaN</td>\n",
       "      <td>NaN</td>\n",
       "      <td>NaN</td>\n",
       "      <td>NaN</td>\n",
       "      <td>NaN</td>\n",
       "      <td>NaN</td>\n",
       "      <td>NaN</td>\n",
       "      <td>NaN</td>\n",
       "      <td>NaN</td>\n",
       "      <td>NaN</td>\n",
       "      <td>NaN</td>\n",
       "      <td>NaN</td>\n",
       "      <td>NaN</td>\n",
       "      <td>NaN</td>\n",
       "      <td>NaN</td>\n",
       "      <td>NaN</td>\n",
       "      <td>NaN</td>\n",
       "      <td>NaN</td>\n",
       "      <td>NaN</td>\n",
       "      <td>NaN</td>\n",
       "      <td>NaN</td>\n",
       "      <td>NaN</td>\n",
       "      <td>NaN</td>\n",
       "      <td>NaN</td>\n",
       "      <td>NaN</td>\n",
       "      <td>NaN</td>\n",
       "      <td>NaN</td>\n",
       "      <td>NaN</td>\n",
       "      <td>NaN</td>\n",
       "      <td>NaN</td>\n",
       "      <td>NaN</td>\n",
       "      <td>NaN</td>\n",
       "      <td>NaN</td>\n",
       "      <td>NaN</td>\n",
       "      <td>0.0</td>\n",
       "      <td>0.0</td>\n",
       "      <td>0.0</td>\n",
       "      <td>0.0</td>\n",
       "      <td>0.0</td>\n",
       "      <td>0.0</td>\n",
       "      <td>0.0</td>\n",
       "      <td>0.0</td>\n",
       "      <td>0.067413</td>\n",
       "      <td>0.067413</td>\n",
       "    </tr>\n",
       "  </tbody>\n",
       "</table>\n",
       "</div>"
      ],
      "text/plain": [
       "   hospital_id   age    bmi  elective_surgery  ethnicity    gender  height  \\\n",
       "0          118  68.0  22.73                 0   0.087262  0.084417   180.3   \n",
       "1           81  77.0  27.42                 0   0.087262  0.088373   160.0   \n",
       "2          118  25.0  31.95                 0   0.087262  0.088373   172.7   \n",
       "3          118  81.0  22.64                 1   0.087262  0.088373   165.1   \n",
       "4           33  19.0  24.33                 0   0.087262  0.084417   188.0   \n",
       "\n",
       "   hospital_admit_source  icu_admit_source  icu_id  icu_stay_type  icu_type  \\\n",
       "0               0.138796          0.134136      92       0.085168  0.060205   \n",
       "1               0.138796          0.134136      90       0.085168  0.087495   \n",
       "2               0.085135          0.086385      93       0.085168  0.087495   \n",
       "3               0.035451          0.037298      92       0.085168  0.060205   \n",
       "4               0.085135          0.086385      91       0.085168  0.087495   \n",
       "\n",
       "   pre_icu_los_days  weight  albumin_apache  apache_2_diagnosis  \\\n",
       "0          0.541667    73.9             2.3               113.0   \n",
       "1          0.927778    70.2             NaN               108.0   \n",
       "2          0.000694    95.3             NaN               122.0   \n",
       "3          0.000694    61.7             NaN               203.0   \n",
       "4          0.073611    86.0             NaN               119.0   \n",
       "\n",
       "   apache_3j_diagnosis  apache_post_operative  arf_apache  bilirubin_apache  \\\n",
       "0               502.01                      0         0.0               0.4   \n",
       "1               203.01                      0         0.0               NaN   \n",
       "2               703.03                      0         0.0               NaN   \n",
       "3              1206.03                      1         0.0               NaN   \n",
       "4               601.01                      0         0.0               NaN   \n",
       "\n",
       "   bun_apache  creatinine_apache  fio2_apache  gcs_eyes_apache  \\\n",
       "0        31.0               2.51          NaN              3.0   \n",
       "1         9.0               0.56          1.0              1.0   \n",
       "2         NaN                NaN          NaN              3.0   \n",
       "3         NaN                NaN          0.6              4.0   \n",
       "4         NaN                NaN          NaN              NaN   \n",
       "\n",
       "   gcs_motor_apache  gcs_unable_apache  gcs_verbal_apache  glucose_apache  \\\n",
       "0               6.0                0.0                4.0           168.0   \n",
       "1               3.0                0.0                1.0           145.0   \n",
       "2               6.0                0.0                5.0             NaN   \n",
       "3               6.0                0.0                5.0           185.0   \n",
       "4               NaN                1.0                NaN             NaN   \n",
       "\n",
       "   heart_rate_apache  hematocrit_apache  intubated_apache  map_apache  \\\n",
       "0              118.0               27.4               0.0        40.0   \n",
       "1              120.0               36.9               0.0        46.0   \n",
       "2              102.0                NaN               0.0        68.0   \n",
       "3              114.0               25.9               1.0        60.0   \n",
       "4               60.0                NaN               0.0       103.0   \n",
       "\n",
       "   paco2_apache  paco2_for_ph_apache  pao2_apache  ph_apache  resprate_apache  \\\n",
       "0           NaN                  NaN          NaN        NaN             36.0   \n",
       "1          37.0                 37.0         51.0       7.45             33.0   \n",
       "2           NaN                  NaN          NaN        NaN             37.0   \n",
       "3          30.0                 30.0        142.0       7.39              4.0   \n",
       "4           NaN                  NaN          NaN        NaN             16.0   \n",
       "\n",
       "   sodium_apache  temp_apache  urineoutput_apache  ventilated_apache  \\\n",
       "0          134.0         39.3                 NaN                0.0   \n",
       "1          145.0         35.1                 NaN                1.0   \n",
       "2            NaN         36.7                 NaN                0.0   \n",
       "3            NaN         34.8                 NaN                1.0   \n",
       "4            NaN         36.7                 NaN                0.0   \n",
       "\n",
       "   wbc_apache  d1_diasbp_invasive_max  d1_diasbp_invasive_min  d1_diasbp_max  \\\n",
       "0        14.1                    46.0                    32.0           68.0   \n",
       "1        12.7                     NaN                     NaN           95.0   \n",
       "2         NaN                     NaN                     NaN           88.0   \n",
       "3         8.0                    62.0                    30.0           48.0   \n",
       "4         NaN                     NaN                     NaN           99.0   \n",
       "\n",
       "   d1_diasbp_min  d1_diasbp_noninvasive_max  d1_diasbp_noninvasive_min  \\\n",
       "0           37.0                       68.0                       37.0   \n",
       "1           31.0                       95.0                       31.0   \n",
       "2           48.0                       88.0                       48.0   \n",
       "3           42.0                       48.0                       42.0   \n",
       "4           57.0                       99.0                       57.0   \n",
       "\n",
       "   d1_heartrate_max  d1_heartrate_min  d1_mbp_invasive_max  \\\n",
       "0             119.0              72.0                 66.0   \n",
       "1             118.0              72.0                  NaN   \n",
       "2              96.0              68.0                  NaN   \n",
       "3             116.0              92.0                 92.0   \n",
       "4              89.0              60.0                  NaN   \n",
       "\n",
       "   d1_mbp_invasive_min  d1_mbp_max  d1_mbp_min  d1_mbp_noninvasive_max  \\\n",
       "0                 40.0        89.0        46.0                    89.0   \n",
       "1                  NaN       120.0        38.0                   120.0   \n",
       "2                  NaN       102.0        68.0                   102.0   \n",
       "3                 52.0        84.0        84.0                    84.0   \n",
       "4                  NaN       104.0        90.0                   104.0   \n",
       "\n",
       "   d1_mbp_noninvasive_min  d1_resprate_max  d1_resprate_min  d1_spo2_max  \\\n",
       "0                    46.0             34.0             10.0        100.0   \n",
       "1                    38.0             32.0             12.0        100.0   \n",
       "2                    68.0             21.0              8.0         98.0   \n",
       "3                    84.0             23.0              7.0        100.0   \n",
       "4                    90.0             18.0             16.0        100.0   \n",
       "\n",
       "   d1_spo2_min  d1_sysbp_invasive_max  d1_sysbp_invasive_min  d1_sysbp_max  \\\n",
       "0         74.0                  122.0                   64.0         131.0   \n",
       "1         70.0                    NaN                    NaN         159.0   \n",
       "2         91.0                    NaN                    NaN         148.0   \n",
       "3         95.0                  164.0                   78.0         158.0   \n",
       "4         96.0                    NaN                    NaN         147.0   \n",
       "\n",
       "   d1_sysbp_min  d1_sysbp_noninvasive_max  d1_sysbp_noninvasive_min  \\\n",
       "0          73.0                     131.0                      73.0   \n",
       "1          67.0                     159.0                      67.0   \n",
       "2         105.0                     148.0                     105.0   \n",
       "3          84.0                     158.0                      84.0   \n",
       "4         120.0                     147.0                     120.0   \n",
       "\n",
       "   d1_temp_max  d1_temp_min  h1_diasbp_invasive_max  h1_diasbp_invasive_min  \\\n",
       "0         39.9         37.2                     NaN                     NaN   \n",
       "1         36.3         35.1                     NaN                     NaN   \n",
       "2         37.0         36.7                     NaN                     NaN   \n",
       "3         38.0         34.8                    62.0                    44.0   \n",
       "4         37.2         36.7                     NaN                     NaN   \n",
       "\n",
       "   h1_diasbp_max  h1_diasbp_min  h1_diasbp_noninvasive_max  \\\n",
       "0           68.0           63.0                       68.0   \n",
       "1           61.0           48.0                       61.0   \n",
       "2           88.0           58.0                       88.0   \n",
       "3           62.0           44.0                        NaN   \n",
       "4           99.0           68.0                       99.0   \n",
       "\n",
       "   h1_diasbp_noninvasive_min  h1_heartrate_max  h1_heartrate_min  \\\n",
       "0                       63.0             119.0             108.0   \n",
       "1                       48.0             114.0             100.0   \n",
       "2                       58.0              96.0              78.0   \n",
       "3                        NaN             100.0              96.0   \n",
       "4                       68.0              89.0              76.0   \n",
       "\n",
       "   h1_mbp_invasive_max  h1_mbp_invasive_min  h1_mbp_max  h1_mbp_min  \\\n",
       "0                  NaN                  NaN        86.0        85.0   \n",
       "1                  NaN                  NaN        85.0        57.0   \n",
       "2                  NaN                  NaN        91.0        83.0   \n",
       "3                 92.0                 71.0        92.0        71.0   \n",
       "4                  NaN                  NaN       104.0        92.0   \n",
       "\n",
       "   h1_mbp_noninvasive_max  h1_mbp_noninvasive_min  h1_resprate_max  \\\n",
       "0                    86.0                    85.0             26.0   \n",
       "1                    85.0                    57.0             31.0   \n",
       "2                    91.0                    83.0             20.0   \n",
       "3                     NaN                     NaN             12.0   \n",
       "4                   104.0                    92.0              NaN   \n",
       "\n",
       "   h1_resprate_min  h1_spo2_max  h1_spo2_min  h1_sysbp_invasive_max  \\\n",
       "0             18.0        100.0         74.0                    NaN   \n",
       "1             28.0         95.0         70.0                    NaN   \n",
       "2             16.0         98.0         91.0                    NaN   \n",
       "3             11.0        100.0         99.0                  136.0   \n",
       "4              NaN        100.0        100.0                    NaN   \n",
       "\n",
       "   h1_sysbp_invasive_min  h1_sysbp_max  h1_sysbp_min  \\\n",
       "0                    NaN         131.0         115.0   \n",
       "1                    NaN          95.0          71.0   \n",
       "2                    NaN         148.0         124.0   \n",
       "3                  106.0         136.0         106.0   \n",
       "4                    NaN         130.0         120.0   \n",
       "\n",
       "   h1_sysbp_noninvasive_max  h1_sysbp_noninvasive_min  h1_temp_max  \\\n",
       "0                     131.0                     115.0         39.5   \n",
       "1                      95.0                      71.0         36.3   \n",
       "2                     148.0                     124.0         36.7   \n",
       "3                       NaN                       NaN         35.6   \n",
       "4                     130.0                     120.0          NaN   \n",
       "\n",
       "   h1_temp_min  d1_albumin_max  d1_albumin_min  d1_bilirubin_max  \\\n",
       "0         37.5             2.3             2.3               0.4   \n",
       "1         36.3             1.6             1.6               0.5   \n",
       "2         36.7             NaN             NaN               NaN   \n",
       "3         34.8             NaN             NaN               NaN   \n",
       "4          NaN             NaN             NaN               NaN   \n",
       "\n",
       "   d1_bilirubin_min  d1_bun_max  d1_bun_min  d1_calcium_max  d1_calcium_min  \\\n",
       "0               0.4        31.0        30.0             8.5             7.4   \n",
       "1               0.5        11.0         9.0             8.6             8.0   \n",
       "2               NaN         NaN         NaN             NaN             NaN   \n",
       "3               NaN         NaN         NaN             NaN             NaN   \n",
       "4               NaN         NaN         NaN             NaN             NaN   \n",
       "\n",
       "   d1_creatinine_max  d1_creatinine_min  d1_glucose_max  d1_glucose_min  \\\n",
       "0               2.51               2.23           168.0           109.0   \n",
       "1               0.71               0.56           145.0           128.0   \n",
       "2                NaN                NaN             NaN             NaN   \n",
       "3                NaN                NaN           185.0            88.0   \n",
       "4                NaN                NaN             NaN             NaN   \n",
       "\n",
       "   d1_hco3_max  d1_hco3_min  d1_hemaglobin_max  d1_hemaglobin_min  \\\n",
       "0         19.0         15.0                8.9                8.9   \n",
       "1         27.0         26.0               11.3               11.1   \n",
       "2          NaN          NaN                NaN                NaN   \n",
       "3          NaN          NaN               11.6                8.9   \n",
       "4          NaN          NaN                NaN                NaN   \n",
       "\n",
       "   d1_hematocrit_max  d1_hematocrit_min  d1_inr_max  d1_inr_min  \\\n",
       "0               27.4               27.4         NaN         NaN   \n",
       "1               36.9               36.1         1.3         1.3   \n",
       "2                NaN                NaN         NaN         NaN   \n",
       "3               34.0               25.9         1.6         1.1   \n",
       "4                NaN                NaN         NaN         NaN   \n",
       "\n",
       "   d1_lactate_max  d1_lactate_min  d1_platelets_max  d1_platelets_min  \\\n",
       "0             1.3             1.0             233.0             233.0   \n",
       "1             3.5             3.5             557.0             487.0   \n",
       "2             NaN             NaN               NaN               NaN   \n",
       "3             NaN             NaN             198.0              43.0   \n",
       "4             NaN             NaN               NaN               NaN   \n",
       "\n",
       "   d1_potassium_max  d1_potassium_min  d1_sodium_max  d1_sodium_min  \\\n",
       "0               4.0               3.4          136.0          134.0   \n",
       "1               4.2               3.8          145.0          145.0   \n",
       "2               NaN               NaN            NaN            NaN   \n",
       "3               5.0               3.5            NaN            NaN   \n",
       "4               NaN               NaN            NaN            NaN   \n",
       "\n",
       "   d1_wbc_max  d1_wbc_min  h1_albumin_max  h1_albumin_min  h1_bilirubin_max  \\\n",
       "0        14.1        14.1             NaN             NaN               NaN   \n",
       "1        23.3        12.7             NaN             NaN               NaN   \n",
       "2         NaN         NaN             NaN             NaN               NaN   \n",
       "3         9.0         8.0             NaN             NaN               NaN   \n",
       "4         NaN         NaN             NaN             NaN               NaN   \n",
       "\n",
       "   h1_bilirubin_min  h1_bun_max  h1_bun_min  h1_calcium_max  h1_calcium_min  \\\n",
       "0               NaN         NaN         NaN             NaN             NaN   \n",
       "1               NaN         9.0         9.0             8.6             8.6   \n",
       "2               NaN         NaN         NaN             NaN             NaN   \n",
       "3               NaN         NaN         NaN             NaN             NaN   \n",
       "4               NaN         NaN         NaN             NaN             NaN   \n",
       "\n",
       "   h1_creatinine_max  h1_creatinine_min  h1_glucose_max  h1_glucose_min  \\\n",
       "0                NaN                NaN             NaN             NaN   \n",
       "1               0.56               0.56           145.0           143.0   \n",
       "2                NaN                NaN             NaN             NaN   \n",
       "3                NaN                NaN             NaN             NaN   \n",
       "4                NaN                NaN             NaN             NaN   \n",
       "\n",
       "   h1_hco3_max  h1_hco3_min  h1_hemaglobin_max  h1_hemaglobin_min  \\\n",
       "0          NaN          NaN                NaN                NaN   \n",
       "1         27.0         27.0               11.3               11.3   \n",
       "2          NaN          NaN                NaN                NaN   \n",
       "3          NaN          NaN               11.6               11.6   \n",
       "4          NaN          NaN                NaN                NaN   \n",
       "\n",
       "   h1_hematocrit_max  h1_hematocrit_min  h1_inr_max  h1_inr_min  \\\n",
       "0                NaN                NaN         NaN         NaN   \n",
       "1               36.9               36.9         1.3         1.3   \n",
       "2                NaN                NaN         NaN         NaN   \n",
       "3               34.0               34.0         1.6         1.1   \n",
       "4                NaN                NaN         NaN         NaN   \n",
       "\n",
       "   h1_lactate_max  h1_lactate_min  h1_platelets_max  h1_platelets_min  \\\n",
       "0             NaN             NaN               NaN               NaN   \n",
       "1             3.5             3.5             557.0             557.0   \n",
       "2             NaN             NaN               NaN               NaN   \n",
       "3             NaN             NaN              43.0              43.0   \n",
       "4             NaN             NaN               NaN               NaN   \n",
       "\n",
       "   h1_potassium_max  h1_potassium_min  h1_sodium_max  h1_sodium_min  \\\n",
       "0               NaN               NaN            NaN            NaN   \n",
       "1               4.2               4.2          145.0          145.0   \n",
       "2               NaN               NaN            NaN            NaN   \n",
       "3               NaN               NaN            NaN            NaN   \n",
       "4               NaN               NaN            NaN            NaN   \n",
       "\n",
       "   h1_wbc_max  h1_wbc_min  d1_arterial_pco2_max  d1_arterial_pco2_min  \\\n",
       "0         NaN         NaN                   NaN                   NaN   \n",
       "1        12.7        12.7                  37.0                  37.0   \n",
       "2         NaN         NaN                   NaN                   NaN   \n",
       "3         8.8         8.8                  37.0                  27.0   \n",
       "4         NaN         NaN                   NaN                   NaN   \n",
       "\n",
       "   d1_arterial_ph_max  d1_arterial_ph_min  d1_arterial_po2_max  \\\n",
       "0                 NaN                 NaN                  NaN   \n",
       "1                7.45                7.45                 51.0   \n",
       "2                 NaN                 NaN                  NaN   \n",
       "3                7.44                7.34                337.0   \n",
       "4                 NaN                 NaN                  NaN   \n",
       "\n",
       "   d1_arterial_po2_min  d1_pao2fio2ratio_max  d1_pao2fio2ratio_min  \\\n",
       "0                  NaN                   NaN                   NaN   \n",
       "1                 51.0                  54.8             51.000000   \n",
       "2                  NaN                   NaN                   NaN   \n",
       "3                102.0                 342.5            236.666667   \n",
       "4                  NaN                   NaN                   NaN   \n",
       "\n",
       "   h1_arterial_pco2_max  h1_arterial_pco2_min  h1_arterial_ph_max  \\\n",
       "0                   NaN                   NaN                 NaN   \n",
       "1                  37.0                  37.0                7.45   \n",
       "2                   NaN                   NaN                 NaN   \n",
       "3                  36.0                  33.0                7.37   \n",
       "4                   NaN                   NaN                 NaN   \n",
       "\n",
       "   h1_arterial_ph_min  h1_arterial_po2_max  h1_arterial_po2_min  \\\n",
       "0                 NaN                  NaN                  NaN   \n",
       "1                7.45                 51.0                 51.0   \n",
       "2                 NaN                  NaN                  NaN   \n",
       "3                7.34                337.0                265.0   \n",
       "4                 NaN                  NaN                  NaN   \n",
       "\n",
       "   h1_pao2fio2ratio_max  h1_pao2fio2ratio_min  apache_4a_hospital_death_prob  \\\n",
       "0                   NaN                   NaN                           0.10   \n",
       "1                  51.0                  51.0                           0.47   \n",
       "2                   NaN                   NaN                           0.00   \n",
       "3                 337.0                 337.0                           0.04   \n",
       "4                   NaN                   NaN                            NaN   \n",
       "\n",
       "   apache_4a_icu_death_prob  aids  cirrhosis  diabetes_mellitus  \\\n",
       "0                      0.05   0.0        0.0                1.0   \n",
       "1                      0.29   0.0        0.0                1.0   \n",
       "2                      0.00   0.0        0.0                0.0   \n",
       "3                      0.03   0.0        0.0                0.0   \n",
       "4                       NaN   0.0        0.0                0.0   \n",
       "\n",
       "   hepatic_failure  immunosuppression  leukemia  lymphoma  \\\n",
       "0              0.0                0.0       0.0       0.0   \n",
       "1              0.0                0.0       0.0       0.0   \n",
       "2              0.0                0.0       0.0       0.0   \n",
       "3              0.0                0.0       0.0       0.0   \n",
       "4              0.0                0.0       0.0       0.0   \n",
       "\n",
       "   solid_tumor_with_metastasis  apache_3j_bodysystem  apache_2_bodysystem  \n",
       "0                          0.0              0.157922             0.108383  \n",
       "1                          0.0              0.112068             0.112068  \n",
       "2                          0.0              0.015163             0.015163  \n",
       "3                          0.0              0.079669             0.108383  \n",
       "4                          0.0              0.067413             0.067413  "
      ]
     },
     "execution_count": 140,
     "metadata": {},
     "output_type": "execute_result"
    }
   ],
   "source": [
    "X.head()"
   ]
  },
  {
   "cell_type": "code",
   "execution_count": 102,
   "metadata": {},
   "outputs": [],
   "source": [
    "def add_noise(series, noise_level):\n",
    "    return series * (1 + noise_level * np.random.randn(len(series)))\n",
    "\n",
    "def target_encode(train_series=None,test_series=None,target=None, min_samples_leaf=1, smoothing=1,noise_level=0):\n",
    "\n",
    "    assert len(train_series) == len(target)\n",
    "    assert train_series.name == test_series.name\n",
    "    temp = pd.concat([train_series, target], axis=1)\n",
    "    \n",
    "    # Compute target mean \n",
    "    averages = temp.groupby(by=train_series.name)[target.name].agg([\"mean\", \"count\"])\n",
    "    # Compute smoothing\n",
    "    smoothing = 1 / (1 + np.exp(-(averages[\"count\"] - min_samples_leaf) / smoothing))\n",
    "    # Apply average function to all target data\n",
    "    prior = target.mean()\n",
    "    # The bigger the count the less full_avg is taken into account\n",
    "    averages[target.name] = prior * (1 - smoothing) + averages[\"mean\"] * smoothing\n",
    "    averages.drop([\"mean\", \"count\"], axis=1, inplace=True)\n",
    "    # Apply averages to train and test series\n",
    "    ft_train_series = pd.merge(\n",
    "        train_series.to_frame(train_series.name),\n",
    "        averages.reset_index().rename(columns={'index': target.name, target.name: 'average'}),\n",
    "        on=train_series.name,\n",
    "        how='left')['average'].rename(train_series.name + '_mean').fillna(prior)\n",
    "    # pd.merge does not keep the index so restore it\n",
    "    ft_train_series.index = train_series.index \n",
    "    ft_test_series = pd.merge(\n",
    "        test_series.to_frame(test_series.name),\n",
    "        averages.reset_index().rename(columns={'index': target.name, target.name: 'average'}),\n",
    "        on=test_series.name,\n",
    "        how='left')['average'].rename(train_series.name + '_mean').fillna(prior)\n",
    "    # pd.merge does not keep the index so restore it\n",
    "    ft_test_series.index = test_series.index\n",
    "    return add_noise(ft_train_series, noise_level), add_noise(ft_test_series, noise_level)"
   ]
  },
  {
   "cell_type": "code",
   "execution_count": 103,
   "metadata": {},
   "outputs": [
    {
     "data": {
      "text/plain": [
       "0    0.137638\n",
       "1    0.136338\n",
       "2    0.086108\n",
       "3    0.035977\n",
       "4    0.084729\n",
       "5    0.101539\n",
       "6    0.035629\n",
       "7    0.085130\n",
       "8    0.131776\n",
       "9    0.101404\n",
       "Name: hospital_admit_source_mean, dtype: float64"
      ]
     },
     "execution_count": 103,
     "metadata": {},
     "output_type": "execute_result"
    }
   ],
   "source": [
    "train, sub = target_encode(train[\"hospital_admit_source\"], \n",
    "                           test[\"hospital_admit_source\"], \n",
    "                           target=train.hospital_death, \n",
    "                           min_samples_leaf=100,\n",
    "                           smoothing=10,\n",
    "                           noise_level=0.01)\n",
    "train.head(10)"
   ]
  },
  {
   "cell_type": "markdown",
   "metadata": {},
   "source": [
    "### v1. Create dummy variables for categorical variables"
   ]
  },
  {
   "cell_type": "code",
   "execution_count": 8,
   "metadata": {},
   "outputs": [],
   "source": [
    "#pd.get_dummies(train[categorical_cols])"
   ]
  },
  {
   "cell_type": "code",
   "execution_count": 9,
   "metadata": {},
   "outputs": [
    {
     "name": "stdout",
     "output_type": "stream",
     "text": [
      "(91713, 53)\n"
     ]
    },
    {
     "data": {
      "text/plain": [
       "(91713, 228)"
      ]
     },
     "execution_count": 9,
     "metadata": {},
     "output_type": "execute_result"
    }
   ],
   "source": [
    "dummies = pd.get_dummies(train[categorical_cols]).drop(columns = ['ethnicity_Other/Unknown','gender_Unknown','hospital_admit_source_Unknown','icu_admit_source_Unknown','icu_stay_type_transfer','icu_type_SICU', 'apache_3j_bodysystem_Unknown','apache_2_bodysystem_Unknown'])\n",
    "print(dummies.shape)\n",
    "train_m = pd.concat([train.drop(columns=categorical_cols),dummies],axis=1)\n",
    "train_m.shape"
   ]
  },
  {
   "cell_type": "code",
   "execution_count": 10,
   "metadata": {},
   "outputs": [],
   "source": [
    "#pd.get_dummies(test[categorical_cols])"
   ]
  },
  {
   "cell_type": "code",
   "execution_count": 11,
   "metadata": {},
   "outputs": [
    {
     "name": "stdout",
     "output_type": "stream",
     "text": [
      "(39308, 53)\n"
     ]
    },
    {
     "data": {
      "text/plain": [
       "(39308, 228)"
      ]
     },
     "execution_count": 11,
     "metadata": {},
     "output_type": "execute_result"
    }
   ],
   "source": [
    "dummies = pd.get_dummies(test[categorical_cols]).drop(columns = ['ethnicity_Other/Unknown','gender_Unknown','hospital_admit_source_Unknown','icu_admit_source_Unknown','icu_stay_type_transfer','icu_type_SICU', 'apache_3j_bodysystem_Unknown','apache_2_bodysystem_Unknown'])\n",
    "print(dummies.shape)\n",
    "test_m = pd.concat([test.drop(columns=categorical_cols),dummies],axis=1)\n",
    "test_m.shape"
   ]
  },
  {
   "cell_type": "markdown",
   "metadata": {},
   "source": [
    "### v1 - b. creating independent features X and dependant feature y"
   ]
  },
  {
   "cell_type": "code",
   "execution_count": 12,
   "metadata": {},
   "outputs": [
    {
     "name": "stdout",
     "output_type": "stream",
     "text": [
      "(91713, 227) (39308, 227)\n"
     ]
    }
   ],
   "source": [
    "X = train_m.drop(columns=['hospital_death'])\n",
    "y = train_m.hospital_death\n",
    "test_m = test_m.drop(\"encounter_id\", axis=1)\n",
    "\n",
    "print(X.shape, test_m.shape)"
   ]
  },
  {
   "cell_type": "markdown",
   "metadata": {},
   "source": [
    "### 3. Remove Features with more than 75 percent missing values"
   ]
  },
  {
   "cell_type": "code",
   "execution_count": 13,
   "metadata": {},
   "outputs": [],
   "source": [
    "#X.isnull().mean().sort_values(ascending=False)"
   ]
  },
  {
   "cell_type": "code",
   "execution_count": 141,
   "metadata": {},
   "outputs": [
    {
     "name": "stdout",
     "output_type": "stream",
     "text": [
      "independent features X's dimension is:  (91713, 137)\n"
     ]
    }
   ],
   "source": [
    "train_missing = X.isnull().mean().sort_values(ascending = False)\n",
    "train_missing = train_missing.index[train_missing > 0.75]\n",
    "#print(train_missing)\n",
    "X = X.drop(columns = train_missing)\n",
    "print(\"independent features X's dimension is: \",X.shape)\n",
    "test_m = test_m.drop(columns = train_missing)"
   ]
  },
  {
   "cell_type": "markdown",
   "metadata": {},
   "source": [
    "### 4. Impute missing data using SimpleImputer"
   ]
  },
  {
   "cell_type": "code",
   "execution_count": 142,
   "metadata": {},
   "outputs": [],
   "source": [
    "imputer = SimpleImputer(strategy = 'mean')"
   ]
  },
  {
   "cell_type": "code",
   "execution_count": 143,
   "metadata": {},
   "outputs": [],
   "source": [
    "X_imputed = imputer.fit_transform(X)\n",
    "test_imputed = imputer.fit_transform(test_m)"
   ]
  },
  {
   "cell_type": "code",
   "execution_count": 144,
   "metadata": {},
   "outputs": [
    {
     "data": {
      "text/plain": [
       "array([[1.18000000e+02, 6.80000000e+01, 2.27300000e+01, ...,\n",
       "        0.00000000e+00, 1.57921635e-01, 1.08383141e-01],\n",
       "       [8.10000000e+01, 7.70000000e+01, 2.74200000e+01, ...,\n",
       "        0.00000000e+00, 1.12068223e-01, 1.12068223e-01],\n",
       "       [1.18000000e+02, 2.50000000e+01, 3.19500000e+01, ...,\n",
       "        0.00000000e+00, 1.51633987e-02, 1.51633987e-02],\n",
       "       ...,\n",
       "       [1.95000000e+02, 4.80000000e+01, 2.72369135e+01, ...,\n",
       "        0.00000000e+00, 1.51633987e-02, 1.51633987e-02],\n",
       "       [6.60000000e+01, 0.00000000e+00, 2.32974813e+01, ...,\n",
       "        0.00000000e+00, 1.12068223e-01, 1.12068223e-01],\n",
       "       [1.04000000e+02, 8.20000000e+01, 2.20312500e+01, ...,\n",
       "        0.00000000e+00, 7.42300022e-02, 7.42300022e-02]])"
      ]
     },
     "execution_count": 144,
     "metadata": {},
     "output_type": "execute_result"
    }
   ],
   "source": [
    "X_imputed"
   ]
  },
  {
   "cell_type": "markdown",
   "metadata": {},
   "source": [
    "## Train Test Split"
   ]
  },
  {
   "cell_type": "code",
   "execution_count": 145,
   "metadata": {},
   "outputs": [
    {
     "name": "stdout",
     "output_type": "stream",
     "text": [
      "(68784, 137) (22929, 137)\n"
     ]
    }
   ],
   "source": [
    "X_train,X_test,y_train,y_test = train_test_split(X_imputed, y, test_size=0.25, random_state=42, stratify=y)\n",
    "print(X_train.shape, X_test.shape)"
   ]
  },
  {
   "cell_type": "markdown",
   "metadata": {},
   "source": [
    "## StandardScaler"
   ]
  },
  {
   "cell_type": "markdown",
   "metadata": {},
   "source": [
    "## Oversampling the Minority Class"
   ]
  },
  {
   "cell_type": "code",
   "execution_count": 146,
   "metadata": {},
   "outputs": [
    {
     "name": "stderr",
     "output_type": "stream",
     "text": [
      "C:\\Users\\dai_f\\Anaconda3\\lib\\site-packages\\sklearn\\utils\\deprecation.py:87: FutureWarning: Function safe_indexing is deprecated; safe_indexing is deprecated in version 0.22 and will be removed in version 0.24.\n",
      "  warnings.warn(msg, category=FutureWarning)\n",
      "C:\\Users\\dai_f\\Anaconda3\\lib\\site-packages\\sklearn\\utils\\deprecation.py:87: FutureWarning: Function safe_indexing is deprecated; safe_indexing is deprecated in version 0.22 and will be removed in version 0.24.\n",
      "  warnings.warn(msg, category=FutureWarning)\n"
     ]
    }
   ],
   "source": [
    "# For Decision Tree\n",
    "\n",
    "# SMOTE\n",
    "sm = SMOTE (k_neighbors = 5,sampling_strategy = \"minority\",random_state=42)\n",
    "X_sm, y_sm = sm.fit_sample(X_train, y_train)\n",
    "\n",
    "# ADASYN\n",
    "adasyn = ADASYN(n_neighbors=5,sampling_strategy=\"minority\",random_state=42)\n",
    "X_ada, y_ada = adasyn.fit_sample(X_train,y_train)"
   ]
  },
  {
   "cell_type": "markdown",
   "metadata": {},
   "source": [
    "## Modeling\n",
    "1. Decision Tree\n",
    "2. Random Forest\n",
    "3. GradientBoost\n",
    "4. Ensemble"
   ]
  },
  {
   "cell_type": "markdown",
   "metadata": {},
   "source": [
    "### Decision Tree\n",
    "\n",
    "First take a look at the different ways to create a balanced-clss classificaiton"
   ]
  },
  {
   "cell_type": "code",
   "execution_count": 147,
   "metadata": {},
   "outputs": [
    {
     "data": {
      "text/plain": [
       "DecisionTreeClassifier(ccp_alpha=0.0, class_weight='balanced', criterion='gini',\n",
       "                       max_depth=None, max_features=None, max_leaf_nodes=None,\n",
       "                       min_impurity_decrease=0.0, min_impurity_split=None,\n",
       "                       min_samples_leaf=5, min_samples_split=7,\n",
       "                       min_weight_fraction_leaf=0.0, presort='deprecated',\n",
       "                       random_state=42, splitter='best')"
      ]
     },
     "execution_count": 147,
     "metadata": {},
     "output_type": "execute_result"
    }
   ],
   "source": [
    "# Build tree with oversampled (SMOTE) X_train\n",
    "dt1 = DecisionTreeClassifier(min_samples_split = 7, min_samples_leaf = 5, random_state = 42)\n",
    "dt1.fit(X_sm, y_sm)\n",
    "\n",
    "# Build tree with oversampled (ADASYN) X_train\n",
    "dt2 = DecisionTreeClassifier(min_samples_split = 7, min_samples_leaf = 5, random_state = 42)\n",
    "dt2.fit(X_ada, y_ada)\n",
    "\n",
    "# Build tree with balanced class_weight\n",
    "dt3 = DecisionTreeClassifier(class_weight = 'balanced',min_samples_split = 7, min_samples_leaf = 5, random_state = 42)\n",
    "dt3.fit(X_train, y_train)"
   ]
  },
  {
   "cell_type": "code",
   "execution_count": 148,
   "metadata": {},
   "outputs": [
    {
     "name": "stdout",
     "output_type": "stream",
     "text": [
      "AUC_ROC - SMOTE: 0.7107934264430458\n",
      "AUC_ROC - ADASYN : 0.7039892257727619\n",
      "AUC_ROC - balanced class weights: 0.6971524877562859\n"
     ]
    }
   ],
   "source": [
    "# Tree with Oversampling\n",
    "probs1 = dt1.predict_proba(X_test)[:,1]\n",
    "auc = roc_auc_score(y_test,probs1)\n",
    "fpr_dt1, tpr_dt1,thresholds_dt1 = roc_curve (y_test,probs1)\n",
    "print(\"AUC_ROC - SMOTE:\",auc)\n",
    "\n",
    "# Tree with Oversampling\n",
    "probs2 = dt2.predict_proba(X_test)[:,1]\n",
    "auc = roc_auc_score(y_test, probs2)\n",
    "fpr_dt2, tpr_dt2, thresholds_dt2 = roc_curve(y_test, probs2)\n",
    "print(\"AUC_ROC - ADASYN :\",auc)\n",
    "\n",
    "probs3 = dt3.predict_proba(X_test)[:,1]\n",
    "auc = roc_auc_score(y_test,probs3)\n",
    "fpr_dt3, tpr_dt3,thresholds_dt3 = roc_curve (y_test,probs3)\n",
    "print(\"AUC_ROC - balanced class weights:\",auc)"
   ]
  },
  {
   "cell_type": "markdown",
   "metadata": {},
   "source": [
    "Among SMOTE, ADASYN and balanced class weights, SMOTE seems to have the best performance.  \n",
    "Next to use SMOTE method to grid search the best params"
   ]
  },
  {
   "cell_type": "code",
   "execution_count": 149,
   "metadata": {},
   "outputs": [],
   "source": [
    "cv = StratifiedShuffleSplit(n_splits=5, test_size=0.33, random_state=42)"
   ]
  },
  {
   "cell_type": "code",
   "execution_count": 150,
   "metadata": {},
   "outputs": [],
   "source": [
    "### Randomized Search\n",
    "grid = RandomizedSearchCV(estimator=DecisionTreeClassifier(random_state = 42),\n",
    "                          param_distributions = {'max_depth': [3, 5, 7, 10],\n",
    "                                                 'min_samples_split': [5, 10, 15, 20],\n",
    "                                                 'min_samples_leaf': [2, 3, 4, 5, 6, 7],\n",
    "                                                 'min_impurity_decrease': [1e-7, 1e-5]},\n",
    "                          n_iter = 50,\n",
    "                          scoring = 'roc_auc',\n",
    "                          cv=cv,\n",
    "                          n_jobs = -1,\n",
    "                          verbose = 1)"
   ]
  },
  {
   "cell_type": "code",
   "execution_count": 151,
   "metadata": {},
   "outputs": [
    {
     "data": {
      "text/plain": [
       "\"\\n### Grid Search\\ngrid = GridSearchCV(estimator=DecisionTreeClassifier(random_state = 42),\\n                    param_grid = {'max_depth': [3, 5, 7, 10],\\n                                  'min_samples_split': [5, 10, 15, 20],\\n                                  'min_samples_leaf': [2, 3, 4, 5, 6, 7],\\n                                  'min_impurity_decrease': [1e-7, 1e-5]},\\n                    cv = 5,\\n                    n_jobs = -1,\\n                    verbose = 1)\\n\""
      ]
     },
     "execution_count": 151,
     "metadata": {},
     "output_type": "execute_result"
    }
   ],
   "source": [
    "'''\n",
    "### Grid Search\n",
    "grid = GridSearchCV(estimator=DecisionTreeClassifier(random_state = 42),\n",
    "                    param_grid = {'max_depth': [3, 5, 7, 10],\n",
    "                                  'min_samples_split': [5, 10, 15, 20],\n",
    "                                  'min_samples_leaf': [2, 3, 4, 5, 6, 7],\n",
    "                                  'min_impurity_decrease': [1e-7, 1e-5]},\n",
    "                    cv = 5,\n",
    "                    n_jobs = -1,\n",
    "                    verbose = 1)\n",
    "'''"
   ]
  },
  {
   "cell_type": "code",
   "execution_count": 152,
   "metadata": {},
   "outputs": [
    {
     "name": "stdout",
     "output_type": "stream",
     "text": [
      "Fitting 5 folds for each of 50 candidates, totalling 250 fits\n"
     ]
    },
    {
     "name": "stderr",
     "output_type": "stream",
     "text": [
      "[Parallel(n_jobs=-1)]: Using backend LokyBackend with 8 concurrent workers.\n",
      "[Parallel(n_jobs=-1)]: Done  34 tasks      | elapsed:   34.3s\n",
      "[Parallel(n_jobs=-1)]: Done 184 tasks      | elapsed:  2.8min\n",
      "[Parallel(n_jobs=-1)]: Done 250 out of 250 | elapsed:  3.8min finished\n"
     ]
    },
    {
     "name": "stdout",
     "output_type": "stream",
     "text": [
      "239.5408411026001\n"
     ]
    }
   ],
   "source": [
    "### Let's roll!\n",
    "t0 = time.time()  # timer starts\n",
    "grid.fit(X_sm, y_sm)  # Use SMOTE\n",
    "print(time.time() - t0)"
   ]
  },
  {
   "cell_type": "code",
   "execution_count": 153,
   "metadata": {},
   "outputs": [
    {
     "name": "stdout",
     "output_type": "stream",
     "text": [
      "{'min_samples_split': 20, 'min_samples_leaf': 7, 'min_impurity_decrease': 1e-05, 'max_depth': 10}\n",
      "Best score during search: 0.9666695852772398\n",
      "AUC_ROC - Best DT: 0.8435995494457917\n"
     ]
    }
   ],
   "source": [
    "print(grid.best_params_) \n",
    "print(\"Best score during search:\",grid.best_score_) \n",
    "best_dt = grid.best_estimator_\n",
    "\n",
    "probs = best_dt.predict_proba(X_test)[:,1]\n",
    "auc = roc_auc_score(y_test,probs)\n",
    "fpr_dt, tpr_dt,thresholds_dt = roc_curve (y_test,probs)\n",
    "print(\"AUC_ROC - Best DT:\",auc)"
   ]
  },
  {
   "cell_type": "code",
   "execution_count": 167,
   "metadata": {},
   "outputs": [
    {
     "data": {
      "text/plain": [
       "(125696, 137)"
      ]
     },
     "execution_count": 167,
     "metadata": {},
     "output_type": "execute_result"
    }
   ],
   "source": [
    "X_sm.shape"
   ]
  },
  {
   "cell_type": "code",
   "execution_count": 154,
   "metadata": {},
   "outputs": [
    {
     "data": {
      "image/png": "[encoded data removed]",
      "text/plain": [
       "<Figure size 432x288 with 1 Axes>"
      ]
     },
     "metadata": {
      "needs_background": "light"
     },
     "output_type": "display_data"
    }
   ],
   "source": [
    "plot_roc_curve(fpr_dt1, tpr_dt1, \"Decision Tree - SMOTE\")\n",
    "plot_roc_curve(fpr_dt2, tpr_dt2, \"Decision Tree - ADASYN\")\n",
    "plot_roc_curve(fpr_dt3, tpr_dt3, \"Decision Tree - balanced\")\n",
    "plot_roc_curve(fpr_dt, tpr_dt,'Best Decision Tree')"
   ]
  },
  {
   "cell_type": "markdown",
   "metadata": {},
   "source": [
    "### Ensemble Tree Methods"
   ]
  },
  {
   "cell_type": "code",
   "execution_count": 155,
   "metadata": {},
   "outputs": [
    {
     "data": {
      "text/plain": [
       "RandomForestClassifier(bootstrap=True, ccp_alpha=0.0, class_weight='balanced',\n",
       "                       criterion='gini', max_depth=None, max_features='auto',\n",
       "                       max_leaf_nodes=None, max_samples=None,\n",
       "                       min_impurity_decrease=0.0, min_impurity_split=None,\n",
       "                       min_samples_leaf=5, min_samples_split=2,\n",
       "                       min_weight_fraction_leaf=0.0, n_estimators=100,\n",
       "                       n_jobs=None, oob_score=False, random_state=42, verbose=0,\n",
       "                       warm_start=False)"
      ]
     },
     "execution_count": 155,
     "metadata": {},
     "output_type": "execute_result"
    }
   ],
   "source": [
    "#rfc = RandomForestClassifier(n_estimators=100,class_weight='balanced', min_samples_leaf = 5, random_state=42)\n",
    "#rfc.fit(X_train,y_train)\n",
    "\n",
    "rfc = RandomForestClassifier(n_estimators=100, min_samples_leaf = 5, random_state=42)\n",
    "rfc.fit(X_sm,y_sm)"
   ]
  },
  {
   "cell_type": "code",
   "execution_count": 156,
   "metadata": {},
   "outputs": [
    {
     "data": {
      "text/plain": [
       "GradientBoostingClassifier(ccp_alpha=0.0, criterion='friedman_mse', init=None,\n",
       "                           learning_rate=0.1, loss='deviance', max_depth=3,\n",
       "                           max_features=None, max_leaf_nodes=None,\n",
       "                           min_impurity_decrease=0.0, min_impurity_split=None,\n",
       "                           min_samples_leaf=1, min_samples_split=2,\n",
       "                           min_weight_fraction_leaf=0.0, n_estimators=100,\n",
       "                           n_iter_no_change=None, presort='deprecated',\n",
       "                           random_state=42, subsample=1.0, tol=0.0001,\n",
       "                           validation_fraction=0.1, verbose=0,\n",
       "                           warm_start=False)"
      ]
     },
     "execution_count": 156,
     "metadata": {},
     "output_type": "execute_result"
    }
   ],
   "source": [
    "gbc = GradientBoostingClassifier(random_state=42)\n",
    "gbc.fit(X_train, y_train)"
   ]
  },
  {
   "cell_type": "code",
   "execution_count": 157,
   "metadata": {},
   "outputs": [],
   "source": [
    "# Ensemble of GradientBoost and RandomForest\n",
    "GBC = GradientBoostingClassifier(random_state=42)\n",
    "RFC = RandomForestClassifier(n_estimators=100)\n",
    "\n",
    "# Voting Classifier with soft voting \n",
    "votingC = VotingClassifier(estimators=[('rfc', RFC),('gbc',GBC)], voting='soft')\n",
    "votingC = votingC.fit(X_train, y_train)"
   ]
  },
  {
   "cell_type": "markdown",
   "metadata": {},
   "source": [
    "## Evaluation"
   ]
  },
  {
   "cell_type": "code",
   "execution_count": 22,
   "metadata": {},
   "outputs": [],
   "source": [
    "def plot_roc_curve(fpr, tpr,model):\n",
    "    plt.plot(fpr, tpr, label=model)\n",
    "    plt.plot([0, 1], [0, 1], color='darkblue', linestyle='--')\n",
    "    plt.xlabel('False Positive Rate')\n",
    "    plt.ylabel('True Positive Rate')\n",
    "    plt.title('Receiver Operating Characteristic (ROC) Curve')\n",
    "    plt.legend()\n",
    "#    plt.show()"
   ]
  },
  {
   "cell_type": "markdown",
   "metadata": {},
   "source": [
    "#### Results with Decision Tree"
   ]
  },
  {
   "cell_type": "code",
   "execution_count": 67,
   "metadata": {},
   "outputs": [
    {
     "name": "stdout",
     "output_type": "stream",
     "text": [
      "AUC_ROC - SMOTE: 0.7183536319903135\n",
      "AUC_ROC - ADASYN : 0.7131027941355593\n",
      "AUC_ROC - balanced class weights: 0.6967754139225593\n"
     ]
    }
   ],
   "source": [
    "# Tree with Oversampling\n",
    "probs1 = dt1.predict_proba(X_test)[:,1]\n",
    "auc = roc_auc_score(y_test,probs1)\n",
    "fpr_dt1, tpr_dt1,thresholds_dt1 = roc_curve (y_test,probs1)\n",
    "print(\"AUC_ROC - SMOTE:\",auc)\n",
    "\n",
    "# Tree with Oversampling\n",
    "probs2 = dt2.predict_proba(X_test)[:,1]\n",
    "auc = roc_auc_score(y_test, probs2)\n",
    "fpr_dt2, tpr_dt2, thresholds_dt2 = roc_curve(y_test, probs2)\n",
    "print(\"AUC_ROC - ADASYN :\",auc)\n",
    "\n",
    "probs3 = dt3.predict_proba(X_test)[:,1]\n",
    "auc = roc_auc_score(y_test,probs3)\n",
    "fpr_dt3, tpr_dt3,thresholds_dt3 = roc_curve (y_test,probs3)\n",
    "print(\"AUC_ROC - balanced class weights:\",auc)"
   ]
  },
  {
   "cell_type": "markdown",
   "metadata": {},
   "source": [
    "#### Results with Random Forest"
   ]
  },
  {
   "cell_type": "code",
   "execution_count": 158,
   "metadata": {},
   "outputs": [
    {
     "name": "stdout",
     "output_type": "stream",
     "text": [
      "AUC-ROC: 0.8934806277368214\n"
     ]
    }
   ],
   "source": [
    "probs = rfc.predict_proba(X_test)[:,1]\n",
    "auc = roc_auc_score(y_test,probs)\n",
    "fpr_rf, tpr_rf,thresholds_rf = roc_curve(y_test,probs)\n",
    "print(\"AUC-ROC:\",auc)"
   ]
  },
  {
   "cell_type": "markdown",
   "metadata": {},
   "source": [
    "#### Results with GradientBoost"
   ]
  },
  {
   "cell_type": "code",
   "execution_count": 159,
   "metadata": {},
   "outputs": [
    {
     "name": "stdout",
     "output_type": "stream",
     "text": [
      "AUC-ROC : 0.8964641745487524\n"
     ]
    }
   ],
   "source": [
    "probs = gbc.predict_proba(X_test)[:, 1]\n",
    "auc = roc_auc_score(y_test, probs)\n",
    "fpr_gbc, tpr_gbc, thresholds_gbc = roc_curve(y_test, probs)\n",
    "print(\"AUC-ROC :\",auc)"
   ]
  },
  {
   "cell_type": "markdown",
   "metadata": {},
   "source": [
    "#### Results with votingC"
   ]
  },
  {
   "cell_type": "code",
   "execution_count": 160,
   "metadata": {},
   "outputs": [
    {
     "name": "stdout",
     "output_type": "stream",
     "text": [
      "AUC-ROC : 0.8954420701373973\n"
     ]
    }
   ],
   "source": [
    "#pred = votingC.predict(X_test)\n",
    "probs = votingC.predict_proba(X_test)[:, 1]\n",
    "auc = roc_auc_score(y_test, probs)\n",
    "fpr, tpr, thresholds = roc_curve(y_test, probs)\n",
    "print(\"AUC-ROC :\",auc)"
   ]
  },
  {
   "cell_type": "markdown",
   "metadata": {},
   "source": [
    "## Performance Summary"
   ]
  },
  {
   "cell_type": "code",
   "execution_count": 98,
   "metadata": {},
   "outputs": [
    {
     "data": {
      "image/png": "[encoded data removed]",
      "text/plain": [
       "<Figure size 432x288 with 1 Axes>"
      ]
     },
     "metadata": {
      "needs_background": "light"
     },
     "output_type": "display_data"
    }
   ],
   "source": [
    "plot_roc_curve(fpr, tpr,'ensemble')\n",
    "plot_roc_curve(fpr_gbc, tpr_gbc, 'GradientBoosting')\n",
    "plot_roc_curve(fpr_rf, tpr_rf, \"RandomForest\")\n",
    "plot_roc_curve(fpr_dt, tpr_dt,'Best Decision Tree')"
   ]
  },
  {
   "cell_type": "markdown",
   "metadata": {},
   "source": [
    "## Important Features"
   ]
  },
  {
   "cell_type": "code",
   "execution_count": 170,
   "metadata": {},
   "outputs": [
    {
     "data": {
      "text/plain": [
       "(137, 137)"
      ]
     },
     "execution_count": 170,
     "metadata": {},
     "output_type": "execute_result"
    }
   ],
   "source": [
    "len(X.columns), len(dt1.feature_importances_)"
   ]
  },
  {
   "cell_type": "code",
   "execution_count": 169,
   "metadata": {},
   "outputs": [
    {
     "data": {
      "image/png": "[encoded data removed]",
      "text/plain": [
       "<Figure size 432x288 with 1 Axes>"
      ]
     },
     "metadata": {
      "needs_background": "light"
     },
     "output_type": "display_data"
    },
    {
     "data": {
      "text/plain": [
       "182"
      ]
     },
     "execution_count": 169,
     "metadata": {},
     "output_type": "execute_result"
    },
    {
     "data": {
      "image/png": "[encoded data removed]",
      "text/plain": [
       "<Figure size 432x288 with 1 Axes>"
      ]
     },
     "metadata": {
      "needs_background": "light"
     },
     "output_type": "display_data"
    }
   ],
   "source": [
    "feature_imp_df = pd.DataFrame({\"Feature\": X.columns, \"Importance\": dt1.feature_importances_}).sort_values(by=\"Importance\", ascending=False)\n",
    "sns.barplot(x=\"Importance\", y=\"Feature\", data=feature_imp_df.head(20))\n",
    "plt.title(\"Decision Tree\")\n",
    "plt.show()\n",
    "sns.barplot(x=\"Importance\", y=\"Feature\", data=feature_imp_df.tail(20))\n",
    "dt.max_features_"
   ]
  },
  {
   "cell_type": "code",
   "execution_count": 162,
   "metadata": {},
   "outputs": [
    {
     "data": {
      "image/png": "[encoded data removed]",
      "text/plain": [
       "<Figure size 432x288 with 1 Axes>"
      ]
     },
     "metadata": {
      "needs_background": "light"
     },
     "output_type": "display_data"
    },
    {
     "data": {
      "text/plain": [
       "<matplotlib.axes._subplots.AxesSubplot at 0x214381f9f48>"
      ]
     },
     "execution_count": 162,
     "metadata": {},
     "output_type": "execute_result"
    },
    {
     "data": {
      "image/png": "[encoded data removed]",
      "text/plain": [
       "<Figure size 432x288 with 1 Axes>"
      ]
     },
     "metadata": {
      "needs_background": "light"
     },
     "output_type": "display_data"
    }
   ],
   "source": [
    "feature_imp_df = pd.DataFrame({\"Feature\": X.columns, \"Importance\": rfc.feature_importances_}).sort_values(by=\"Importance\", ascending=False)\n",
    "sns.barplot(x=\"Importance\", y=\"Feature\", data=feature_imp_df.head(20))\n",
    "plt.title(\"Random Forest\")\n",
    "plt.show()\n",
    "sns.barplot(x=\"Importance\", y=\"Feature\", data=feature_imp_df.tail(20))"
   ]
  },
  {
   "cell_type": "code",
   "execution_count": 163,
   "metadata": {},
   "outputs": [
    {
     "data": {
      "image/png": "[encoded data removed]",
      "text/plain": [
       "<Figure size 432x288 with 1 Axes>"
      ]
     },
     "metadata": {
      "needs_background": "light"
     },
     "output_type": "display_data"
    },
    {
     "data": {
      "text/plain": [
       "<matplotlib.axes._subplots.AxesSubplot at 0x214255b5c48>"
      ]
     },
     "execution_count": 163,
     "metadata": {},
     "output_type": "execute_result"
    },
    {
     "data": {
      "image/png": "[encoded data removed]",
      "text/plain": [
       "<Figure size 432x288 with 1 Axes>"
      ]
     },
     "metadata": {
      "needs_background": "light"
     },
     "output_type": "display_data"
    }
   ],
   "source": [
    "feature_imp_df = pd.DataFrame({\"Feature\": X.columns, \"Importance\": gbc.feature_importances_}).sort_values(by=\"Importance\", ascending=False)\n",
    "sns.barplot(x=\"Importance\", y=\"Feature\", data=feature_imp_df.head(20))\n",
    "plt.title(\"Gradient Boost\")\n",
    "plt.show()\n",
    "sns.barplot(x=\"Importance\", y=\"Feature\", data=feature_imp_df.tail(20))"
   ]
  },
  {
   "cell_type": "markdown",
   "metadata": {},
   "source": [
    "## Submission"
   ]
  },
  {
   "cell_type": "code",
   "execution_count": null,
   "metadata": {},
   "outputs": [],
   "source": []
  },
  {
   "cell_type": "code",
   "execution_count": null,
   "metadata": {},
   "outputs": [],
   "source": [
    "pred_rf = rfc.predict_proba(test_imputed)[:,1]\n",
    "pred_results = pd.DataFrame({'encounter_id':test.encounter_id, 'hospital_death': pred_rf})\n",
    "pred_results.to_csv('../data/pred_rfc.csv',index=False)\n",
    "pred_results.head()"
   ]
  },
  {
   "cell_type": "code",
   "execution_count": null,
   "metadata": {},
   "outputs": [],
   "source": [
    "pred_gbc = gbc.predict_proba(test_imputed)[:,1]\n",
    "pred_results = pd.DataFrame({'encounter_id':test.encounter_id, 'hospital_death': pred_gbc})\n",
    "pred_results.to_csv('../data/pred_gbc.csv',index=False)\n",
    "pred_results.head()"
   ]
  },
  {
   "cell_type": "code",
   "execution_count": null,
   "metadata": {},
   "outputs": [],
   "source": [
    "pred_voting = votingC.predict_proba(test_imputed)[:, 1]\n",
    "pred_results = pd.DataFrame({'encounter_id': test.encounter_id, 'hospital_death':pred_voting}).set_index('encounter_id')\n",
    "pred_results.to_csv('../data/pred_voting.csv')\n",
    "pred_results.head()"
   ]
  }
 ],
 "metadata": {
  "kernelspec": {
   "display_name": "Python 3",
   "language": "python",
   "name": "python3"
  },
  "language_info": {
   "codemirror_mode": {
    "name": "ipython",
    "version": 3
   },
   "file_extension": ".py",
   "mimetype": "text/x-python",
   "name": "python",
   "nbconvert_exporter": "python",
   "pygments_lexer": "ipython3",
   "version": "3.7.4"
  }
 },
 "nbformat": 4,
 "nbformat_minor": 2
}
