{
 "cells": [
  {
   "cell_type": "code",
   "execution_count": 37,
   "metadata": {},
   "outputs": [],
   "source": [
    "import pandas as pd\n",
    "import numpy as np\n",
    "import seaborn as sns\n",
    "import matplotlib.pyplot as plt\n",
    "import time\n",
    "import pickle\n",
    "\n",
    "from sklearn.impute import SimpleImputer\n",
    "from sklearn.ensemble import RandomForestClassifier,GradientBoostingClassifier, VotingClassifier\n",
    "\n",
    "from sklearn.metrics import accuracy_score, confusion_matrix, roc_auc_score, roc_curve\n",
    "from sklearn.tree import DecisionTreeClassifier\n",
    "from sklearn.model_selection import cross_val_score, GridSearchCV, RandomizedSearchCV, train_test_split, KFold\n",
    "from imblearn.over_sampling import SMOTE, ADASYN\n",
    "\n",
    "#!pip install category_encoders\n",
    "from category_encoders.target_encoder import TargetEncoder\n",
    "\n",
    "%matplotlib inline\n",
    "\n",
    "pd.set_option('display.max_columns', 200)"
   ]
  },
  {
   "cell_type": "markdown",
   "metadata": {},
   "source": [
    "## LOAD DATA"
   ]
  },
  {
   "cell_type": "code",
   "execution_count": 2,
   "metadata": {},
   "outputs": [
    {
     "name": "stdout",
     "output_type": "stream",
     "text": [
      "(91713, 183)\n",
      "(39308, 183)\n"
     ]
    }
   ],
   "source": [
    "train = pd.read_csv('../data/train_clean.csv')\n",
    "test = pd.read_csv('../data/test_clean_cat.csv')\n",
    "print(train.shape)\n",
    "print(test.shape)"
   ]
  },
  {
   "cell_type": "code",
   "execution_count": 3,
   "metadata": {},
   "outputs": [
    {
     "data": {
      "text/plain": [
       "{'hospital_death'}"
      ]
     },
     "execution_count": 3,
     "metadata": {},
     "output_type": "execute_result"
    }
   ],
   "source": [
    "set(train.columns)-set(test.columns)"
   ]
  },
  {
   "cell_type": "code",
   "execution_count": 4,
   "metadata": {},
   "outputs": [
    {
     "data": {
      "text/plain": [
       "{'encounter_id'}"
      ]
     },
     "execution_count": 4,
     "metadata": {},
     "output_type": "execute_result"
    }
   ],
   "source": [
    "set(test.columns)-set(train.columns)"
   ]
  },
  {
   "cell_type": "markdown",
   "metadata": {},
   "source": [
    "## DATA PREPARATION"
   ]
  },
  {
   "cell_type": "code",
   "execution_count": 5,
   "metadata": {},
   "outputs": [
    {
     "name": "stdout",
     "output_type": "stream",
     "text": [
      "set()\n",
      "set()\n"
     ]
    }
   ],
   "source": [
    "# To verify the categorical columns are identical in both train and test dataset\n",
    "categorical_cols = [col for col in train.columns if  (train[col].dtype != 'float64')&(train[col].dtype != 'int64') ]\n",
    "categorical_cols_test = [col for col in test.columns if  (test[col].dtype != 'float64')&(test[col].dtype != 'int64') ]\n",
    "\n",
    "print(set(categorical_cols) - set(categorical_cols_test))\n",
    "print(set(categorical_cols_test) - set(categorical_cols))"
   ]
  },
  {
   "cell_type": "code",
   "execution_count": 6,
   "metadata": {},
   "outputs": [
    {
     "name": "stdout",
     "output_type": "stream",
     "text": [
      "ethnicity                0\n",
      "gender                   0\n",
      "hospital_admit_source    0\n",
      "icu_admit_source         0\n",
      "icu_stay_type            0\n",
      "icu_type                 0\n",
      "apache_3j_bodysystem     0\n",
      "apache_2_bodysystem      0\n",
      "dtype: int64\n",
      "ethnicity                0\n",
      "gender                   0\n",
      "hospital_admit_source    0\n",
      "icu_admit_source         0\n",
      "icu_stay_type            0\n",
      "icu_type                 0\n",
      "apache_3j_bodysystem     0\n",
      "apache_2_bodysystem      0\n",
      "dtype: int64\n"
     ]
    }
   ],
   "source": [
    "# Verify no missing data in categorical variables\n",
    "print(train[categorical_cols].isnull().sum())\n",
    "print(test[categorical_cols].isnull().sum())"
   ]
  },
  {
   "cell_type": "code",
   "execution_count": 7,
   "metadata": {},
   "outputs": [
    {
     "name": "stdout",
     "output_type": "stream",
     "text": [
      "train only element for ethnicity  is:  set()\n",
      "test only element for ethnicity  is:  set()\n",
      "train only element for gender  is:  set()\n",
      "test only element for gender  is:  set()\n",
      "train only element for hospital_admit_source  is:  set()\n",
      "test only element for hospital_admit_source  is:  set()\n",
      "train only element for icu_admit_source  is:  set()\n",
      "test only element for icu_admit_source  is:  set()\n",
      "train only element for icu_stay_type  is:  set()\n",
      "test only element for icu_stay_type  is:  set()\n",
      "train only element for icu_type  is:  set()\n",
      "test only element for icu_type  is:  set()\n",
      "train only element for apache_3j_bodysystem  is:  set()\n",
      "test only element for apache_3j_bodysystem  is:  set()\n",
      "train only element for apache_2_bodysystem  is:  set()\n",
      "test only element for apache_2_bodysystem  is:  set()\n"
     ]
    }
   ],
   "source": [
    "# Verify no unique elements in either test or train categorical variables\n",
    "for col in categorical_cols:\n",
    "    print(\"train only element for\", col, \" is: \", set(train[col].unique()) - set(test[col].unique()))\n",
    "    print(\"test only element for\", col, \" is: \", set(test[col].unique()) - set(train[col].unique()))"
   ]
  },
  {
   "cell_type": "markdown",
   "metadata": {},
   "source": [
    "### v2. [Target Encoding](https://www.kaggle.com/ogrellier/python-target-encoding-for-categorical-features)"
   ]
  },
  {
   "cell_type": "markdown",
   "metadata": {},
   "source": [
    "X = train.drop(columns=['hospital_death'])\n",
    "y = train.hospital_death"
   ]
  },
  {
   "cell_type": "markdown",
   "metadata": {},
   "source": [
    "target_enc = TargetEncoder(handle_missing='value', handle_unknown='value', min_samples_leaf=100, smoothing=10, verbose=1)\n",
    "X = target_enc.fit_transform(X,y)\n",
    "print(X.shape)\n",
    "\n",
    "test_m = target_enc.transform(test.drop(\"encounter_id\", axis=1))"
   ]
  },
  {
   "cell_type": "markdown",
   "metadata": {},
   "source": [
    "X.head()"
   ]
  },
  {
   "cell_type": "markdown",
   "metadata": {},
   "source": [
    "### v1. Create dummy variables for categorical variables"
   ]
  },
  {
   "cell_type": "code",
   "execution_count": null,
   "metadata": {},
   "outputs": [],
   "source": [
    "dummies = pd.get_dummies(train[categorical_cols]).drop(columns = ['ethnicity_Other/Unknown','gender_Unknown','hospital_admit_source_Unknown','icu_admit_source_Unknown','icu_stay_type_transfer','icu_type_SICU', 'apache_3j_bodysystem_Unknown','apache_2_bodysystem_Unknown'])\n",
    "print(dummies.shape)\n",
    "train_m = pd.concat([train.drop(columns=categorical_cols),dummies],axis=1)\n",
    "train_m.shape"
   ]
  },
  {
   "cell_type": "code",
   "execution_count": null,
   "metadata": {},
   "outputs": [],
   "source": [
    "dummies = pd.get_dummies(test[categorical_cols]).drop(columns = ['ethnicity_Other/Unknown','gender_Unknown','hospital_admit_source_Unknown','icu_admit_source_Unknown','icu_stay_type_transfer','icu_type_SICU', 'apache_3j_bodysystem_Unknown','apache_2_bodysystem_Unknown'])\n",
    "print(dummies.shape)\n",
    "test_m = pd.concat([test.drop(columns=categorical_cols),dummies],axis=1)\n",
    "test_m.shape"
   ]
  },
  {
   "cell_type": "markdown",
   "metadata": {},
   "source": [
    "### v1 - b. creating independent features X and dependant feature y"
   ]
  },
  {
   "cell_type": "code",
   "execution_count": null,
   "metadata": {},
   "outputs": [],
   "source": [
    "X = train_m.drop(columns=['hospital_death'])\n",
    "y = train_m.hospital_death\n",
    "test_m = test_m.drop(\"encounter_id\", axis=1)\n",
    "\n",
    "print(X.shape, test_m.shape)"
   ]
  },
  {
   "cell_type": "markdown",
   "metadata": {},
   "source": [
    "## REMOVE FEATURES with more than 75 percent missing values"
   ]
  },
  {
   "cell_type": "code",
   "execution_count": 11,
   "metadata": {},
   "outputs": [],
   "source": [
    "#X.isnull().mean().sort_values(ascending=False)"
   ]
  },
  {
   "cell_type": "code",
   "execution_count": 12,
   "metadata": {},
   "outputs": [
    {
     "name": "stdout",
     "output_type": "stream",
     "text": [
      "independent features X's dimension is:  (91713, 137)\n"
     ]
    }
   ],
   "source": [
    "train_missing = X.isnull().mean().sort_values(ascending = False)\n",
    "train_missing = train_missing.index[train_missing > 0.75]\n",
    "#print(train_missing)\n",
    "X = X.drop(columns = train_missing)\n",
    "print(\"independent features X's dimension is: \",X.shape)\n",
    "test_m = test_m.drop(columns = train_missing)"
   ]
  },
  {
   "cell_type": "markdown",
   "metadata": {},
   "source": [
    "## IMPUTATION - SimpleImputer"
   ]
  },
  {
   "cell_type": "code",
   "execution_count": 13,
   "metadata": {},
   "outputs": [],
   "source": [
    "imputer = SimpleImputer(strategy = 'mean')"
   ]
  },
  {
   "cell_type": "code",
   "execution_count": 14,
   "metadata": {},
   "outputs": [],
   "source": [
    "X_imputed = imputer.fit_transform(X)\n",
    "test_imputed = imputer.fit_transform(test_m)"
   ]
  },
  {
   "cell_type": "code",
   "execution_count": 15,
   "metadata": {},
   "outputs": [
    {
     "data": {
      "text/plain": [
       "(91713, 137)"
      ]
     },
     "execution_count": 15,
     "metadata": {},
     "output_type": "execute_result"
    }
   ],
   "source": [
    "X_imputed.shape"
   ]
  },
  {
   "cell_type": "markdown",
   "metadata": {},
   "source": [
    "## TRAIN TEST SPLIT"
   ]
  },
  {
   "cell_type": "code",
   "execution_count": 16,
   "metadata": {},
   "outputs": [
    {
     "name": "stdout",
     "output_type": "stream",
     "text": [
      "(68784, 137) (22929, 137)\n"
     ]
    }
   ],
   "source": [
    "X_train,X_test,y_train,y_test = train_test_split(X_imputed, y, test_size=0.25, random_state=42, stratify=y)\n",
    "print(X_train.shape, X_test.shape)"
   ]
  },
  {
   "cell_type": "markdown",
   "metadata": {},
   "source": [
    "## StandardScaler"
   ]
  },
  {
   "cell_type": "markdown",
   "metadata": {},
   "source": [
    "## OVERSAMPLING the Minority Class"
   ]
  },
  {
   "cell_type": "code",
   "execution_count": 17,
   "metadata": {},
   "outputs": [
    {
     "name": "stderr",
     "output_type": "stream",
     "text": [
      "C:\\Users\\dai_f\\Anaconda3\\lib\\site-packages\\sklearn\\utils\\deprecation.py:87: FutureWarning: Function safe_indexing is deprecated; safe_indexing is deprecated in version 0.22 and will be removed in version 0.24.\n",
      "  warnings.warn(msg, category=FutureWarning)\n",
      "C:\\Users\\dai_f\\Anaconda3\\lib\\site-packages\\sklearn\\utils\\deprecation.py:87: FutureWarning: Function safe_indexing is deprecated; safe_indexing is deprecated in version 0.22 and will be removed in version 0.24.\n",
      "  warnings.warn(msg, category=FutureWarning)\n"
     ]
    }
   ],
   "source": [
    "# For Decision Tree \n",
    "# Oversampling with two methods and compare the results\n",
    "\n",
    "# SMOTE\n",
    "sm = SMOTE (k_neighbors = 5,sampling_strategy = \"minority\",random_state=42)\n",
    "X_sm, y_sm = sm.fit_sample(X_train, y_train)\n",
    "\n",
    "# ADASYN\n",
    "adasyn = ADASYN(n_neighbors=5,sampling_strategy=\"minority\",random_state=42)\n",
    "X_ada, y_ada = adasyn.fit_sample(X_train,y_train)"
   ]
  },
  {
   "cell_type": "markdown",
   "metadata": {},
   "source": [
    "## MODELING\n",
    "1. Decision Tree\n",
    "2. Random Forest\n",
    "3. GradientBoost\n",
    "4. Ensemble"
   ]
  },
  {
   "cell_type": "code",
   "execution_count": 175,
   "metadata": {},
   "outputs": [],
   "source": [
    "# Create variables to store results\n",
    "search_model = []\n",
    "search_best_score = []\n",
    "search_best_estimator= []\n",
    "search_params_list = []\n",
    "\n",
    "name_list = []\n",
    "model_list = []\n",
    "scores_list = []\n",
    "recall_list = []\n",
    "specificity_list = []\n",
    "precision_list = []\n",
    "f1_list=[]\n",
    "roc_list = []"
   ]
  },
  {
   "cell_type": "code",
   "execution_count": 152,
   "metadata": {},
   "outputs": [],
   "source": [
    "# Create a function to store model performance\n",
    "# Use standard name:\n",
    "# X_test, y_test, probs (for predict_proba) \n",
    "\n",
    "def model_performance (name, model):\n",
    "    tn, fp, fn, tp = confusion_matrix(y_test, model.predict(X_test)).ravel()\n",
    "    accuracy  =  ((tp+tn)/(tp+tn+fp+fn))\n",
    "    recall    =  tp/(tp+fn)\n",
    "    specificity = tn/(tn+fp)\n",
    "    precision =  tp/(tp+fp)\n",
    "    f1_score  =  (2*precision*recall)/(precision + recall)\n",
    "    roc = roc_auc_score(y_test,probs)\n",
    "\n",
    "    name_list.append(name)\n",
    "    model_list.append(model)\n",
    "    scores_list.append(accuracy)\n",
    "    recall_list.append(recall)\n",
    "    specificity_list.append(specificity)\n",
    "    precision_list.append(precision)\n",
    "    f1_list.append(f1_score)\n",
    "    roc_list.append(roc)\n",
    "\n",
    "    metrics = pd.DataFrame([[name, model, roc,accuracy,recall,specificity,precision,f1_score]], columns = ['Model','Model Name','ROC_AUC','Accuracy', \"Recall\", 'Specificity','Precision', 'F1_Score'])\n",
    "    return metrics\n"
   ]
  },
  {
   "cell_type": "code",
   "execution_count": 153,
   "metadata": {},
   "outputs": [],
   "source": [
    "# Create a function to store model performance after RandomizedSearchCV\n",
    "\n",
    "# Use standard name:\n",
    "# X_test, y_test, probs (for predict_proba) \n",
    "\n",
    "def model_performance_search (name, model):\n",
    "    \n",
    "    print(model.best_score_)\n",
    "    print(model.best_params_)\n",
    "    print(model.best_estimator_)\n",
    "    \n",
    "    best_model = model.best_estimator_\n",
    "    \n",
    "    tn, fp, fn, tp = confusion_matrix(y_test, best_model.predict(X_test)).ravel()\n",
    "    accuracy  =  ((tp+tn)/(tp+tn+fp+fn))\n",
    "    recall    =  tp/(tp+fn)\n",
    "    specificity = tn/(tn+fp)\n",
    "    precision =  tp/(tp+fp)\n",
    "    f1_score  =  (2*precision*recall)/(precision + recall)\n",
    "    roc = roc_auc_score(y_test,probs)\n",
    "\n",
    "    search_model.append(name)\n",
    "    search_best_score.append(model.best_score_)\n",
    "    search_best_estimator.append(model.best_estimator_)\n",
    "    search_params_list.append(model.best_params_)\n",
    "    \n",
    "    name_list.append(name)\n",
    "    model_list.append(model)\n",
    "    scores_list.append(accuracy)\n",
    "    recall_list.append(recall)\n",
    "    specificity_list.append(specificity)\n",
    "    precision_list.append(precision)\n",
    "    f1_list.append(f1_score)\n",
    "    roc_list.append(roc)\n",
    "\n",
    "    metrics = pd.DataFrame([[name,model,roc,accuracy,recall,specificity,precision,f1_score]], columns = ['Model','Model Name','ROC_AUC','Accuracy', \"Recall\", 'Specificity','Precision', 'F1_Score'])\n",
    "    return metrics\n"
   ]
  },
  {
   "cell_type": "code",
   "execution_count": 109,
   "metadata": {},
   "outputs": [],
   "source": [
    "def plot_roc_curve(fpr, tpr,model):\n",
    "    plt.plot(fpr, tpr, label=model)\n",
    "    plt.plot([0, 1], [0, 1], color='darkblue', linestyle='--')\n",
    "    plt.xlabel('False Positive Rate')\n",
    "    plt.ylabel('True Positive Rate')\n",
    "    plt.title('Receiver Operating Characteristic (ROC) Curve')\n",
    "    plt.legend()\n",
    "#    plt.show()"
   ]
  },
  {
   "cell_type": "markdown",
   "metadata": {},
   "source": [
    "### Decision Tree\n",
    "\n",
    "First compare the results of different ways to create a balanced-class dataset"
   ]
  },
  {
   "cell_type": "code",
   "execution_count": null,
   "metadata": {},
   "outputs": [],
   "source": [
    "'''\n",
    "#### Build tree with oversampled (SMOTE) X_train\n",
    "dt1 = DecisionTreeClassifier(min_samples_split = 7, min_samples_leaf = 5, random_state = 42)\n",
    "dt1.fit(X_sm, y_sm)\n",
    "\n",
    "#### Build tree with oversampled (ADASYN) X_train\n",
    "dt2 = DecisionTreeClassifier(min_samples_split = 7, min_samples_leaf = 5, random_state = 42)\n",
    "dt2.fit(X_ada, y_ada)\n",
    "\n",
    "#### Build tree with balanced class_weight\n",
    "dt3 = DecisionTreeClassifier(class_weight = 'balanced',min_samples_split = 7, min_samples_leaf = 5, random_state = 42)\n",
    "dt3.fit(X_train, y_train)\n",
    "\n",
    "'''"
   ]
  },
  {
   "cell_type": "code",
   "execution_count": null,
   "metadata": {},
   "outputs": [],
   "source": [
    "'''\n",
    "#### Tree with Oversampling (SMOTE)\n",
    "probs1 = dt1.predict_proba(X_test)[:,1]\n",
    "auc = roc_auc_score(y_test,probs1)\n",
    "fpr_dt1, tpr_dt1,thresholds_dt1 = roc_curve (y_test,probs1)\n",
    "print(\"AUC_ROC - SMOTE:\",auc)\n",
    "\n",
    "#### Tree with Oversampling (ADASYN)\n",
    "probs2 = dt2.predict_proba(X_test)[:,1]\n",
    "auc = roc_auc_score(y_test, probs2)\n",
    "fpr_dt2, tpr_dt2, thresholds_dt2 = roc_curve(y_test, probs2)\n",
    "print(\"AUC_ROC - ADASYN :\",auc)\n",
    "\n",
    "#### Tree with balanced class_weight\n",
    "probs3 = dt3.predict_proba(X_test)[:,1]\n",
    "auc = roc_auc_score(y_test,probs3)\n",
    "fpr_dt3, tpr_dt3,thresholds_dt3 = roc_curve (y_test,probs3)\n",
    "print(\"AUC_ROC - balanced class weights:\",auc)\n",
    "'''"
   ]
  },
  {
   "cell_type": "markdown",
   "metadata": {},
   "source": [
    "Among SMOTE, ADASYN and balanced class weights, SMOTE seems to have the best performance.  \n",
    "Next to use SMOTE method to grid search the best params"
   ]
  },
  {
   "cell_type": "code",
   "execution_count": 20,
   "metadata": {},
   "outputs": [],
   "source": [
    "cv = KFold(n_splits=5, random_state=42, shuffle=False)"
   ]
  },
  {
   "cell_type": "code",
   "execution_count": 22,
   "metadata": {},
   "outputs": [
    {
     "data": {
      "text/plain": [
       "\"\\n### Grid Search\\ngrid = GridSearchCV(estimator=DecisionTreeClassifier(random_state = 42),\\n                    param_grid = {'max_depth': [3, 5, 7, 10],\\n                                  'min_samples_split': [5, 10, 15, 20],\\n                                  'min_samples_leaf': [2, 3, 4, 5, 6, 7],\\n                                  'min_impurity_decrease': [1e-7, 1e-5]},\\n                    cv = 5,\\n                    n_jobs = -1,\\n                    verbose = 1)\\n\""
      ]
     },
     "execution_count": 22,
     "metadata": {},
     "output_type": "execute_result"
    }
   ],
   "source": [
    "'''\n",
    "### Grid Search\n",
    "grid = GridSearchCV(estimator=DecisionTreeClassifier(random_state = 42),\n",
    "                    param_grid = {'max_depth': [3, 5, 7, 10],\n",
    "                                  'min_samples_split': [5, 10, 15, 20],\n",
    "                                  'min_samples_leaf': [2, 3, 4, 5, 6, 7],\n",
    "                                  'min_impurity_decrease': [1e-7, 1e-5]},\n",
    "                    cv = 5,\n",
    "                    n_jobs = -1,\n",
    "                    verbose = 1)\n",
    "'''"
   ]
  },
  {
   "cell_type": "code",
   "execution_count": 29,
   "metadata": {},
   "outputs": [],
   "source": [
    "### Randomized Search\n",
    "grid = RandomizedSearchCV(estimator=DecisionTreeClassifier(random_state = 42),\n",
    "                          param_distributions = {'max_depth': [3, 5, 7, 10],\n",
    "                                                 'min_samples_split': [10, 15, 20,25, 30],\n",
    "                                                 'min_samples_leaf': [4, 5, 6, 7,8, 9,10],\n",
    "                                                 'min_impurity_decrease': [1e-7, 1e-5]},\n",
    "                          n_iter = 50,\n",
    "                          scoring = 'roc_auc',\n",
    "                          cv=cv,\n",
    "                          n_jobs = -1,\n",
    "                          verbose = 1)\n",
    "\n",
    "### Let's roll!\n",
    "grid.fit(X_sm, y_sm)  # Use SMOTE"
   ]
  },
  {
   "cell_type": "code",
   "execution_count": 32,
   "metadata": {},
   "outputs": [
    {
     "name": "stdout",
     "output_type": "stream",
     "text": [
      "Fitting 5 folds for each of 50 candidates, totalling 250 fits\n"
     ]
    },
    {
     "name": "stderr",
     "output_type": "stream",
     "text": [
      "[Parallel(n_jobs=-1)]: Using backend LokyBackend with 8 concurrent workers.\n",
      "[Parallel(n_jobs=-1)]: Done  34 tasks      | elapsed:   40.8s\n",
      "[Parallel(n_jobs=-1)]: Done 184 tasks      | elapsed:  3.1min\n",
      "[Parallel(n_jobs=-1)]: Done 250 out of 250 | elapsed:  4.2min finished\n"
     ]
    },
    {
     "data": {
      "text/plain": [
       "RandomizedSearchCV(cv=StratifiedShuffleSplit(n_splits=5, random_state=42, test_size=0.33,\n",
       "            train_size=None),\n",
       "                   error_score=nan,\n",
       "                   estimator=DecisionTreeClassifier(ccp_alpha=0.0,\n",
       "                                                    class_weight=None,\n",
       "                                                    criterion='gini',\n",
       "                                                    max_depth=None,\n",
       "                                                    max_features=None,\n",
       "                                                    max_leaf_nodes=None,\n",
       "                                                    min_impurity_decrease=0.0,\n",
       "                                                    min_impurity_split=None,\n",
       "                                                    min_samples_leaf=1,\n",
       "                                                    min_samples_split=2,\n",
       "                                                    min_we...\n",
       "                                                    presort='deprecated',\n",
       "                                                    random_state=42,\n",
       "                                                    splitter='best'),\n",
       "                   iid='deprecated', n_iter=50, n_jobs=-1,\n",
       "                   param_distributions={'max_depth': [3, 5, 7, 10],\n",
       "                                        'min_impurity_decrease': [1e-07, 1e-05],\n",
       "                                        'min_samples_leaf': [4, 5, 6, 7, 8, 9,\n",
       "                                                             10],\n",
       "                                        'min_samples_split': [10, 15, 20, 25,\n",
       "                                                              30]},\n",
       "                   pre_dispatch='2*n_jobs', random_state=None, refit=True,\n",
       "                   return_train_score=False, scoring='roc_auc', verbose=1)"
      ]
     },
     "execution_count": 32,
     "metadata": {},
     "output_type": "execute_result"
    }
   ],
   "source": []
  },
  {
   "cell_type": "code",
   "execution_count": 176,
   "metadata": {},
   "outputs": [
    {
     "name": "stdout",
     "output_type": "stream",
     "text": [
      "0.9672721582080197\n",
      "{'min_samples_split': 30, 'min_samples_leaf': 8, 'min_impurity_decrease': 1e-05, 'max_depth': 10}\n",
      "DecisionTreeClassifier(ccp_alpha=0.0, class_weight=None, criterion='gini',\n",
      "                       max_depth=10, max_features=None, max_leaf_nodes=None,\n",
      "                       min_impurity_decrease=1e-05, min_impurity_split=None,\n",
      "                       min_samples_leaf=8, min_samples_split=30,\n",
      "                       min_weight_fraction_leaf=0.0, presort='deprecated',\n",
      "                       random_state=42, splitter='best')\n"
     ]
    },
    {
     "data": {
      "text/html": [
       "<div>\n",
       "<style scoped>\n",
       "    .dataframe tbody tr th:only-of-type {\n",
       "        vertical-align: middle;\n",
       "    }\n",
       "\n",
       "    .dataframe tbody tr th {\n",
       "        vertical-align: top;\n",
       "    }\n",
       "\n",
       "    .dataframe thead th {\n",
       "        text-align: right;\n",
       "    }\n",
       "</style>\n",
       "<table border=\"1\" class=\"dataframe\">\n",
       "  <thead>\n",
       "    <tr style=\"text-align: right;\">\n",
       "      <th></th>\n",
       "      <th>Model</th>\n",
       "      <th>Model Name</th>\n",
       "      <th>ROC_AUC</th>\n",
       "      <th>Accuracy</th>\n",
       "      <th>Recall</th>\n",
       "      <th>Specificity</th>\n",
       "      <th>Precision</th>\n",
       "      <th>F1_Score</th>\n",
       "    </tr>\n",
       "  </thead>\n",
       "  <tbody>\n",
       "    <tr>\n",
       "      <td>0</td>\n",
       "      <td>Optimized Decision Tree</td>\n",
       "      <td>RandomizedSearchCV(cv=StratifiedShuffleSplit(n...</td>\n",
       "      <td>0.845224</td>\n",
       "      <td>0.896899</td>\n",
       "      <td>0.477009</td>\n",
       "      <td>0.936563</td>\n",
       "      <td>0.41531</td>\n",
       "      <td>0.444026</td>\n",
       "    </tr>\n",
       "  </tbody>\n",
       "</table>\n",
       "</div>"
      ],
      "text/plain": [
       "                     Model                                         Model Name  \\\n",
       "0  Optimized Decision Tree  RandomizedSearchCV(cv=StratifiedShuffleSplit(n...   \n",
       "\n",
       "    ROC_AUC  Accuracy    Recall  Specificity  Precision  F1_Score  \n",
       "0  0.845224  0.896899  0.477009     0.936563    0.41531  0.444026  "
      ]
     },
     "execution_count": 176,
     "metadata": {},
     "output_type": "execute_result"
    }
   ],
   "source": [
    "best_dt = grid.best_estimator_\n",
    "probs = best_dt.predict_proba(X_test)[:,1]\n",
    "fpr_dt, tpr_dt,thresholds_dt = roc_curve (y_test,probs)\n",
    "\n",
    "model_performance_search (\"Optimized Decision Tree\", grid)"
   ]
  },
  {
   "cell_type": "code",
   "execution_count": 177,
   "metadata": {},
   "outputs": [
    {
     "data": {
      "image/png": "[encoded data removed]",
      "text/plain": [
       "<Figure size 432x288 with 1 Axes>"
      ]
     },
     "metadata": {
      "needs_background": "light"
     },
     "output_type": "display_data"
    }
   ],
   "source": [
    "plot_roc_curve(fpr_dt1, tpr_dt1, \"Decision Tree - SMOTE\")\n",
    "plot_roc_curve(fpr_dt2, tpr_dt2, \"Decision Tree - ADASYN\")\n",
    "plot_roc_curve(fpr_dt3, tpr_dt3, \"Decision Tree - balanced\")\n",
    "plot_roc_curve(fpr_dt, tpr_dt,'Decision Tree - RandomizedSaerchCV')"
   ]
  },
  {
   "cell_type": "markdown",
   "metadata": {},
   "source": [
    "### Random Forest"
   ]
  },
  {
   "cell_type": "markdown",
   "metadata": {},
   "source": [
    "**Basic RF**"
   ]
  },
  {
   "cell_type": "code",
   "execution_count": 51,
   "metadata": {},
   "outputs": [
    {
     "data": {
      "text/plain": [
       "RandomForestClassifier(bootstrap=True, ccp_alpha=0.0, class_weight=None,\n",
       "                       criterion='gini', max_depth=None, max_features='auto',\n",
       "                       max_leaf_nodes=None, max_samples=None,\n",
       "                       min_impurity_decrease=0.0, min_impurity_split=None,\n",
       "                       min_samples_leaf=5, min_samples_split=2,\n",
       "                       min_weight_fraction_leaf=0.0, n_estimators=100,\n",
       "                       n_jobs=None, oob_score=False, random_state=42, verbose=0,\n",
       "                       warm_start=False)"
      ]
     },
     "execution_count": 51,
     "metadata": {},
     "output_type": "execute_result"
    }
   ],
   "source": [
    "rfc = RandomForestClassifier(n_estimators=100, min_samples_leaf = 5, random_state=42)\n",
    "rfc.fit(X_sm,y_sm)"
   ]
  },
  {
   "cell_type": "code",
   "execution_count": 178,
   "metadata": {},
   "outputs": [
    {
     "data": {
      "text/html": [
       "<div>\n",
       "<style scoped>\n",
       "    .dataframe tbody tr th:only-of-type {\n",
       "        vertical-align: middle;\n",
       "    }\n",
       "\n",
       "    .dataframe tbody tr th {\n",
       "        vertical-align: top;\n",
       "    }\n",
       "\n",
       "    .dataframe thead th {\n",
       "        text-align: right;\n",
       "    }\n",
       "</style>\n",
       "<table border=\"1\" class=\"dataframe\">\n",
       "  <thead>\n",
       "    <tr style=\"text-align: right;\">\n",
       "      <th></th>\n",
       "      <th>Model</th>\n",
       "      <th>Model Name</th>\n",
       "      <th>ROC_AUC</th>\n",
       "      <th>Accuracy</th>\n",
       "      <th>Recall</th>\n",
       "      <th>Specificity</th>\n",
       "      <th>Precision</th>\n",
       "      <th>F1_Score</th>\n",
       "    </tr>\n",
       "  </thead>\n",
       "  <tbody>\n",
       "    <tr>\n",
       "      <td>0</td>\n",
       "      <td>Basic RF</td>\n",
       "      <td>(DecisionTreeClassifier(ccp_alpha=0.0, class_w...</td>\n",
       "      <td>0.886519</td>\n",
       "      <td>0.913385</td>\n",
       "      <td>0.481051</td>\n",
       "      <td>0.954224</td>\n",
       "      <td>0.498168</td>\n",
       "      <td>0.48946</td>\n",
       "    </tr>\n",
       "  </tbody>\n",
       "</table>\n",
       "</div>"
      ],
      "text/plain": [
       "      Model                                         Model Name   ROC_AUC  \\\n",
       "0  Basic RF  (DecisionTreeClassifier(ccp_alpha=0.0, class_w...  0.886519   \n",
       "\n",
       "   Accuracy    Recall  Specificity  Precision  F1_Score  \n",
       "0  0.913385  0.481051     0.954224   0.498168   0.48946  "
      ]
     },
     "execution_count": 178,
     "metadata": {},
     "output_type": "execute_result"
    }
   ],
   "source": [
    "# Score from basic RF\n",
    "probs = rfc.predict_proba(X_test)[:,1]\n",
    "model_performance('Basic RF', rfc)"
   ]
  },
  {
   "cell_type": "markdown",
   "metadata": {},
   "source": [
    "**Optimize the hyperparams**"
   ]
  },
  {
   "cell_type": "code",
   "execution_count": 35,
   "metadata": {},
   "outputs": [],
   "source": [
    "rf_params = {'max_depth': [5, 7, 10, 12],\n",
    "             'min_samples_split': [5, 10, 15, 20],\n",
    "             'min_samples_leaf': [4, 5, 6, 7,8,10],\n",
    "             'min_impurity_decrease': [1e-7, 1e-5],\n",
    "             'warm_start': [False,True]}\n",
    "\n",
    "rf_grid = RandomizedSearchCV(estimator=RandomForestClassifier(random_state = 42),\n",
    "                          param_distributions = rf_params,\n",
    "                          n_iter = 50,\n",
    "                          scoring = 'roc_auc',\n",
    "                          cv=cv,\n",
    "                          n_jobs = -1,\n",
    "                          verbose = 10)\n",
    "### Let's roll!\n",
    "rf_grid.fit(X_sm,y_sm)"
   ]
  },
  {
   "cell_type": "code",
   "execution_count": 179,
   "metadata": {},
   "outputs": [
    {
     "name": "stdout",
     "output_type": "stream",
     "text": [
      "0.9815524852399502\n",
      "{'warm_start': False, 'min_samples_split': 5, 'min_samples_leaf': 4, 'min_impurity_decrease': 1e-07, 'max_depth': 12}\n",
      "RandomForestClassifier(bootstrap=True, ccp_alpha=0.0, class_weight=None,\n",
      "                       criterion='gini', max_depth=12, max_features='auto',\n",
      "                       max_leaf_nodes=None, max_samples=None,\n",
      "                       min_impurity_decrease=1e-07, min_impurity_split=None,\n",
      "                       min_samples_leaf=4, min_samples_split=5,\n",
      "                       min_weight_fraction_leaf=0.0, n_estimators=100,\n",
      "                       n_jobs=None, oob_score=False, random_state=42, verbose=0,\n",
      "                       warm_start=False)\n"
     ]
    },
    {
     "data": {
      "text/html": [
       "<div>\n",
       "<style scoped>\n",
       "    .dataframe tbody tr th:only-of-type {\n",
       "        vertical-align: middle;\n",
       "    }\n",
       "\n",
       "    .dataframe tbody tr th {\n",
       "        vertical-align: top;\n",
       "    }\n",
       "\n",
       "    .dataframe thead th {\n",
       "        text-align: right;\n",
       "    }\n",
       "</style>\n",
       "<table border=\"1\" class=\"dataframe\">\n",
       "  <thead>\n",
       "    <tr style=\"text-align: right;\">\n",
       "      <th></th>\n",
       "      <th>Model</th>\n",
       "      <th>Model Name</th>\n",
       "      <th>ROC_AUC</th>\n",
       "      <th>Accuracy</th>\n",
       "      <th>Recall</th>\n",
       "      <th>Specificity</th>\n",
       "      <th>Precision</th>\n",
       "      <th>F1_Score</th>\n",
       "    </tr>\n",
       "  </thead>\n",
       "  <tbody>\n",
       "    <tr>\n",
       "      <td>0</td>\n",
       "      <td>Optimized RF</td>\n",
       "      <td>RandomizedSearchCV(cv=StratifiedShuffleSplit(n...</td>\n",
       "      <td>0.883586</td>\n",
       "      <td>0.892974</td>\n",
       "      <td>0.580091</td>\n",
       "      <td>0.92253</td>\n",
       "      <td>0.414291</td>\n",
       "      <td>0.483368</td>\n",
       "    </tr>\n",
       "  </tbody>\n",
       "</table>\n",
       "</div>"
      ],
      "text/plain": [
       "          Model                                         Model Name   ROC_AUC  \\\n",
       "0  Optimized RF  RandomizedSearchCV(cv=StratifiedShuffleSplit(n...  0.883586   \n",
       "\n",
       "   Accuracy    Recall  Specificity  Precision  F1_Score  \n",
       "0  0.892974  0.580091      0.92253   0.414291  0.483368  "
      ]
     },
     "execution_count": 179,
     "metadata": {},
     "output_type": "execute_result"
    }
   ],
   "source": [
    "# Score from Optimized RF:\n",
    "probs = best_rfc.predict_proba(X_test)[:,1]\n",
    "model_performance_search('Optimized RF', rf_grid)"
   ]
  },
  {
   "cell_type": "markdown",
   "metadata": {},
   "source": [
    "### Ensemble Tree Methods"
   ]
  },
  {
   "cell_type": "code",
   "execution_count": null,
   "metadata": {},
   "outputs": [],
   "source": [
    "gbc = GradientBoostingClassifier(random_state=42)\n",
    "gbc.fit(X_train, y_train)"
   ]
  },
  {
   "cell_type": "code",
   "execution_count": null,
   "metadata": {},
   "outputs": [],
   "source": [
    "# Ensemble of GradientBoost and RandomForest\n",
    "# Voting Classifier with soft voting \n",
    "votingC = VotingClassifier(estimators=[('rfc', rfc),('gbc',gbc)], voting='soft')\n",
    "votingC = votingC.fit(X_train, y_train)"
   ]
  },
  {
   "cell_type": "markdown",
   "metadata": {},
   "source": [
    "## Evaluation"
   ]
  },
  {
   "cell_type": "code",
   "execution_count": 185,
   "metadata": {},
   "outputs": [
    {
     "data": {
      "text/html": [
       "<div>\n",
       "<style scoped>\n",
       "    .dataframe tbody tr th:only-of-type {\n",
       "        vertical-align: middle;\n",
       "    }\n",
       "\n",
       "    .dataframe tbody tr th {\n",
       "        vertical-align: top;\n",
       "    }\n",
       "\n",
       "    .dataframe thead th {\n",
       "        text-align: right;\n",
       "    }\n",
       "</style>\n",
       "<table border=\"1\" class=\"dataframe\">\n",
       "  <thead>\n",
       "    <tr style=\"text-align: right;\">\n",
       "      <th></th>\n",
       "      <th>model</th>\n",
       "      <th>model_name</th>\n",
       "      <th>roc_auc</th>\n",
       "      <th>accuracy</th>\n",
       "      <th>recall</th>\n",
       "      <th>specificity</th>\n",
       "      <th>precision</th>\n",
       "      <th>f1_score</th>\n",
       "    </tr>\n",
       "  </thead>\n",
       "  <tbody>\n",
       "    <tr>\n",
       "      <td>0</td>\n",
       "      <td>Optimized Decision Tree</td>\n",
       "      <td>RandomizedSearchCV(cv=StratifiedShuffleSplit(n...</td>\n",
       "      <td>0.845224</td>\n",
       "      <td>0.896899</td>\n",
       "      <td>0.477009</td>\n",
       "      <td>0.936563</td>\n",
       "      <td>0.415310</td>\n",
       "      <td>0.444026</td>\n",
       "    </tr>\n",
       "    <tr>\n",
       "      <td>1</td>\n",
       "      <td>Basic RF</td>\n",
       "      <td>(DecisionTreeClassifier(ccp_alpha=0.0, class_w...</td>\n",
       "      <td>0.886519</td>\n",
       "      <td>0.913385</td>\n",
       "      <td>0.481051</td>\n",
       "      <td>0.954224</td>\n",
       "      <td>0.498168</td>\n",
       "      <td>0.489460</td>\n",
       "    </tr>\n",
       "    <tr>\n",
       "      <td>2</td>\n",
       "      <td>Optimized RF</td>\n",
       "      <td>RandomizedSearchCV(cv=StratifiedShuffleSplit(n...</td>\n",
       "      <td>0.883586</td>\n",
       "      <td>0.892974</td>\n",
       "      <td>0.580091</td>\n",
       "      <td>0.922530</td>\n",
       "      <td>0.414291</td>\n",
       "      <td>0.483368</td>\n",
       "    </tr>\n",
       "  </tbody>\n",
       "</table>\n",
       "</div>"
      ],
      "text/plain": [
       "                     model                                         model_name  \\\n",
       "0  Optimized Decision Tree  RandomizedSearchCV(cv=StratifiedShuffleSplit(n...   \n",
       "1                 Basic RF  (DecisionTreeClassifier(ccp_alpha=0.0, class_w...   \n",
       "2             Optimized RF  RandomizedSearchCV(cv=StratifiedShuffleSplit(n...   \n",
       "\n",
       "    roc_auc  accuracy    recall  specificity  precision  f1_score  \n",
       "0  0.845224  0.896899  0.477009     0.936563   0.415310  0.444026  \n",
       "1  0.886519  0.913385  0.481051     0.954224   0.498168  0.489460  \n",
       "2  0.883586  0.892974  0.580091     0.922530   0.414291  0.483368  "
      ]
     },
     "execution_count": 185,
     "metadata": {},
     "output_type": "execute_result"
    }
   ],
   "source": [
    "results = pd.DataFrame({'model': name_list, \n",
    "                        'model_name': model_list,\n",
    "                        'roc_auc': roc_list,\n",
    "                        'accuracy': scores_list, \n",
    "                        'recall': recall_list, \n",
    "                        'specificity': specificity_list,\n",
    "                        'precision': precision_list,\n",
    "                        'f1_score': f1_list\n",
    "                       })\n",
    "\n",
    "results.to_csv('../data/ph1_tree_results.csv')\n",
    "               \n",
    "results"
   ]
  },
  {
   "cell_type": "code",
   "execution_count": 181,
   "metadata": {},
   "outputs": [
    {
     "data": {
      "text/html": [
       "<div>\n",
       "<style scoped>\n",
       "    .dataframe tbody tr th:only-of-type {\n",
       "        vertical-align: middle;\n",
       "    }\n",
       "\n",
       "    .dataframe tbody tr th {\n",
       "        vertical-align: top;\n",
       "    }\n",
       "\n",
       "    .dataframe thead th {\n",
       "        text-align: right;\n",
       "    }\n",
       "</style>\n",
       "<table border=\"1\" class=\"dataframe\">\n",
       "  <thead>\n",
       "    <tr style=\"text-align: right;\">\n",
       "      <th></th>\n",
       "      <th>model</th>\n",
       "      <th>best roc score</th>\n",
       "      <th>best estimator</th>\n",
       "      <th>params</th>\n",
       "    </tr>\n",
       "  </thead>\n",
       "  <tbody>\n",
       "    <tr>\n",
       "      <td>0</td>\n",
       "      <td>Optimized Decision Tree</td>\n",
       "      <td>0.967272</td>\n",
       "      <td>DecisionTreeClassifier(ccp_alpha=0.0, class_we...</td>\n",
       "      <td>{'min_samples_split': 30, 'min_samples_leaf': ...</td>\n",
       "    </tr>\n",
       "    <tr>\n",
       "      <td>1</td>\n",
       "      <td>Optimized RF</td>\n",
       "      <td>0.981552</td>\n",
       "      <td>(DecisionTreeClassifier(ccp_alpha=0.0, class_w...</td>\n",
       "      <td>{'warm_start': False, 'min_samples_split': 5, ...</td>\n",
       "    </tr>\n",
       "  </tbody>\n",
       "</table>\n",
       "</div>"
      ],
      "text/plain": [
       "                     model  best roc score  \\\n",
       "0  Optimized Decision Tree        0.967272   \n",
       "1             Optimized RF        0.981552   \n",
       "\n",
       "                                      best estimator  \\\n",
       "0  DecisionTreeClassifier(ccp_alpha=0.0, class_we...   \n",
       "1  (DecisionTreeClassifier(ccp_alpha=0.0, class_w...   \n",
       "\n",
       "                                              params  \n",
       "0  {'min_samples_split': 30, 'min_samples_leaf': ...  \n",
       "1  {'warm_start': False, 'min_samples_split': 5, ...  "
      ]
     },
     "execution_count": 181,
     "metadata": {},
     "output_type": "execute_result"
    }
   ],
   "source": [
    "search_results = pd.DataFrame({'model': search_model,\n",
    "                              'best roc score':search_best_score ,\n",
    "                              'best estimator':search_best_estimator,\n",
    "                              'params':search_params_list    \n",
    "})\n",
    "search_results"
   ]
  },
  {
   "cell_type": "code",
   "execution_count": null,
   "metadata": {},
   "outputs": [],
   "source": []
  },
  {
   "cell_type": "markdown",
   "metadata": {},
   "source": [
    "#### Results with Decision Tree"
   ]
  },
  {
   "cell_type": "code",
   "execution_count": null,
   "metadata": {},
   "outputs": [],
   "source": [
    "# Tree with Oversampling\n",
    "probs1 = dt1.predict_proba(X_test)[:,1]\n",
    "auc = roc_auc_score(y_test,probs1)\n",
    "fpr_dt1, tpr_dt1,thresholds_dt1 = roc_curve (y_test,probs1)\n",
    "print(\"AUC_ROC - SMOTE:\",auc)\n",
    "\n",
    "# Tree with Oversampling\n",
    "probs2 = dt2.predict_proba(X_test)[:,1]\n",
    "auc = roc_auc_score(y_test, probs2)\n",
    "fpr_dt2, tpr_dt2, thresholds_dt2 = roc_curve(y_test, probs2)\n",
    "print(\"AUC_ROC - ADASYN :\",auc)\n",
    "\n",
    "probs3 = dt3.predict_proba(X_test)[:,1]\n",
    "auc = roc_auc_score(y_test,probs3)\n",
    "fpr_dt3, tpr_dt3,thresholds_dt3 = roc_curve (y_test,probs3)\n",
    "print(\"AUC_ROC - balanced class weights:\",auc)"
   ]
  },
  {
   "cell_type": "markdown",
   "metadata": {},
   "source": [
    "#### Results with Random Forest"
   ]
  },
  {
   "cell_type": "code",
   "execution_count": 52,
   "metadata": {},
   "outputs": [
    {
     "name": "stdout",
     "output_type": "stream",
     "text": [
      "AUC-ROC: 0.8865189742897078\n"
     ]
    }
   ],
   "source": [
    "probs = rfc.predict_proba(X_test)[:,1]\n",
    "auc = roc_auc_score(y_test,probs)\n",
    "fpr_rf, tpr_rf,thresholds_rf = roc_curve(y_test,probs)\n",
    "print(\"AUC-ROC:\",auc)"
   ]
  },
  {
   "cell_type": "code",
   "execution_count": null,
   "metadata": {},
   "outputs": [],
   "source": [
    "#### Results with Randomized Search Random Forest"
   ]
  },
  {
   "cell_type": "code",
   "execution_count": 53,
   "metadata": {},
   "outputs": [
    {
     "name": "stdout",
     "output_type": "stream",
     "text": [
      "AUC-ROC: 0.8835863922016496\n"
     ]
    }
   ],
   "source": [
    "probs = best_rfc.predict_proba(X_test)[:,1]\n",
    "auc = roc_auc_score(y_test,probs)\n",
    "fpr_best_rf, tpr_best_rf,thresholds_best_rf = roc_curve(y_test,probs)\n",
    "print(\"AUC-ROC:\",auc)"
   ]
  },
  {
   "cell_type": "markdown",
   "metadata": {},
   "source": [
    "#### Results with GradientBoost"
   ]
  },
  {
   "cell_type": "code",
   "execution_count": null,
   "metadata": {},
   "outputs": [],
   "source": [
    "probs = gbc.predict_proba(X_test)[:, 1]\n",
    "auc = roc_auc_score(y_test, probs)\n",
    "fpr_gbc, tpr_gbc, thresholds_gbc = roc_curve(y_test, probs)\n",
    "print(\"AUC-ROC :\",auc)"
   ]
  },
  {
   "cell_type": "markdown",
   "metadata": {},
   "source": [
    "#### Results with votingC"
   ]
  },
  {
   "cell_type": "code",
   "execution_count": null,
   "metadata": {},
   "outputs": [],
   "source": [
    "#pred = votingC.predict(X_test)\n",
    "probs = votingC.predict_proba(X_test)[:, 1]\n",
    "auc = roc_auc_score(y_test, probs)\n",
    "fpr, tpr, thresholds = roc_curve(y_test, probs)\n",
    "print(\"AUC-ROC :\",auc)"
   ]
  },
  {
   "cell_type": "markdown",
   "metadata": {},
   "source": [
    "#### Results from logistic Regression"
   ]
  },
  {
   "cell_type": "markdown",
   "metadata": {},
   "source": [
    "# Standardize the X_train data for logistic regression\n",
    "from sklearn.preprocessing import StandardScaler\n",
    "ss = StandardScaler()\n",
    "X_train_ss = ss.fit_transform(X_train)  # Scale X_train.\n",
    "X_test_ss = ss.transform(X_test)  # Scale X_test."
   ]
  },
  {
   "cell_type": "markdown",
   "metadata": {},
   "source": [
    "# save the model to disk\n",
    "filename = 'logr_randomizedsearchcv.sav'\n",
    "best_logr = pickle.load(open(filename, 'rb'))\n",
    "\n",
    "probs = best_logr.predict_proba(X_test_ss)[:,1]\n",
    "auc = roc_auc_score(y_test,probs)\n",
    "fpr_logr,tpr_logr,threshold_logr = roc_curve(y_test,probs)\n",
    "print(\"AUC-ROC :\",auc)"
   ]
  },
  {
   "cell_type": "code",
   "execution_count": null,
   "metadata": {},
   "outputs": [],
   "source": []
  },
  {
   "cell_type": "markdown",
   "metadata": {},
   "source": [
    "## Performance Summary"
   ]
  },
  {
   "cell_type": "code",
   "execution_count": null,
   "metadata": {},
   "outputs": [],
   "source": [
    "plot_roc_curve(fpr, tpr,'ensemble')\n",
    "plot_roc_curve(fpr_gbc, tpr_gbc, 'GradientBoosting')\n",
    "plot_roc_curve(fpr_rf, tpr_rf, \"RandomForest\")\n",
    "plot_roc_curve(fpr_dt, tpr_dt,'Best Decision Tree')"
   ]
  },
  {
   "cell_type": "markdown",
   "metadata": {},
   "source": [
    "## Predicted Probability Distribution"
   ]
  },
  {
   "cell_type": "code",
   "execution_count": 182,
   "metadata": {},
   "outputs": [
    {
     "data": {
      "text/html": [
       "<div>\n",
       "<style scoped>\n",
       "    .dataframe tbody tr th:only-of-type {\n",
       "        vertical-align: middle;\n",
       "    }\n",
       "\n",
       "    .dataframe tbody tr th {\n",
       "        vertical-align: top;\n",
       "    }\n",
       "\n",
       "    .dataframe thead th {\n",
       "        text-align: right;\n",
       "    }\n",
       "</style>\n",
       "<table border=\"1\" class=\"dataframe\">\n",
       "  <thead>\n",
       "    <tr style=\"text-align: right;\">\n",
       "      <th></th>\n",
       "      <th>model</th>\n",
       "      <th>model_name</th>\n",
       "      <th>roc_auc</th>\n",
       "      <th>accuracy</th>\n",
       "      <th>recall</th>\n",
       "      <th>specificity</th>\n",
       "      <th>precision</th>\n",
       "      <th>f1_score</th>\n",
       "    </tr>\n",
       "  </thead>\n",
       "  <tbody>\n",
       "    <tr>\n",
       "      <td>0</td>\n",
       "      <td>Optimized Decision Tree</td>\n",
       "      <td>RandomizedSearchCV(cv=StratifiedShuffleSplit(n...</td>\n",
       "      <td>0.845224</td>\n",
       "      <td>0.896899</td>\n",
       "      <td>0.477009</td>\n",
       "      <td>0.936563</td>\n",
       "      <td>0.415310</td>\n",
       "      <td>0.444026</td>\n",
       "    </tr>\n",
       "    <tr>\n",
       "      <td>1</td>\n",
       "      <td>Basic RF</td>\n",
       "      <td>(DecisionTreeClassifier(ccp_alpha=0.0, class_w...</td>\n",
       "      <td>0.886519</td>\n",
       "      <td>0.913385</td>\n",
       "      <td>0.481051</td>\n",
       "      <td>0.954224</td>\n",
       "      <td>0.498168</td>\n",
       "      <td>0.489460</td>\n",
       "    </tr>\n",
       "    <tr>\n",
       "      <td>2</td>\n",
       "      <td>Optimized RF</td>\n",
       "      <td>RandomizedSearchCV(cv=StratifiedShuffleSplit(n...</td>\n",
       "      <td>0.883586</td>\n",
       "      <td>0.892974</td>\n",
       "      <td>0.580091</td>\n",
       "      <td>0.922530</td>\n",
       "      <td>0.414291</td>\n",
       "      <td>0.483368</td>\n",
       "    </tr>\n",
       "  </tbody>\n",
       "</table>\n",
       "</div>"
      ],
      "text/plain": [
       "                     model                                         model_name  \\\n",
       "0  Optimized Decision Tree  RandomizedSearchCV(cv=StratifiedShuffleSplit(n...   \n",
       "1                 Basic RF  (DecisionTreeClassifier(ccp_alpha=0.0, class_w...   \n",
       "2             Optimized RF  RandomizedSearchCV(cv=StratifiedShuffleSplit(n...   \n",
       "\n",
       "    roc_auc  accuracy    recall  specificity  precision  f1_score  \n",
       "0  0.845224  0.896899  0.477009     0.936563   0.415310  0.444026  \n",
       "1  0.886519  0.913385  0.481051     0.954224   0.498168  0.489460  \n",
       "2  0.883586  0.892974  0.580091     0.922530   0.414291  0.483368  "
      ]
     },
     "execution_count": 182,
     "metadata": {},
     "output_type": "execute_result"
    }
   ],
   "source": [
    "results"
   ]
  },
  {
   "cell_type": "code",
   "execution_count": 183,
   "metadata": {
    "scrolled": false
   },
   "outputs": [
    {
     "data": {
      "image/png": "[encoded data removed]",
      "text/plain": [
       "<Figure size 720x288 with 1 Axes>"
      ]
     },
     "metadata": {
      "needs_background": "light"
     },
     "output_type": "display_data"
    },
    {
     "data": {
      "image/png": "[encoded data removed]",
      "text/plain": [
       "<Figure size 720x288 with 1 Axes>"
      ]
     },
     "metadata": {
      "needs_background": "light"
     },
     "output_type": "display_data"
    },
    {
     "data": {
      "image/png": "[encoded data removed]",
      "text/plain": [
       "<Figure size 720x288 with 1 Axes>"
      ]
     },
     "metadata": {
      "needs_background": "light"
     },
     "output_type": "display_data"
    }
   ],
   "source": [
    "for model, name in zip(results.model, results.model_name):\n",
    "    pred_df = pd.DataFrame({'true_values': y_test,\n",
    "                            'pred_probs':name.predict_proba(X_test)[:,1]})\n",
    "    # Create figure.\n",
    "    plt.figure(figsize = (10,4))\n",
    "\n",
    "    # Create two histograms of observations.\n",
    "    plt.hist(pred_df[pred_df['true_values'] == 0]['pred_probs'],\n",
    "             bins=50,\n",
    "             color='b',\n",
    "             alpha = 0.5,\n",
    "             density=True,\n",
    "             label='hosptial_death = 0')\n",
    "    plt.hist(pred_df[pred_df['true_values'] == 1]['pred_probs'],\n",
    "             bins=50,\n",
    "             color='red',\n",
    "             alpha = 0.5,\n",
    "             density=True,\n",
    "             label='hosptial_death = 1')\n",
    "\n",
    "    # Label axes.\n",
    "    plt.title(model, fontsize=22)\n",
    "    plt.ylabel('Frequency', fontsize=18)\n",
    "    plt.xlabel('Predicted Probability for hospital_death = 1', fontsize=18)\n",
    "\n",
    "    # Create legend.\n",
    "    plt.legend(fontsize=10);"
   ]
  },
  {
   "cell_type": "code",
   "execution_count": null,
   "metadata": {},
   "outputs": [],
   "source": []
  },
  {
   "cell_type": "markdown",
   "metadata": {},
   "source": [
    "## Important Features"
   ]
  },
  {
   "cell_type": "code",
   "execution_count": null,
   "metadata": {},
   "outputs": [],
   "source": [
    "len(X.columns), len(dt1.feature_importances_)"
   ]
  },
  {
   "cell_type": "code",
   "execution_count": null,
   "metadata": {},
   "outputs": [],
   "source": [
    "feature_imp_df = pd.DataFrame({\"Feature\": X.columns, \"Importance\": dt1.feature_importances_}).sort_values(by=\"Importance\", ascending=False)\n",
    "sns.barplot(x=\"Importance\", y=\"Feature\", data=feature_imp_df.head(20))\n",
    "plt.title(\"Decision Tree\")\n",
    "plt.show()\n",
    "sns.barplot(x=\"Importance\", y=\"Feature\", data=feature_imp_df.tail(20))\n",
    "dt.max_features_"
   ]
  },
  {
   "cell_type": "code",
   "execution_count": null,
   "metadata": {},
   "outputs": [],
   "source": [
    "feature_imp_df = pd.DataFrame({\"Feature\": X.columns, \"Importance\": rfc.feature_importances_}).sort_values(by=\"Importance\", ascending=False)\n",
    "sns.barplot(x=\"Importance\", y=\"Feature\", data=feature_imp_df.head(20))\n",
    "plt.title(\"Random Forest\")\n",
    "plt.show()\n",
    "sns.barplot(x=\"Importance\", y=\"Feature\", data=feature_imp_df.tail(20))"
   ]
  },
  {
   "cell_type": "code",
   "execution_count": null,
   "metadata": {},
   "outputs": [],
   "source": [
    "feature_imp_df = pd.DataFrame({\"Feature\": X.columns, \"Importance\": gbc.feature_importances_}).sort_values(by=\"Importance\", ascending=False)\n",
    "sns.barplot(x=\"Importance\", y=\"Feature\", data=feature_imp_df.head(20))\n",
    "plt.title(\"Gradient Boost\")\n",
    "plt.show()\n",
    "sns.barplot(x=\"Importance\", y=\"Feature\", data=feature_imp_df.tail(20))"
   ]
  },
  {
   "cell_type": "markdown",
   "metadata": {},
   "source": [
    "## Submission"
   ]
  },
  {
   "cell_type": "code",
   "execution_count": null,
   "metadata": {},
   "outputs": [],
   "source": []
  },
  {
   "cell_type": "code",
   "execution_count": null,
   "metadata": {},
   "outputs": [],
   "source": [
    "pred_rf = rfc.predict_proba(test_imputed)[:,1]\n",
    "pred_results = pd.DataFrame({'encounter_id':test.encounter_id, 'hospital_death': pred_rf})\n",
    "pred_results.to_csv('../data/pred_rfc.csv',index=False)\n",
    "pred_results.head()"
   ]
  },
  {
   "cell_type": "code",
   "execution_count": null,
   "metadata": {},
   "outputs": [],
   "source": [
    "pred_gbc = gbc.predict_proba(test_imputed)[:,1]\n",
    "pred_results = pd.DataFrame({'encounter_id':test.encounter_id, 'hospital_death': pred_gbc})\n",
    "pred_results.to_csv('../data/pred_gbc.csv',index=False)\n",
    "pred_results.head()"
   ]
  },
  {
   "cell_type": "code",
   "execution_count": null,
   "metadata": {},
   "outputs": [],
   "source": [
    "pred_voting = votingC.predict_proba(test_imputed)[:, 1]\n",
    "pred_results = pd.DataFrame({'encounter_id': test.encounter_id, 'hospital_death':pred_voting}).set_index('encounter_id')\n",
    "pred_results.to_csv('../data/pred_voting.csv')\n",
    "pred_results.head()"
   ]
  }
 ],
 "metadata": {
  "kernelspec": {
   "display_name": "Python 3",
   "language": "python",
   "name": "python3"
  },
  "language_info": {
   "codemirror_mode": {
    "name": "ipython",
    "version": 3
   },
   "file_extension": ".py",
   "mimetype": "text/x-python",
   "name": "python",
   "nbconvert_exporter": "python",
   "pygments_lexer": "ipython3",
   "version": "3.7.4"
  }
 },
 "nbformat": 4,
 "nbformat_minor": 2
}
