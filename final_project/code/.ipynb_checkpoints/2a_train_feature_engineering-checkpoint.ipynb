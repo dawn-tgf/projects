{
 "cells": [
  {
   "cell_type": "code",
   "execution_count": 1,
   "metadata": {},
   "outputs": [],
   "source": [
    "import pandas as pd\n",
    "import numpy as np\n",
    "import seaborn as sns\n",
    "import matplotlib.pyplot as plt\n",
    "import missingno as msno\n",
    "%matplotlib inline\n",
    "\n",
    "#plt.style.use('fivethirtyeight')\n",
    "\n",
    "#%run ./two-histograms.ipynb"
   ]
  },
  {
   "cell_type": "code",
   "execution_count": 2,
   "metadata": {},
   "outputs": [],
   "source": [
    "### Create column list for different categories"
   ]
  },
  {
   "cell_type": "code",
   "execution_count": 3,
   "metadata": {},
   "outputs": [
    {
     "name": "stdout",
     "output_type": "stream",
     "text": [
      "The number of columns for demographic:  15\n",
      "The number of columns for vitals:  26\n",
      "The number of columns for lab tests:  30\n",
      "The number of columns for vitals_names:  13\n",
      "The number of columns for labsnames:  15\n",
      "The number of columns for arterial blood gas test:  8\n",
      "The number of columns for Glasgow Coma Score:  4\n",
      "The number of columns for APACHE 3 measurements:  18\n",
      "The number of columns for APACHE Chronic Health Status:  8\n",
      "The number of columns for other APACHE measurements:  6\n",
      "Total number of columns for APACHE:  40\n"
     ]
    }
   ],
   "source": [
    "demographic = ['hospital_death','age','bmi','weight','height','elective_surgery','ethnicity','gender','hospital_id','hospital_admit_source',\n",
    "'icu_admit_source','icu_id','icu_stay_type','icu_type','pre_icu_los_days']\n",
    "\n",
    "# APACHE related measurements\n",
    "# ---\n",
    "# 18 measurements\n",
    "apache_cov = ['albumin_apache','bilirubin_apache','bun_apache','creatinine_apache','glucose_apache','heart_rate_apache',\n",
    "          'hematocrit_apache','resprate_apache','sodium_apache','temp_apache','urineoutput_apache','wbc_apache',\n",
    "          'fio2_apache','map_apache','paco2_apache','paco2_for_ph_apache','pao2_apache','ph_apache']\n",
    "# 4 indicators\n",
    "apache_indicators = ['apache_post_operative','arf_apache','intubated_apache','ventilated_apache']\n",
    "\n",
    "# 8 Chronic health status\n",
    "apache_chronic = ['aids','cirrhosis','diabetes_mellitus','hepatic_failure',\n",
    "                  'immunosuppression','leukemia','lymphoma','solid_tumor_with_metastasis']\n",
    "# 6 others\n",
    "apache_others =['apache_2_diagnosis','apache_3j_diagnosis', 'apache_3j_bodysystem','apache_2_bodysystem',\n",
    "                'apache_4a_hospital_death_prob','apache_4a_icu_death_prob']\n",
    "\n",
    "gcs = ['gcs_eyes_apache','gcs_motor_apache','gcs_unable_apache','gcs_verbal_apache']\n",
    "\n",
    "apache = apache_cov + apache_indicators + apache_chronic + apache_others + gcs\n",
    "# ---\n",
    "\n",
    "vitals_names = ['diasbp_invasive','diasbp','diasbp_noninvasive','sysbp_invasive', 'sysbp', 'sysbp_noninvasive', \n",
    "                'mbp_invasive', 'mbp', 'mbp_noninvasive','heartrate','resprate' ,'spo2', 'temp']\n",
    "labs_names = ['albumin','bilirubin', 'bun','calcium', 'creatinine', 'glucose', 'hco3', 'hemaglobin','hematocrit','inr',\n",
    "        'lactate',  'platelets','potassium', 'sodium', 'wbc']\n",
    "\n",
    "vitals = ['diasbp_invasive_max','diasbp_invasive_min','diasbp_max','diasbp_min','diasbp_noninvasive_max', 'diasbp_noninvasive_min', \n",
    "          'sysbp_invasive_max','sysbp_invasive_min','sysbp_max','sysbp_min', 'sysbp_noninvasive_max','sysbp_noninvasive_min',\n",
    "          'mbp_invasive_max', 'mbp_invasive_min', 'mbp_max', 'mbp_min','mbp_noninvasive_max', 'mbp_noninvasive_min', \n",
    "          'heartrate_max','heartrate_min','resprate_max','resprate_min','spo2_max','spo2_min','temp_max','temp_min']\n",
    "\n",
    "labs = ['albumin_max', 'albumin_min', 'bilirubin_max' ,'bilirubin_min', 'bun_max',\n",
    " 'bun_min', 'calcium_max', 'calcium_min', 'creatinine_max', 'creatinine_min',\n",
    " 'glucose_max', 'glucose_min', 'hco3_max' ,'hco3_min', 'hemaglobin_max',\n",
    " 'hemaglobin_min' ,'hematocrit_max', 'hematocrit_min' ,'inr_max' ,'inr_min',\n",
    " 'lactate_max', 'lactate_min', 'platelets_max', 'platelets_min',\n",
    " 'potassium_max' ,'potassium_min', 'sodium_max', 'sodium_min', 'wbc_max',\n",
    " 'wbc_min']\n",
    "\n",
    "# Arterial blood gas test\n",
    "lab_blood_gas = ['arterial_pco2_max', 'arterial_pco2_min', 'arterial_ph_max', 'arterial_ph_min', \n",
    "                 'arterial_po2_max', 'arterial_po2_min', 'pao2fio2ratio_max', 'pao2fio2ratio_min']\n",
    "\n",
    "print(\"The number of columns for demographic: \",len(demographic))\n",
    "print(\"The number of columns for vitals: \",len(vitals))\n",
    "print(\"The number of columns for lab tests: \",len(labs))\n",
    "print(\"The number of columns for vitals_names: \",len(vitals_names)) \n",
    "print(\"The number of columns for labsnames: \",len(labs_names))\n",
    "print(\"The number of columns for arterial blood gas test: \",len(lab_blood_gas))\n",
    "print(\"The number of columns for Glasgow Coma Score: \",len(gcs))\n",
    "print(\"The number of columns for APACHE 3 measurements: \",len(apache_cov))\n",
    "print(\"The number of columns for APACHE Chronic Health Status: \",len(apache_chronic))\n",
    "print(\"The number of columns for other APACHE measurements: \",len(apache_others))\n",
    "print(\"Total number of columns for APACHE: \",len(apache))\n",
    "\n",
    "h1_vitals = ['h1_'+name for name in vitals]\n",
    "d1_vitals = ['d1_'+name for name in vitals]\n",
    "h1_labs = ['h1_'+name for name in labs]\n",
    "d1_labs = ['d1_'+name for name in labs]\n",
    "h1_lbg = ['h1_'+name for name in lab_blood_gas]\n",
    "d1_lbg = ['d1_'+name for name in lab_blood_gas]"
   ]
  },
  {
   "cell_type": "markdown",
   "metadata": {},
   "source": [
    "## 1. Load the dataset"
   ]
  },
  {
   "cell_type": "code",
   "execution_count": 4,
   "metadata": {},
   "outputs": [
    {
     "name": "stdout",
     "output_type": "stream",
     "text": [
      "(91713, 186) (91713, 183)\n"
     ]
    }
   ],
   "source": [
    "train = pd.read_csv('../data/training_v2.csv')\n",
    "df = pd.read_csv('../data/train_clean_ph2.csv')\n",
    "df2 = pd.read_csv('../data/train_clean_ph3.csv')\n",
    "print(train.shape, df.shape)"
   ]
  },
  {
   "cell_type": "code",
   "execution_count": 5,
   "metadata": {},
   "outputs": [
    {
     "data": {
      "text/html": [
       "<div>\n",
       "<style scoped>\n",
       "    .dataframe tbody tr th:only-of-type {\n",
       "        vertical-align: middle;\n",
       "    }\n",
       "\n",
       "    .dataframe tbody tr th {\n",
       "        vertical-align: top;\n",
       "    }\n",
       "\n",
       "    .dataframe thead th {\n",
       "        text-align: right;\n",
       "    }\n",
       "</style>\n",
       "<table border=\"1\" class=\"dataframe\">\n",
       "  <thead>\n",
       "    <tr style=\"text-align: right;\">\n",
       "      <th></th>\n",
       "      <th>hospital_id</th>\n",
       "      <th>hospital_death</th>\n",
       "      <th>age</th>\n",
       "      <th>bmi</th>\n",
       "      <th>elective_surgery</th>\n",
       "      <th>ethnicity</th>\n",
       "      <th>gender</th>\n",
       "      <th>height</th>\n",
       "      <th>hospital_admit_source</th>\n",
       "      <th>icu_admit_source</th>\n",
       "      <th>...</th>\n",
       "      <th>aids</th>\n",
       "      <th>cirrhosis</th>\n",
       "      <th>diabetes_mellitus</th>\n",
       "      <th>hepatic_failure</th>\n",
       "      <th>immunosuppression</th>\n",
       "      <th>leukemia</th>\n",
       "      <th>lymphoma</th>\n",
       "      <th>solid_tumor_with_metastasis</th>\n",
       "      <th>apache_3j_bodysystem</th>\n",
       "      <th>apache_2_bodysystem</th>\n",
       "    </tr>\n",
       "  </thead>\n",
       "  <tbody>\n",
       "    <tr>\n",
       "      <td>0</td>\n",
       "      <td>118</td>\n",
       "      <td>0</td>\n",
       "      <td>68.0</td>\n",
       "      <td>22.73</td>\n",
       "      <td>0</td>\n",
       "      <td>Caucasian</td>\n",
       "      <td>M</td>\n",
       "      <td>180.3</td>\n",
       "      <td>Floor</td>\n",
       "      <td>Floor</td>\n",
       "      <td>...</td>\n",
       "      <td>0.0</td>\n",
       "      <td>0.0</td>\n",
       "      <td>1.0</td>\n",
       "      <td>0.0</td>\n",
       "      <td>0.0</td>\n",
       "      <td>0.0</td>\n",
       "      <td>0.0</td>\n",
       "      <td>0.0</td>\n",
       "      <td>Sepsis</td>\n",
       "      <td>Cardiovascular</td>\n",
       "    </tr>\n",
       "    <tr>\n",
       "      <td>1</td>\n",
       "      <td>81</td>\n",
       "      <td>0</td>\n",
       "      <td>77.0</td>\n",
       "      <td>27.42</td>\n",
       "      <td>0</td>\n",
       "      <td>Caucasian</td>\n",
       "      <td>F</td>\n",
       "      <td>160.0</td>\n",
       "      <td>Floor</td>\n",
       "      <td>Floor</td>\n",
       "      <td>...</td>\n",
       "      <td>0.0</td>\n",
       "      <td>0.0</td>\n",
       "      <td>1.0</td>\n",
       "      <td>0.0</td>\n",
       "      <td>0.0</td>\n",
       "      <td>0.0</td>\n",
       "      <td>0.0</td>\n",
       "      <td>0.0</td>\n",
       "      <td>Respiratory</td>\n",
       "      <td>Respiratory</td>\n",
       "    </tr>\n",
       "    <tr>\n",
       "      <td>2</td>\n",
       "      <td>118</td>\n",
       "      <td>0</td>\n",
       "      <td>25.0</td>\n",
       "      <td>31.95</td>\n",
       "      <td>0</td>\n",
       "      <td>Caucasian</td>\n",
       "      <td>F</td>\n",
       "      <td>172.7</td>\n",
       "      <td>Emergency Department</td>\n",
       "      <td>Accident &amp; Emergency</td>\n",
       "      <td>...</td>\n",
       "      <td>0.0</td>\n",
       "      <td>0.0</td>\n",
       "      <td>0.0</td>\n",
       "      <td>0.0</td>\n",
       "      <td>0.0</td>\n",
       "      <td>0.0</td>\n",
       "      <td>0.0</td>\n",
       "      <td>0.0</td>\n",
       "      <td>Metabolic</td>\n",
       "      <td>Metabolic</td>\n",
       "    </tr>\n",
       "    <tr>\n",
       "      <td>3</td>\n",
       "      <td>118</td>\n",
       "      <td>0</td>\n",
       "      <td>81.0</td>\n",
       "      <td>22.64</td>\n",
       "      <td>1</td>\n",
       "      <td>Caucasian</td>\n",
       "      <td>F</td>\n",
       "      <td>165.1</td>\n",
       "      <td>Operating Room</td>\n",
       "      <td>Operating Room / Recovery</td>\n",
       "      <td>...</td>\n",
       "      <td>0.0</td>\n",
       "      <td>0.0</td>\n",
       "      <td>0.0</td>\n",
       "      <td>0.0</td>\n",
       "      <td>0.0</td>\n",
       "      <td>0.0</td>\n",
       "      <td>0.0</td>\n",
       "      <td>0.0</td>\n",
       "      <td>Cardiovascular</td>\n",
       "      <td>Cardiovascular</td>\n",
       "    </tr>\n",
       "    <tr>\n",
       "      <td>4</td>\n",
       "      <td>33</td>\n",
       "      <td>0</td>\n",
       "      <td>19.0</td>\n",
       "      <td>NaN</td>\n",
       "      <td>0</td>\n",
       "      <td>Caucasian</td>\n",
       "      <td>M</td>\n",
       "      <td>188.0</td>\n",
       "      <td>Emergency Department</td>\n",
       "      <td>Accident &amp; Emergency</td>\n",
       "      <td>...</td>\n",
       "      <td>0.0</td>\n",
       "      <td>0.0</td>\n",
       "      <td>0.0</td>\n",
       "      <td>0.0</td>\n",
       "      <td>0.0</td>\n",
       "      <td>0.0</td>\n",
       "      <td>0.0</td>\n",
       "      <td>0.0</td>\n",
       "      <td>Trauma</td>\n",
       "      <td>Trauma</td>\n",
       "    </tr>\n",
       "  </tbody>\n",
       "</table>\n",
       "<p>5 rows × 183 columns</p>\n",
       "</div>"
      ],
      "text/plain": [
       "   hospital_id  hospital_death   age    bmi  elective_surgery  ethnicity  \\\n",
       "0          118               0  68.0  22.73                 0  Caucasian   \n",
       "1           81               0  77.0  27.42                 0  Caucasian   \n",
       "2          118               0  25.0  31.95                 0  Caucasian   \n",
       "3          118               0  81.0  22.64                 1  Caucasian   \n",
       "4           33               0  19.0    NaN                 0  Caucasian   \n",
       "\n",
       "  gender  height hospital_admit_source           icu_admit_source  ...  aids  \\\n",
       "0      M   180.3                 Floor                      Floor  ...   0.0   \n",
       "1      F   160.0                 Floor                      Floor  ...   0.0   \n",
       "2      F   172.7  Emergency Department       Accident & Emergency  ...   0.0   \n",
       "3      F   165.1        Operating Room  Operating Room / Recovery  ...   0.0   \n",
       "4      M   188.0  Emergency Department       Accident & Emergency  ...   0.0   \n",
       "\n",
       "  cirrhosis diabetes_mellitus  hepatic_failure  immunosuppression  leukemia  \\\n",
       "0       0.0               1.0              0.0                0.0       0.0   \n",
       "1       0.0               1.0              0.0                0.0       0.0   \n",
       "2       0.0               0.0              0.0                0.0       0.0   \n",
       "3       0.0               0.0              0.0                0.0       0.0   \n",
       "4       0.0               0.0              0.0                0.0       0.0   \n",
       "\n",
       "   lymphoma  solid_tumor_with_metastasis  apache_3j_bodysystem  \\\n",
       "0       0.0                          0.0                Sepsis   \n",
       "1       0.0                          0.0           Respiratory   \n",
       "2       0.0                          0.0             Metabolic   \n",
       "3       0.0                          0.0        Cardiovascular   \n",
       "4       0.0                          0.0                Trauma   \n",
       "\n",
       "   apache_2_bodysystem  \n",
       "0       Cardiovascular  \n",
       "1          Respiratory  \n",
       "2            Metabolic  \n",
       "3       Cardiovascular  \n",
       "4               Trauma  \n",
       "\n",
       "[5 rows x 183 columns]"
      ]
     },
     "execution_count": 5,
     "metadata": {},
     "output_type": "execute_result"
    }
   ],
   "source": [
    "df.head()"
   ]
  },
  {
   "cell_type": "markdown",
   "metadata": {},
   "source": [
    "## 2. Feature Engineering"
   ]
  },
  {
   "cell_type": "markdown",
   "metadata": {},
   "source": [
    "### 1) New Variable to Classify patient's Diagnosis\n",
    "* Create new varible to group patients by 3j diagnosis' main diagnosis (ignore the sub-diagnosis(the decimals) For example:\n",
    "\n",
    "|Illness|Non-Operative|Post-operative|\n",
    "|-----|-----|-----|\n",
    "|Cardiovascular|1xx|12xx|\n",
    "|Respiratory|2xx, 3xx|13xx|\n",
    "|Neurological|4xx|15xx| "
   ]
  },
  {
   "cell_type": "code",
   "execution_count": 6,
   "metadata": {},
   "outputs": [],
   "source": [
    "# Create new varible to group patients by 3j diagnosis' main diagnosis (ignore the sub-diagnosis - decimals)\n",
    "df['apache_3j_diag_int'] = df['apache_3j_diagnosis'].fillna(0).astype(str).map(lambda i: i.split('.')[0])"
   ]
  },
  {
   "cell_type": "markdown",
   "metadata": {},
   "source": [
    "### 2) Tag Critically ill Patients at ICU admission\n",
    "For critically ill patients in the ICU, monitoring of arterial blood pressure (BP) is a mainstay of hemodynamic monitoring - hypotension and hypertension. [literature](https://www.ncbi.nlm.nih.gov/pmc/articles/PMC5766655/).  I'll use the h1 invasive BP data to tag patients as \"critically_ill' at ICU admission"
   ]
  },
  {
   "cell_type": "code",
   "execution_count": 7,
   "metadata": {},
   "outputs": [
    {
     "data": {
      "text/plain": [
       "['h1_diasbp_invasive_max',\n",
       " 'h1_diasbp_invasive_min',\n",
       " 'h1_mbp_invasive_max',\n",
       " 'h1_mbp_invasive_min',\n",
       " 'h1_sysbp_invasive_max',\n",
       " 'h1_sysbp_invasive_min']"
      ]
     },
     "execution_count": 7,
     "metadata": {},
     "output_type": "execute_result"
    }
   ],
   "source": [
    "# Extract invasive BP variables in the first hour\n",
    "invasive_h1 = [col for col in df.columns if (\"_invasive_\" in col) & (\"h1_\" in col)]\n",
    "invasive_h1"
   ]
  },
  {
   "cell_type": "code",
   "execution_count": 8,
   "metadata": {},
   "outputs": [],
   "source": [
    "# If any of these \"_invasive_\" columns is not null, the patient has invasive arterial BP measurement\n",
    "df[\"critically_ill\"] = df[invasive_h1].any(axis='columns').astype(int)"
   ]
  },
  {
   "cell_type": "code",
   "execution_count": 9,
   "metadata": {},
   "outputs": [
    {
     "name": "stdout",
     "output_type": "stream",
     "text": [
      "(17077, 185)\n",
      "(17077, 185)\n"
     ]
    }
   ],
   "source": [
    "# Verify the variable is created corrected\n",
    "print(df[df[invasive_h1].isnull().sum(axis=1)<6].shape)    # patients with invasive BP measurements\n",
    "print(df[(df[invasive_h1].isnull().sum(axis=1)<6) & (df[\"critically_ill\"]==1)].shape)  # patients with invasive BP and tagged"
   ]
  },
  {
   "cell_type": "markdown",
   "metadata": {},
   "source": [
    "### 3) Bun to creatinine Ratio - using d1 data\n",
    "The ratio of BUN to creatinine is usually between 10:1 and 20:1. An increased ratio may be due to a condition that causes a decrease in the flow of blood to the kidneys, such as congestive heart failure or dehydration. It may also be seen with increased protein, from gastrointestinal bleeding, or increased protein in the diet. The ratio may be decreased with liver disease (due to decrease in the formation of urea) and malnutrition. [source](https://labtestsonline.org/tests/blood-urea-nitrogen-bun)"
   ]
  },
  {
   "cell_type": "code",
   "execution_count": 10,
   "metadata": {},
   "outputs": [],
   "source": [
    "# df['bun_to_creatinine'] = round(df.bun_apache/df.creatinine_apache,2) \n",
    "df['bun_to_creatinine'] = round(df.d1_bun_max/df.d1_creatinine_max,2)"
   ]
  },
  {
   "cell_type": "code",
   "execution_count": 11,
   "metadata": {},
   "outputs": [
    {
     "data": {
      "text/plain": [
       "bun_apache            9762\n",
       "d1_bun_max           10514\n",
       "d1_bun_min           10514\n",
       "h1_bun_max           75091\n",
       "h1_bun_min           75091\n",
       "bun_to_creatinine    10736\n",
       "dtype: int64"
      ]
     },
     "execution_count": 11,
     "metadata": {},
     "output_type": "execute_result"
    }
   ],
   "source": [
    "bun_col = [i for i in df.columns if 'bun' in i]\n",
    "df[bun_col].isnull().sum()"
   ]
  },
  {
   "cell_type": "code",
   "execution_count": 12,
   "metadata": {},
   "outputs": [
    {
     "data": {
      "text/plain": [
       "creatinine_apache    18853\n",
       "d1_creatinine_max    10169\n",
       "d1_creatinine_min    10169\n",
       "h1_creatinine_max    74957\n",
       "h1_creatinine_min    74957\n",
       "bun_to_creatinine    10736\n",
       "dtype: int64"
      ]
     },
     "execution_count": 12,
     "metadata": {},
     "output_type": "execute_result"
    }
   ],
   "source": [
    "creatinine_col = [i for i in df.columns if \"creatinine\" in i]\n",
    "df[creatinine_col].isnull().sum()"
   ]
  },
  {
   "cell_type": "code",
   "execution_count": 13,
   "metadata": {},
   "outputs": [
    {
     "data": {
      "text/plain": [
       "<matplotlib.axes._subplots.AxesSubplot at 0x20fa70455c8>"
      ]
     },
     "execution_count": 13,
     "metadata": {},
     "output_type": "execute_result"
    },
    {
     "data": {
      "image/png": "[encoded data removed]",
      "text/plain": [
       "<Figure size 432x288 with 1 Axes>"
      ]
     },
     "metadata": {
      "needs_background": "light"
     },
     "output_type": "display_data"
    }
   ],
   "source": [
    "df['bun_to_creatinine'].plot.hist()"
   ]
  },
  {
   "cell_type": "code",
   "execution_count": 14,
   "metadata": {},
   "outputs": [
    {
     "data": {
      "text/plain": [
       "<matplotlib.axes._subplots.AxesSubplot at 0x20fa8a28c08>"
      ]
     },
     "execution_count": 14,
     "metadata": {},
     "output_type": "execute_result"
    },
    {
     "data": {
      "image/png": "[encoded data removed]",
      "text/plain": [
       "<Figure size 432x288 with 1 Axes>"
      ]
     },
     "metadata": {
      "needs_background": "light"
     },
     "output_type": "display_data"
    }
   ],
   "source": [
    "sns.boxplot(df.hospital_death, df.bun_to_creatinine)"
   ]
  },
  {
   "cell_type": "markdown",
   "metadata": {},
   "source": [
    "### 4) Columns to show the number of test a patients received at First Hour and First Day"
   ]
  },
  {
   "cell_type": "code",
   "execution_count": 15,
   "metadata": {},
   "outputs": [
    {
     "name": "stdout",
     "output_type": "stream",
     "text": [
      "64\n",
      "30\n",
      "['h1_albumin_max', 'h1_albumin_min', 'h1_bilirubin_max', 'h1_bilirubin_min', 'h1_bun_max', 'h1_bun_min', 'h1_calcium_max', 'h1_calcium_min', 'h1_creatinine_max', 'h1_creatinine_min', 'h1_glucose_max', 'h1_glucose_min', 'h1_hco3_max', 'h1_hco3_min', 'h1_hemaglobin_max', 'h1_hemaglobin_min', 'h1_hematocrit_max', 'h1_hematocrit_min', 'h1_inr_max', 'h1_inr_min', 'h1_lactate_max', 'h1_lactate_min', 'h1_platelets_max', 'h1_platelets_min', 'h1_potassium_max', 'h1_potassium_min', 'h1_sodium_max', 'h1_sodium_min', 'h1_wbc_max', 'h1_wbc_min']\n",
      "['h1_arterial_pco2_max', 'h1_arterial_pco2_min', 'h1_arterial_ph_max', 'h1_arterial_ph_min', 'h1_arterial_po2_max', 'h1_arterial_po2_min', 'h1_pao2fio2ratio_max', 'h1_pao2fio2ratio_min']\n",
      "64\n",
      "30\n",
      "['d1_albumin_max', 'd1_albumin_min', 'd1_bilirubin_max', 'd1_bilirubin_min', 'd1_bun_max', 'd1_bun_min', 'd1_calcium_max', 'd1_calcium_min', 'd1_creatinine_max', 'd1_creatinine_min', 'd1_glucose_max', 'd1_glucose_min', 'd1_hco3_max', 'd1_hco3_min', 'd1_hemaglobin_max', 'd1_hemaglobin_min', 'd1_hematocrit_max', 'd1_hematocrit_min', 'd1_inr_max', 'd1_inr_min', 'd1_lactate_max', 'd1_lactate_min', 'd1_platelets_max', 'd1_platelets_min', 'd1_potassium_max', 'd1_potassium_min', 'd1_sodium_max', 'd1_sodium_min', 'd1_wbc_max', 'd1_wbc_min']\n"
     ]
    }
   ],
   "source": [
    "h1_cols = [col for col in df.columns if col.startswith(\"h1_\")]\n",
    "print(len(h1_cols))\n",
    "print(len(h1_labs))\n",
    "print(h1_labs)\n",
    "print(h1_lbg)\n",
    "\n",
    "d1_cols = [col for col in df.columns if col.startswith(\"d1_\")]\n",
    "print(len(d1_cols))\n",
    "print(len(d1_labs))\n",
    "print(d1_labs)"
   ]
  },
  {
   "cell_type": "code",
   "execution_count": 16,
   "metadata": {},
   "outputs": [
    {
     "name": "stdout",
     "output_type": "stream",
     "text": [
      "Data Dimention:  (91713, 186)\n",
      "Data Dimention:  (91713, 195)\n"
     ]
    }
   ],
   "source": [
    "print(\"Data Dimention: \",df.shape)\n",
    "\n",
    "df[\"h1_ttl_tests\"] = df[h1_cols].notnull().sum(axis=1)    # total number of tests in the 1st hour\n",
    "df[\"d1_ttl_tests\"] = df[d1_cols].notnull().sum(axis=1)    # total number of tests in the 1st day\n",
    "\n",
    "df['h1_num_labs'] = df[h1_labs].notnull().sum(axis=1)     # total number of lab tests in the 1st hour\n",
    "df['d1_num_labs'] = df[d1_labs].notnull().sum(axis=1)     # total number of lab tests in the 1st day\n",
    "\n",
    "df['h1_lbg'] = df[h1_lbg].notnull().any(axis=1).astype(int) # Did patient receive lab blood gas test in the 1st hour?\n",
    "df['d1_lbg'] = df[d1_lbg].notnull().any(axis=1).astype(int) # Did patient receive lab blood gas test in the 1st day?\n",
    "\n",
    "# Patient's condition change by looking at the change of num of tests\n",
    "# for variables that look at percentage change, denominator+1 to  prevend division by 0\n",
    "#df['total_tests_increase'] = round((df[\"d1_ttl_tests\"] - df[\"h1_ttl_tests\"])/(df[\"h1_ttl_tests\"]+0.1),2)\n",
    "#df['total_tests_increase'] = np.clip(df['total_tests_increase'],0,700)\n",
    "#df['total_labs_increase'] = round((df['d1_num_labs'] - df['h1_num_labs'])/(df['h1_num_labs']+0.1),2)\n",
    "#df['total_labs_increase'] = np.clip(df['total_labs_increase'],0,300)\n",
    "\n",
    "# Patient's condition change by looking at the change of num of tests\n",
    "df['total_tests_increase'] = df[\"d1_ttl_tests\"] - df[\"h1_ttl_tests\"]\n",
    "df['total_labs_increase'] = df['d1_num_labs'] - df['h1_num_labs']\n",
    "df['added_lbg'] = df['d1_lbg'] - df['h1_lbg']\n",
    "\n",
    "print(\"Data Dimention: \",df.shape)\n",
    "#df"
   ]
  },
  {
   "cell_type": "code",
   "execution_count": 17,
   "metadata": {},
   "outputs": [
    {
     "data": {
      "text/plain": [
       "<matplotlib.axes._subplots.AxesSubplot at 0x20fa8bfef08>"
      ]
     },
     "execution_count": 17,
     "metadata": {},
     "output_type": "execute_result"
    },
    {
     "data": {
      "image/png": "[encoded data removed]",
      "text/plain": [
       "<Figure size 432x288 with 1 Axes>"
      ]
     },
     "metadata": {
      "needs_background": "light"
     },
     "output_type": "display_data"
    }
   ],
   "source": [
    "df['total_labs_increase'].plot.hist(bins=30)"
   ]
  },
  {
   "cell_type": "code",
   "execution_count": 18,
   "metadata": {},
   "outputs": [
    {
     "data": {
      "text/plain": [
       "<matplotlib.axes._subplots.AxesSubplot at 0x20fa9129108>"
      ]
     },
     "execution_count": 18,
     "metadata": {},
     "output_type": "execute_result"
    },
    {
     "data": {
      "image/png": "[encoded data removed]",
      "text/plain": [
       "<Figure size 432x288 with 1 Axes>"
      ]
     },
     "metadata": {
      "needs_background": "light"
     },
     "output_type": "display_data"
    }
   ],
   "source": [
    "df['total_tests_increase'].plot.hist(bins=30)"
   ]
  },
  {
   "cell_type": "markdown",
   "metadata": {},
   "source": [
    "### 5) Variable to count the Number of Chronic illness that a patient has"
   ]
  },
  {
   "cell_type": "code",
   "execution_count": 19,
   "metadata": {},
   "outputs": [
    {
     "name": "stdout",
     "output_type": "stream",
     "text": [
      "['aids', 'cirrhosis', 'diabetes_mellitus', 'hepatic_failure', 'immunosuppression', 'leukemia', 'lymphoma', 'solid_tumor_with_metastasis']\n"
     ]
    },
    {
     "data": {
      "text/plain": [
       "<matplotlib.axes._subplots.AxesSubplot at 0x20fab41f3c8>"
      ]
     },
     "execution_count": 19,
     "metadata": {},
     "output_type": "execute_result"
    },
    {
     "data": {
      "image/png": "[encoded data removed]",
      "text/plain": [
       "<Figure size 432x288 with 1 Axes>"
      ]
     },
     "metadata": {
      "needs_background": "light"
     },
     "output_type": "display_data"
    }
   ],
   "source": [
    "print(apache_chronic)\n",
    "df['chronic_diagnosis'] = df[apache_chronic].sum(axis=1)\n",
    "df['chronic_diagnosis'].plot.hist()"
   ]
  },
  {
   "cell_type": "markdown",
   "metadata": {},
   "source": [
    "### Checkpoint"
   ]
  },
  {
   "cell_type": "code",
   "execution_count": 20,
   "metadata": {
    "scrolled": true
   },
   "outputs": [
    {
     "data": {
      "text/plain": [
       "{'added_lbg',\n",
       " 'apache_3j_diag_int',\n",
       " 'bun_to_creatinine',\n",
       " 'chronic_diagnosis',\n",
       " 'critically_ill',\n",
       " 'd1_lbg',\n",
       " 'd1_num_labs',\n",
       " 'd1_ttl_tests',\n",
       " 'h1_lbg',\n",
       " 'h1_num_labs',\n",
       " 'h1_ttl_tests',\n",
       " 'total_labs_increase',\n",
       " 'total_tests_increase'}"
      ]
     },
     "execution_count": 20,
     "metadata": {},
     "output_type": "execute_result"
    }
   ],
   "source": [
    "# New variables are:\n",
    "new_cols = set(df.columns).difference(set(train.columns))\n",
    "new_cols"
   ]
  },
  {
   "cell_type": "markdown",
   "metadata": {},
   "source": [
    "### Add these New Columns to `train_clean_ph3.csv` data"
   ]
  },
  {
   "cell_type": "code",
   "execution_count": 21,
   "metadata": {},
   "outputs": [
    {
     "name": "stdout",
     "output_type": "stream",
     "text": [
      "(91713, 138)\n",
      "(91713, 151)\n"
     ]
    }
   ],
   "source": [
    "print(df2.shape)\n",
    "new_df2 = pd.concat((df2,df[new_cols]), axis=1)\n",
    "print(new_df2.shape)"
   ]
  },
  {
   "cell_type": "markdown",
   "metadata": {},
   "source": [
    "### Save the dataframe"
   ]
  },
  {
   "cell_type": "code",
   "execution_count": 22,
   "metadata": {},
   "outputs": [
    {
     "data": {
      "text/plain": [
       "(91713, 196)"
      ]
     },
     "execution_count": 22,
     "metadata": {},
     "output_type": "execute_result"
    }
   ],
   "source": [
    "df.shape"
   ]
  },
  {
   "cell_type": "code",
   "execution_count": 23,
   "metadata": {},
   "outputs": [],
   "source": [
    "df.to_csv('../data/train_ph2_newfeatures.csv', index=False)"
   ]
  },
  {
   "cell_type": "code",
   "execution_count": 24,
   "metadata": {},
   "outputs": [],
   "source": [
    "new_df2.to_csv('../data/train_ph3_newfeatures.csv', index=False)"
   ]
  },
  {
   "cell_type": "code",
   "execution_count": null,
   "metadata": {},
   "outputs": [],
   "source": []
  }
 ],
 "metadata": {
  "kernelspec": {
   "display_name": "Python 3",
   "language": "python",
   "name": "python3"
  },
  "language_info": {
   "codemirror_mode": {
    "name": "ipython",
    "version": 3
   },
   "file_extension": ".py",
   "mimetype": "text/x-python",
   "name": "python",
   "nbconvert_exporter": "python",
   "pygments_lexer": "ipython3",
   "version": "3.7.4"
  }
 },
 "nbformat": 4,
 "nbformat_minor": 2
}
