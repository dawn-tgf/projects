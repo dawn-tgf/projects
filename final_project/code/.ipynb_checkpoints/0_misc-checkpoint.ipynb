{
 "cells": [
  {
   "cell_type": "code",
   "execution_count": 1,
   "metadata": {},
   "outputs": [],
   "source": [
    "import pandas as pd\n",
    "import numpy as np\n",
    "import seaborn as sns\n",
    "from sklearn.experimental import enable_iterative_imputer\n",
    "from sklearn.impute import IterativeImputer, SimpleImputer\n",
    "import matplotlib.pyplot as plt\n",
    "\n",
    "import missingno as msno"
   ]
  },
  {
   "cell_type": "code",
   "execution_count": 2,
   "metadata": {},
   "outputs": [
    {
     "name": "stdout",
     "output_type": "stream",
     "text": [
      "(188, 6)\n",
      "(91713, 186) (39308, 186)\n"
     ]
    }
   ],
   "source": [
    "dct = pd.read_csv('../data/WiDS Datathon 2020 Dictionary.csv')\n",
    "print(dct.shape)\n",
    "\n",
    "train = pd.read_csv('../data/training_v2.csv')\n",
    "test = pd.read_csv('../data/unlabeled.csv')\n",
    "print(train.shape, test.shape)"
   ]
  },
  {
   "cell_type": "code",
   "execution_count": 3,
   "metadata": {},
   "outputs": [
    {
     "data": {
      "text/html": [
       "<div>\n",
       "<style scoped>\n",
       "    .dataframe tbody tr th:only-of-type {\n",
       "        vertical-align: middle;\n",
       "    }\n",
       "\n",
       "    .dataframe tbody tr th {\n",
       "        vertical-align: top;\n",
       "    }\n",
       "\n",
       "    .dataframe thead th {\n",
       "        text-align: right;\n",
       "    }\n",
       "</style>\n",
       "<table border=\"1\" class=\"dataframe\">\n",
       "  <thead>\n",
       "    <tr style=\"text-align: right;\">\n",
       "      <th></th>\n",
       "      <th>Category</th>\n",
       "      <th>Variable Name</th>\n",
       "      <th>Unit of Measure</th>\n",
       "      <th>Data Type</th>\n",
       "      <th>Description</th>\n",
       "      <th>Example</th>\n",
       "    </tr>\n",
       "  </thead>\n",
       "  <tbody>\n",
       "    <tr>\n",
       "      <td>0</td>\n",
       "      <td>identifier</td>\n",
       "      <td>encounter_id</td>\n",
       "      <td>None</td>\n",
       "      <td>integer</td>\n",
       "      <td>Unique identifier associated with a patient un...</td>\n",
       "      <td>None</td>\n",
       "    </tr>\n",
       "    <tr>\n",
       "      <td>1</td>\n",
       "      <td>identifier</td>\n",
       "      <td>hospital_id</td>\n",
       "      <td>None</td>\n",
       "      <td>integer</td>\n",
       "      <td>Unique identifier associated with a hospital</td>\n",
       "      <td>None</td>\n",
       "    </tr>\n",
       "    <tr>\n",
       "      <td>2</td>\n",
       "      <td>identifier</td>\n",
       "      <td>patient_id</td>\n",
       "      <td>None</td>\n",
       "      <td>integer</td>\n",
       "      <td>Unique identifier associated with a patient</td>\n",
       "      <td>None</td>\n",
       "    </tr>\n",
       "    <tr>\n",
       "      <td>3</td>\n",
       "      <td>demographic</td>\n",
       "      <td>hospital_death</td>\n",
       "      <td>None</td>\n",
       "      <td>binary</td>\n",
       "      <td>Whether the patient died during this hospitali...</td>\n",
       "      <td>0</td>\n",
       "    </tr>\n",
       "    <tr>\n",
       "      <td>4</td>\n",
       "      <td>demographic</td>\n",
       "      <td>age</td>\n",
       "      <td>Years</td>\n",
       "      <td>numeric</td>\n",
       "      <td>The age of the patient on unit admission</td>\n",
       "      <td>None</td>\n",
       "    </tr>\n",
       "  </tbody>\n",
       "</table>\n",
       "</div>"
      ],
      "text/plain": [
       "      Category   Variable Name Unit of Measure Data Type  \\\n",
       "0   identifier    encounter_id            None   integer   \n",
       "1   identifier     hospital_id            None   integer   \n",
       "2   identifier      patient_id            None   integer   \n",
       "3  demographic  hospital_death            None    binary   \n",
       "4  demographic             age           Years   numeric   \n",
       "\n",
       "                                         Description Example  \n",
       "0  Unique identifier associated with a patient un...    None  \n",
       "1       Unique identifier associated with a hospital    None  \n",
       "2        Unique identifier associated with a patient    None  \n",
       "3  Whether the patient died during this hospitali...       0  \n",
       "4           The age of the patient on unit admission    None  "
      ]
     },
     "execution_count": 3,
     "metadata": {},
     "output_type": "execute_result"
    }
   ],
   "source": [
    "dct.head()"
   ]
  },
  {
   "cell_type": "markdown",
   "metadata": {},
   "source": [
    "## Column grouping"
   ]
  },
  {
   "cell_type": "code",
   "execution_count": 4,
   "metadata": {},
   "outputs": [],
   "source": [
    "#groups = pd.read_csv('../data/data_grouping.csv',header=None)\n",
    "#groups.head()\n",
    "\n",
    "#vitals = groups.loc[0,1:].dropna().values\n",
    "#labs = groups.loc[1,1:].dropna().values\n",
    "#labs_blood_gas = groups.loc[2,1:].dropna().values\n",
    "#print(vitals.shape)\n",
    "#print(vitals)\n",
    "#print(labs.shape)\n",
    "#print(labs)\n",
    "#print(labs_blood_gas.shape)\n",
    "#print(labs_blood_gas)"
   ]
  },
  {
   "cell_type": "markdown",
   "metadata": {},
   "source": [
    "### from train_eda: Create column list for different categories"
   ]
  },
  {
   "cell_type": "markdown",
   "metadata": {},
   "source": [
    "## 2. Data Explanation\n",
    "-----\n",
    "Based on understandings gathered from the data dictionary and online research, here is a summary.\n",
    "\n",
    "Explanation:\n",
    "* `h1`: measurement taken during the first hour of patient's stay in ICU\n",
    "* `d1`: measurement taken during the first 24 hours of patient's stay in ICU\n",
    "\n",
    "There are 4 groups of measurements:\n",
    "1. vitals, \n",
    "2. APACHE scores\n",
    "2. labs, \n",
    "3. arterial blood gas test\n",
    "\n",
    "There are 15 binary columns,  8 categorical columns. Majority are numerical.\n",
    "\n",
    "### The columns can be grouped in the following way:\n",
    "|Categories | Number of columns| What/When to measure |\n",
    "|-----|-----|-----|\n",
    "| Identifier | 4|encounter_id,hospital_id, patient_id, icu_id|\n",
    "| Demographic | 15||\n",
    "| APACHE | 40 ||\n",
    "| h1_vitals| 26 |diastolic/systolic blood pressure (12, invasive, noninvasive, worst)|\n",
    "|||                 mbp-mean blood pressure(6, invasive/noninvasive, worst)|\n",
    "|||                heartrate, resprate rate, spo2(peripheral oxygen saturation), core temperature      |\n",
    "| d1_vitals| 26 |(same as h1_vitals)|\n",
    "|h1_labs | 30 |albumin, bilirubin, bun(blood urea nitrogen), calcium, creatinine, glucose, hco3(bicarbonate), hemaglobin, hematocrit(volume proportion of red blood cells), inr(international normalized ratio), lactate, platelets, potassium, sodium, wbs(white blood cell counts)|\n",
    "|d1_labs | 30 | (same as h1_labs)|\n",
    "| h1_lab_blood_gas | 8 |PaCO2(partial pressure of carbon dioxide), arterial pH, PaO2(arterial partial pressure of oxygen) and FiO2(fraction of inspired oxygen)|\n",
    "| d1_lab_blood_gas | 8 |(same as above)|"
   ]
  },
  {
   "cell_type": "code",
   "execution_count": 5,
   "metadata": {},
   "outputs": [
    {
     "name": "stdout",
     "output_type": "stream",
     "text": [
      "The number of columns for demographic:  15\n",
      "The number of columns for vitals:  26\n",
      "The number of columns for lab tests:  30\n",
      "The number of columns for vitals_names:  13\n",
      "The number of columns for labsnames:  15\n",
      "The number of columns for arterial blood gas test:  8\n",
      "The number of columns for Glasgow Coma Score:  4\n",
      "The number of columns for APACHE 3 measurements:  18\n",
      "The number of columns for APACHE Chronic Health Status:  8\n",
      "The number of columns for other APACHE measurements:  6\n",
      "Total number of columns for APACHE:  40\n",
      "Total number of columns:  183\n"
     ]
    }
   ],
   "source": [
    "demographic = ['hospital_death','age','bmi','weight','height','elective_surgery','ethnicity','gender','hospital_id','hospital_admit_source',\n",
    "'icu_admit_source','icu_id','icu_stay_type','icu_type','pre_icu_los_days']\n",
    "\n",
    "# APACHE related measurements\n",
    "# ---\n",
    "# 18 measurements\n",
    "apache_cov = ['albumin_apache','bilirubin_apache','bun_apache','creatinine_apache','glucose_apache','heart_rate_apache',\n",
    "          'hematocrit_apache','resprate_apache','sodium_apache','temp_apache','urineoutput_apache','wbc_apache',\n",
    "          'fio2_apache','map_apache','paco2_apache','paco2_for_ph_apache','pao2_apache','ph_apache']\n",
    "# 4 indicators\n",
    "apache_indicators = ['apache_post_operative','arf_apache','intubated_apache','ventilated_apache']\n",
    "\n",
    "# 8 Chronic health status\n",
    "apache_chronic = ['aids','cirrhosis','diabetes_mellitus','hepatic_failure',\n",
    "                  'immunosuppression','leukemia','lymphoma','solid_tumor_with_metastasis']\n",
    "# 6 others\n",
    "apache_others =['apache_2_diagnosis','apache_3j_diagnosis', 'apache_3j_bodysystem','apache_2_bodysystem',\n",
    "                'apache_4a_hospital_death_prob','apache_4a_icu_death_prob']\n",
    "\n",
    "gcs = ['gcs_eyes_apache','gcs_motor_apache','gcs_unable_apache','gcs_verbal_apache']\n",
    "\n",
    "apache = apache_cov + apache_indicators + apache_chronic + apache_others + gcs\n",
    "unique_apache = apache_indicators + apache_chronic + apache_others + gcs\n",
    "# ---\n",
    "\n",
    "vitals_names = ['diasbp_invasive','diasbp','diasbp_noninvasive', 'heartrate','mbp_invasive', 'mbp', 'mbp_noninvasive',\n",
    "          'resprate' ,'spo2', 'sysbp_invasive', 'sysbp', 'sysbp_noninvasive','temp']\n",
    "labs_names = ['albumin','bilirubin', 'bun','calcium', 'creatinine', 'glucose', 'hco3', 'hemaglobin','hematocrit','inr',\n",
    "        'lactate',  'platelets','potassium', 'sodium', 'wbc']\n",
    "\n",
    "vitals = ['diasbp_invasive_max', 'diasbp_invasive_min', 'diasbp_max', 'diasbp_min',\n",
    " 'diasbp_noninvasive_max', 'diasbp_noninvasive_min', 'heartrate_max',\n",
    " 'heartrate_min', 'mbp_invasive_max', 'mbp_invasive_min', 'mbp_max', 'mbp_min',\n",
    " 'mbp_noninvasive_max', 'mbp_noninvasive_min', 'resprate_max' ,'resprate_min',\n",
    " 'spo2_max', 'spo2_min', 'sysbp_invasive_max', 'sysbp_invasive_min',\n",
    " 'sysbp_max', 'sysbp_min', 'sysbp_noninvasive_max', 'sysbp_noninvasive_min',\n",
    " 'temp_max', 'temp_min']\n",
    "\n",
    "labs = ['albumin_max', 'albumin_min', 'bilirubin_max' ,'bilirubin_min', 'bun_max',\n",
    " 'bun_min', 'calcium_max', 'calcium_min', 'creatinine_max', 'creatinine_min',\n",
    " 'glucose_max', 'glucose_min', 'hco3_max' ,'hco3_min', 'hemaglobin_max',\n",
    " 'hemaglobin_min' ,'hematocrit_max', 'hematocrit_min' ,'inr_max' ,'inr_min',\n",
    " 'lactate_max', 'lactate_min', 'platelets_max', 'platelets_min',\n",
    " 'potassium_max' ,'potassium_min', 'sodium_max', 'sodium_min', 'wbc_max',\n",
    " 'wbc_min']\n",
    "\n",
    "# Arterial blood gas test\n",
    "lab_blood_gas = ['arterial_pco2_max', 'arterial_pco2_min', 'arterial_ph_max',\n",
    " 'arterial_ph_min', 'arterial_po2_max', 'arterial_po2_min',\n",
    " 'pao2fio2ratio_max', 'pao2fio2ratio_min']\n",
    "\n",
    "print(\"The number of columns for demographic: \",len(demographic))\n",
    "print(\"The number of columns for vitals: \",len(vitals))\n",
    "print(\"The number of columns for lab tests: \",len(labs))\n",
    "print(\"The number of columns for vitals_names: \",len(vitals_names)) \n",
    "print(\"The number of columns for labsnames: \",len(labs_names))\n",
    "print(\"The number of columns for arterial blood gas test: \",len(lab_blood_gas))\n",
    "print(\"The number of columns for Glasgow Coma Score: \",len(gcs))\n",
    "print(\"The number of columns for APACHE 3 measurements: \",len(apache_cov))\n",
    "print(\"The number of columns for APACHE Chronic Health Status: \",len(apache_chronic))\n",
    "print(\"The number of columns for other APACHE measurements: \",len(apache_others))\n",
    "print(\"Total number of columns for APACHE: \",len(apache))\n",
    "\n",
    "h1_vitals = ['h1_'+name for name in vitals]\n",
    "d1_vitals = ['d1_'+name for name in vitals]\n",
    "h1_labs = ['h1_'+name for name in labs]\n",
    "d1_labs = ['d1_'+name for name in labs]\n",
    "h1_lbg = ['h1_'+name for name in lab_blood_gas]\n",
    "d1_lbg = ['d1_'+name for name in lab_blood_gas]\n",
    "\n",
    "\n",
    "total = set(demographic + apache + h1_vitals + d1_vitals + h1_labs + d1_labs + h1_lbg + d1_lbg)\n",
    "print(\"Total number of columns: \",len(total))"
   ]
  },
  {
   "cell_type": "markdown",
   "metadata": {},
   "source": [
    "## AGE"
   ]
  },
  {
   "cell_type": "code",
   "execution_count": 6,
   "metadata": {},
   "outputs": [
    {
     "data": {
      "text/plain": [
       "Accident & Emergency         54060\n",
       "Operating Room / Recovery    18713\n",
       "Floor                        15611\n",
       "Other Hospital                2358\n",
       "Other ICU                      859\n",
       "nan                            112\n",
       "Name: icu_admit_source, dtype: int64"
      ]
     },
     "execution_count": 6,
     "metadata": {},
     "output_type": "execute_result"
    }
   ],
   "source": [
    "temp = train.copy()\n",
    "temp.apache_3j_bodysystem.astype(str).value_counts()\n",
    "temp.icu_admit_source.astype(str).value_counts()"
   ]
  },
  {
   "cell_type": "code",
   "execution_count": 7,
   "metadata": {},
   "outputs": [
    {
     "data": {
      "text/plain": [
       "Accident & Emergency         54060\n",
       "Operating Room / Recovery    18713\n",
       "Floor                        15611\n",
       "Other Hospital                2358\n",
       "Other ICU                      859\n",
       "Unknown                        112\n",
       "Name: icu_admit_source, dtype: int64"
      ]
     },
     "execution_count": 7,
     "metadata": {},
     "output_type": "execute_result"
    }
   ],
   "source": [
    "temp.apache_3j_bodysystem = temp.apache_3j_bodysystem.fillna(\"Unknown\")\n",
    "temp.icu_admit_source = temp.icu_admit_source.fillna(\"Unknown\")\n",
    "temp.icu_admit_source.astype(str).value_counts()"
   ]
  },
  {
   "cell_type": "code",
   "execution_count": 8,
   "metadata": {},
   "outputs": [
    {
     "data": {
      "text/plain": [
       "0"
      ]
     },
     "execution_count": 8,
     "metadata": {},
     "output_type": "execute_result"
    }
   ],
   "source": [
    "temp.apache_3j_bodysystem.isnull().sum()"
   ]
  },
  {
   "cell_type": "code",
   "execution_count": 9,
   "metadata": {},
   "outputs": [
    {
     "data": {
      "text/plain": [
       "[65+, <25, 45-60, 35-45, 60-65, 25-35, NaN]\n",
       "Categories (6, object): [<25 < 25-35 < 35-45 < 45-60 < 60-65 < 65+]"
      ]
     },
     "execution_count": 9,
     "metadata": {},
     "output_type": "execute_result"
    }
   ],
   "source": [
    "# Age groups\n",
    "#bin = [0, 25, 35, 45, 60, 65, 70, 75, 85, np.inf]\n",
    "#names =['<25','25-35', '35-45', '45-60', '60-65', '65-70', '70-75', '75-85','85+']\n",
    "\n",
    "bin = [0, 25, 35, 45, 60, 65, np.inf]\n",
    "names =['<25','25-35', '35-45', '45-60', '60-65', '65+']\n",
    "temp['age_range'] = pd.cut(train.age, bin, labels=names)\n",
    "temp.age_range.unique()"
   ]
  },
  {
   "cell_type": "code",
   "execution_count": 10,
   "metadata": {},
   "outputs": [
    {
     "data": {
      "text/plain": [
       "[]"
      ]
     },
     "execution_count": 10,
     "metadata": {},
     "output_type": "execute_result"
    }
   ],
   "source": [
    "bodysystem = {}\n",
    "for i in set(temp.age_range):\n",
    "    bodysystem[i] = temp.loc[temp.age_range==i, 'apache_3j_bodysystem'].value_counts(normalize=True).tolist()\n",
    "bodysystem.pop(np.nan)\n",
    "#bodysystem"
   ]
  },
  {
   "cell_type": "code",
   "execution_count": 11,
   "metadata": {},
   "outputs": [],
   "source": [
    "index = temp.loc[temp.age_range=='60-65','apache_3j_bodysystem'].value_counts().index\n",
    "bodysystem = pd.DataFrame(bodysystem, index=index)"
   ]
  },
  {
   "cell_type": "code",
   "execution_count": 12,
   "metadata": {},
   "outputs": [
    {
     "data": {
      "text/html": [
       "<div>\n",
       "<style scoped>\n",
       "    .dataframe tbody tr th:only-of-type {\n",
       "        vertical-align: middle;\n",
       "    }\n",
       "\n",
       "    .dataframe tbody tr th {\n",
       "        vertical-align: top;\n",
       "    }\n",
       "\n",
       "    .dataframe thead th {\n",
       "        text-align: right;\n",
       "    }\n",
       "</style>\n",
       "<table border=\"1\" class=\"dataframe\">\n",
       "  <thead>\n",
       "    <tr style=\"text-align: right;\">\n",
       "      <th></th>\n",
       "      <th>25-35</th>\n",
       "      <th>&lt;25</th>\n",
       "      <th>45-60</th>\n",
       "      <th>65+</th>\n",
       "      <th>60-65</th>\n",
       "      <th>35-45</th>\n",
       "    </tr>\n",
       "  </thead>\n",
       "  <tbody>\n",
       "    <tr>\n",
       "      <td>Cardiovascular</td>\n",
       "      <td>0.264452</td>\n",
       "      <td>0.357629</td>\n",
       "      <td>0.319037</td>\n",
       "      <td>0.379986</td>\n",
       "      <td>0.375666</td>\n",
       "      <td>0.234133</td>\n",
       "    </tr>\n",
       "    <tr>\n",
       "      <td>Respiratory</td>\n",
       "      <td>0.144953</td>\n",
       "      <td>0.145125</td>\n",
       "      <td>0.137890</td>\n",
       "      <td>0.139172</td>\n",
       "      <td>0.135096</td>\n",
       "      <td>0.201066</td>\n",
       "    </tr>\n",
       "    <tr>\n",
       "      <td>Sepsis</td>\n",
       "      <td>0.142364</td>\n",
       "      <td>0.115322</td>\n",
       "      <td>0.129266</td>\n",
       "      <td>0.133926</td>\n",
       "      <td>0.134276</td>\n",
       "      <td>0.142454</td>\n",
       "    </tr>\n",
       "    <tr>\n",
       "      <td>Neurological</td>\n",
       "      <td>0.105479</td>\n",
       "      <td>0.098154</td>\n",
       "      <td>0.118428</td>\n",
       "      <td>0.127012</td>\n",
       "      <td>0.124539</td>\n",
       "      <td>0.109701</td>\n",
       "    </tr>\n",
       "    <tr>\n",
       "      <td>Gastrointestinal</td>\n",
       "      <td>0.096851</td>\n",
       "      <td>0.086168</td>\n",
       "      <td>0.105008</td>\n",
       "      <td>0.107365</td>\n",
       "      <td>0.100656</td>\n",
       "      <td>0.102962</td>\n",
       "    </tr>\n",
       "    <tr>\n",
       "      <td>Metabolic</td>\n",
       "      <td>0.096204</td>\n",
       "      <td>0.085844</td>\n",
       "      <td>0.096431</td>\n",
       "      <td>0.032689</td>\n",
       "      <td>0.048995</td>\n",
       "      <td>0.089798</td>\n",
       "    </tr>\n",
       "    <tr>\n",
       "      <td>Trauma</td>\n",
       "      <td>0.063848</td>\n",
       "      <td>0.036281</td>\n",
       "      <td>0.033850</td>\n",
       "      <td>0.028492</td>\n",
       "      <td>0.025318</td>\n",
       "      <td>0.053440</td>\n",
       "    </tr>\n",
       "    <tr>\n",
       "      <td>Genitourinary</td>\n",
       "      <td>0.032571</td>\n",
       "      <td>0.032070</td>\n",
       "      <td>0.022966</td>\n",
       "      <td>0.023366</td>\n",
       "      <td>0.023575</td>\n",
       "      <td>0.023507</td>\n",
       "    </tr>\n",
       "    <tr>\n",
       "      <td>Musculoskeletal/Skin</td>\n",
       "      <td>0.018119</td>\n",
       "      <td>0.013605</td>\n",
       "      <td>0.015403</td>\n",
       "      <td>0.009895</td>\n",
       "      <td>0.012915</td>\n",
       "      <td>0.015672</td>\n",
       "    </tr>\n",
       "    <tr>\n",
       "      <td>Unknown</td>\n",
       "      <td>0.017472</td>\n",
       "      <td>0.012634</td>\n",
       "      <td>0.012821</td>\n",
       "      <td>0.009728</td>\n",
       "      <td>0.011480</td>\n",
       "      <td>0.010813</td>\n",
       "    </tr>\n",
       "    <tr>\n",
       "      <td>Hematological</td>\n",
       "      <td>0.010138</td>\n",
       "      <td>0.010366</td>\n",
       "      <td>0.006364</td>\n",
       "      <td>0.007129</td>\n",
       "      <td>0.005740</td>\n",
       "      <td>0.010343</td>\n",
       "    </tr>\n",
       "    <tr>\n",
       "      <td>Gynecological</td>\n",
       "      <td>0.007550</td>\n",
       "      <td>0.006803</td>\n",
       "      <td>0.002536</td>\n",
       "      <td>0.001240</td>\n",
       "      <td>0.001743</td>\n",
       "      <td>0.006112</td>\n",
       "    </tr>\n",
       "  </tbody>\n",
       "</table>\n",
       "</div>"
      ],
      "text/plain": [
       "                         25-35       <25     45-60       65+     60-65  \\\n",
       "Cardiovascular        0.264452  0.357629  0.319037  0.379986  0.375666   \n",
       "Respiratory           0.144953  0.145125  0.137890  0.139172  0.135096   \n",
       "Sepsis                0.142364  0.115322  0.129266  0.133926  0.134276   \n",
       "Neurological          0.105479  0.098154  0.118428  0.127012  0.124539   \n",
       "Gastrointestinal      0.096851  0.086168  0.105008  0.107365  0.100656   \n",
       "Metabolic             0.096204  0.085844  0.096431  0.032689  0.048995   \n",
       "Trauma                0.063848  0.036281  0.033850  0.028492  0.025318   \n",
       "Genitourinary         0.032571  0.032070  0.022966  0.023366  0.023575   \n",
       "Musculoskeletal/Skin  0.018119  0.013605  0.015403  0.009895  0.012915   \n",
       "Unknown               0.017472  0.012634  0.012821  0.009728  0.011480   \n",
       "Hematological         0.010138  0.010366  0.006364  0.007129  0.005740   \n",
       "Gynecological         0.007550  0.006803  0.002536  0.001240  0.001743   \n",
       "\n",
       "                         35-45  \n",
       "Cardiovascular        0.234133  \n",
       "Respiratory           0.201066  \n",
       "Sepsis                0.142454  \n",
       "Neurological          0.109701  \n",
       "Gastrointestinal      0.102962  \n",
       "Metabolic             0.089798  \n",
       "Trauma                0.053440  \n",
       "Genitourinary         0.023507  \n",
       "Musculoskeletal/Skin  0.015672  \n",
       "Unknown               0.010813  \n",
       "Hematological         0.010343  \n",
       "Gynecological         0.006112  "
      ]
     },
     "execution_count": 12,
     "metadata": {},
     "output_type": "execute_result"
    }
   ],
   "source": [
    "bodysystem"
   ]
  },
  {
   "cell_type": "code",
   "execution_count": 24,
   "metadata": {},
   "outputs": [
    {
     "data": {
      "image/png": "[encoded data removed]",
      "text/plain": [
       "<Figure size 864x432 with 1 Axes>"
      ]
     },
     "metadata": {
      "needs_background": "light"
     },
     "output_type": "display_data"
    }
   ],
   "source": [
    "bodysystem.plot(figsize=(12,6))\n",
    "plt.xticks(np.arange(len(index)),index, rotation=30,fontsize=12)\n",
    "plt.title(\"ICU Admission Diagnosis\",fontsize=22)\n",
    "plt.show()"
   ]
  },
  {
   "cell_type": "code",
   "execution_count": null,
   "metadata": {},
   "outputs": [],
   "source": []
  },
  {
   "cell_type": "code",
   "execution_count": 25,
   "metadata": {},
   "outputs": [
    {
     "data": {
      "text/html": [
       "<div>\n",
       "<style scoped>\n",
       "    .dataframe tbody tr th:only-of-type {\n",
       "        vertical-align: middle;\n",
       "    }\n",
       "\n",
       "    .dataframe tbody tr th {\n",
       "        vertical-align: top;\n",
       "    }\n",
       "\n",
       "    .dataframe thead th {\n",
       "        text-align: right;\n",
       "    }\n",
       "</style>\n",
       "<table border=\"1\" class=\"dataframe\">\n",
       "  <thead>\n",
       "    <tr style=\"text-align: right;\">\n",
       "      <th></th>\n",
       "      <th>25-35</th>\n",
       "      <th>&lt;25</th>\n",
       "      <th>45-60</th>\n",
       "      <th>65+</th>\n",
       "      <th>60-65</th>\n",
       "      <th>35-45</th>\n",
       "    </tr>\n",
       "  </thead>\n",
       "  <tbody>\n",
       "    <tr>\n",
       "      <td>Accident &amp; Emergency</td>\n",
       "      <td>0.685505</td>\n",
       "      <td>0.716877</td>\n",
       "      <td>0.612664</td>\n",
       "      <td>0.548699</td>\n",
       "      <td>0.562936</td>\n",
       "      <td>0.668547</td>\n",
       "    </tr>\n",
       "    <tr>\n",
       "      <td>Operating Room / Recovery</td>\n",
       "      <td>0.143443</td>\n",
       "      <td>0.130871</td>\n",
       "      <td>0.201623</td>\n",
       "      <td>0.228345</td>\n",
       "      <td>0.230115</td>\n",
       "      <td>0.153894</td>\n",
       "    </tr>\n",
       "    <tr>\n",
       "      <td>Floor</td>\n",
       "      <td>0.134814</td>\n",
       "      <td>0.126012</td>\n",
       "      <td>0.149142</td>\n",
       "      <td>0.189600</td>\n",
       "      <td>0.172509</td>\n",
       "      <td>0.141671</td>\n",
       "    </tr>\n",
       "    <tr>\n",
       "      <td>Other Hospital</td>\n",
       "      <td>0.028473</td>\n",
       "      <td>0.021704</td>\n",
       "      <td>0.028731</td>\n",
       "      <td>0.025321</td>\n",
       "      <td>0.026138</td>\n",
       "      <td>0.027268</td>\n",
       "    </tr>\n",
       "    <tr>\n",
       "      <td>Other ICU</td>\n",
       "      <td>0.006471</td>\n",
       "      <td>0.003239</td>\n",
       "      <td>0.006502</td>\n",
       "      <td>0.006962</td>\n",
       "      <td>0.006765</td>\n",
       "      <td>0.006739</td>\n",
       "    </tr>\n",
       "    <tr>\n",
       "      <td>Unknown</td>\n",
       "      <td>0.001294</td>\n",
       "      <td>0.001296</td>\n",
       "      <td>0.001337</td>\n",
       "      <td>0.001073</td>\n",
       "      <td>0.001538</td>\n",
       "      <td>0.001881</td>\n",
       "    </tr>\n",
       "  </tbody>\n",
       "</table>\n",
       "</div>"
      ],
      "text/plain": [
       "                              25-35       <25     45-60       65+     60-65  \\\n",
       "Accident & Emergency       0.685505  0.716877  0.612664  0.548699  0.562936   \n",
       "Operating Room / Recovery  0.143443  0.130871  0.201623  0.228345  0.230115   \n",
       "Floor                      0.134814  0.126012  0.149142  0.189600  0.172509   \n",
       "Other Hospital             0.028473  0.021704  0.028731  0.025321  0.026138   \n",
       "Other ICU                  0.006471  0.003239  0.006502  0.006962  0.006765   \n",
       "Unknown                    0.001294  0.001296  0.001337  0.001073  0.001538   \n",
       "\n",
       "                              35-45  \n",
       "Accident & Emergency       0.668547  \n",
       "Operating Room / Recovery  0.153894  \n",
       "Floor                      0.141671  \n",
       "Other Hospital             0.027268  \n",
       "Other ICU                  0.006739  \n",
       "Unknown                    0.001881  "
      ]
     },
     "execution_count": 25,
     "metadata": {},
     "output_type": "execute_result"
    }
   ],
   "source": [
    "admit_source = {}\n",
    "for i in set(temp.age_range):\n",
    "    admit_source[i] = temp.loc[temp.age_range==i, 'icu_admit_source'].astype(str).value_counts(normalize=True).tolist()\n",
    "\n",
    "admit_source.pop(np.nan)\n",
    "\n",
    "index = temp.loc[temp.age_range=='60-65', 'icu_admit_source'].value_counts().index\n",
    "admit_source = pd.DataFrame(admit_source, index=index)\n",
    "admit_source"
   ]
  },
  {
   "cell_type": "code",
   "execution_count": 29,
   "metadata": {},
   "outputs": [
    {
     "data": {
      "image/png": "[encoded data removed]",
      "text/plain": [
       "<Figure size 720x288 with 1 Axes>"
      ]
     },
     "metadata": {
      "needs_background": "light"
     },
     "output_type": "display_data"
    }
   ],
   "source": [
    "admit_source.plot(figsize=(10,4))\n",
    "plt.xticks(np.arange(len(index)),index, rotation=15, fontsize=12)\n",
    "plt.title(\"ICU Admission Source\",fontsize=22)\n",
    "plt.show()"
   ]
  },
  {
   "cell_type": "markdown",
   "metadata": {},
   "source": [
    "## Missingness"
   ]
  },
  {
   "cell_type": "code",
   "execution_count": null,
   "metadata": {},
   "outputs": [],
   "source": [
    "train_smp = train.sample(1000)\n",
    "#msno.matrix(train,figsize=(35, 40), width_ratios=(10, 1), color=(.0, 0.5, 0.5),fontsize=16,sparkline=False)\n",
    "msno.matrix(test,figsize=(35, 40), width_ratios=(10, 1), color=(.80, 0.5, 0.5),sparkline=False)"
   ]
  },
  {
   "cell_type": "code",
   "execution_count": null,
   "metadata": {},
   "outputs": [],
   "source": [
    "train_smp.isnull().sum().sort_values(ascending=False)"
   ]
  },
  {
   "cell_type": "code",
   "execution_count": null,
   "metadata": {},
   "outputs": [],
   "source": [
    "msno.bar(train,color = (0.8, 0.25, 0.25) )"
   ]
  },
  {
   "cell_type": "code",
   "execution_count": null,
   "metadata": {},
   "outputs": [],
   "source": [
    "msno.heatmap(train,figsize=(60, 60),labels=False,fontsize=10) "
   ]
  },
  {
   "cell_type": "code",
   "execution_count": null,
   "metadata": {},
   "outputs": [],
   "source": [
    "## Target Encoding - the manul way"
   ]
  },
  {
   "cell_type": "code",
   "execution_count": null,
   "metadata": {},
   "outputs": [],
   "source": [
    "def add_noise(series, noise_level):\n",
    "    return series * (1 + noise_level * np.random.randn(len(series)))\n",
    "\n",
    "def target_encode(train_series=None,test_series=None,target=None, min_samples_leaf=1, smoothing=1,noise_level=0):\n",
    "\n",
    "    assert len(train_series) == len(target)\n",
    "    assert train_series.name == test_series.name\n",
    "    temp = pd.concat([train_series, target], axis=1)\n",
    "    \n",
    "    # Compute target mean \n",
    "    averages = temp.groupby(by=train_series.name)[target.name].agg([\"mean\", \"count\"])\n",
    "    # Compute smoothing\n",
    "    smoothing = 1 / (1 + np.exp(-(averages[\"count\"] - min_samples_leaf) / smoothing))\n",
    "    # Apply average function to all target data\n",
    "    prior = target.mean()\n",
    "    # The bigger the count the less full_avg is taken into account\n",
    "    averages[target.name] = prior * (1 - smoothing) + averages[\"mean\"] * smoothing\n",
    "    averages.drop([\"mean\", \"count\"], axis=1, inplace=True)\n",
    "    # Apply averages to train and test series\n",
    "    ft_train_series = pd.merge(\n",
    "        train_series.to_frame(train_series.name),\n",
    "        averages.reset_index().rename(columns={'index': target.name, target.name: 'average'}),\n",
    "        on=train_series.name,\n",
    "        how='left')['average'].rename(train_series.name + '_mean').fillna(prior)\n",
    "    # pd.merge does not keep the index so restore it\n",
    "    ft_train_series.index = train_series.index \n",
    "    ft_test_series = pd.merge(\n",
    "        test_series.to_frame(test_series.name),\n",
    "        averages.reset_index().rename(columns={'index': target.name, target.name: 'average'}),\n",
    "        on=test_series.name,\n",
    "        how='left')['average'].rename(train_series.name + '_mean').fillna(prior)\n",
    "    # pd.merge does not keep the index so restore it\n",
    "    ft_test_series.index = test_series.index\n",
    "    return add_noise(ft_train_series, noise_level), add_noise(ft_test_series, noise_level)"
   ]
  },
  {
   "cell_type": "code",
   "execution_count": null,
   "metadata": {},
   "outputs": [],
   "source": [
    "train, sub = target_encode(train[\"hospital_admit_source\"], \n",
    "                           test[\"hospital_admit_source\"], \n",
    "                           target=train.hospital_death, \n",
    "                           min_samples_leaf=100,\n",
    "                           smoothing=10,\n",
    "                           noise_level=0.01)\n",
    "train.head(10)"
   ]
  },
  {
   "cell_type": "code",
   "execution_count": null,
   "metadata": {},
   "outputs": [],
   "source": []
  },
  {
   "cell_type": "code",
   "execution_count": null,
   "metadata": {},
   "outputs": [],
   "source": []
  },
  {
   "cell_type": "markdown",
   "metadata": {},
   "source": [
    "### Sanity check if data in '_max' col is always equal or larger than '_min'.  If they are not, fix it"
   ]
  },
  {
   "cell_type": "code",
   "execution_count": null,
   "metadata": {},
   "outputs": [],
   "source": [
    "# Extract test name without suffix of '_min' or '_max'\n",
    "cols = list(set([col[:-4] for col in train.columns if (col.endswith(\"_min\"))| (col.endswith(\"_max\"))]))\n",
    "len(cols)"
   ]
  },
  {
   "cell_type": "code",
   "execution_count": null,
   "metadata": {},
   "outputs": [],
   "source": [
    "# Fix elements where max < min\n",
    "count = 0\n",
    "for col in cols:\n",
    "    deta = []\n",
    "    index = []\n",
    "    temp = []\n",
    "    min = col + \"_min\"\n",
    "    max = col + \"_max\"\n",
    "    delta = (train[max]-train[min])\n",
    "    index = delta[delta<0].index    # index for patients with MAX < MIN\n",
    "\n",
    "    temp = train.loc[index,max]                # Store the original max value away\n",
    "    train.loc[index,max] = train.loc[index,min]   # place the min value into the _max column\n",
    "    train.loc[index,min] = temp                # place the original max value into the _min column\n",
    "\n",
    "    if delta.min()<0:\n",
    "        count +=1\n",
    "        print(train.loc[index,[max,min]])\n",
    "print(\"Total number of tests with Max<Min: \",count)"
   ]
  },
  {
   "cell_type": "markdown",
   "metadata": {},
   "source": [
    "## Acute Renal Failure (more commonly known as Aucte Kideny Injury now):\n",
    "From Data Dictionary:\n",
    "\n",
    "ARF (AKI): 24 hour urine output <410ml, creatinine >=133 micromol/L and no chronic dialysis\n",
    " "
   ]
  },
  {
   "cell_type": "code",
   "execution_count": null,
   "metadata": {},
   "outputs": [],
   "source": [
    "train.arf_apache.value_counts()\n",
    "\n",
    "# 2546 patients have ARF according to this variable"
   ]
  },
  {
   "cell_type": "code",
   "execution_count": null,
   "metadata": {},
   "outputs": [],
   "source": [
    "# Explore the urine output and creatinine values for thos ARF patients\n",
    "train.loc[(train.arf_apache==1)&(train.urineoutput_apache.notnull()), [\"urineoutput_apache\",\"d1_creatinine_max\",\"creatinine_apache\"]]\n",
    "\n",
    "# The data doesn't tally with the criteria (creatinine level>=133)"
   ]
  },
  {
   "cell_type": "code",
   "execution_count": null,
   "metadata": {},
   "outputs": [],
   "source": [
    "train.d1_creatinine_min.plot.hist(alpha=0.5,label=\"train\")\n",
    "test.d1_creatinine_min.plot.hist(alpha=0.5,label=\"test\")\n",
    "plt.legend()\n",
    "plt.title(\"d1_creatinine_min\")"
   ]
  },
  {
   "cell_type": "code",
   "execution_count": null,
   "metadata": {},
   "outputs": [],
   "source": [
    "train.creatinine_apache.plot.hist(alpha=0.5,label=\"train\")\n",
    "test.creatinine_apache.plot.hist(alpha=0.5,label=\"test\")\n",
    "plt.legend()\n",
    "plt.title(\"creatinine_apache\")"
   ]
  },
  {
   "cell_type": "markdown",
   "metadata": {},
   "source": [
    "> Normal creatinine range: 60 to 110 μmol/L (0.7 to 1.2 milligrams per deciliter (mg/dL)) for men\n",
    "\n",
    ">                      45 to 90 μmol/L (0.5 to 1.0 mg/dL) for women.\n",
    "\n",
    "> None of the patients in train or test dataset has creatinine exceeding 12 (the unit is micromol/L according to the data dictionary), but the range of data shown in the histogram is disordant.  We should see data in the scale of 100s, but we have (0,12).  Should the unit be mg/dL?\n"
   ]
  },
  {
   "cell_type": "code",
   "execution_count": null,
   "metadata": {},
   "outputs": [],
   "source": [
    "train[train.arf_apache==0]['creatinine_apache'].plot.hist(density=True,alpha=0.5,label='arf_apache=0',bins=50)\n",
    "train[train.arf_apache==1]['creatinine_apache'].plot.hist(density=True,alpha=0.5,label='arf_apache=1',bins=50)\n",
    "plt.legend()\n",
    "plt.title(\"creatinine_apache\")"
   ]
  },
  {
   "cell_type": "code",
   "execution_count": null,
   "metadata": {},
   "outputs": [],
   "source": [
    "train.loc[(train.arf_apache==0)&(train.urineoutput_apache.notnull()), [\"urineoutput_apache\",\"d1_creatinine_max\",\"creatinine_apache\"]]\n"
   ]
  },
  {
   "cell_type": "code",
   "execution_count": null,
   "metadata": {},
   "outputs": [],
   "source": [
    "train.urineoutput_apache.plot.hist(alpha=0.5)\n",
    "plt.axvline(410)"
   ]
  },
  {
   "cell_type": "code",
   "execution_count": null,
   "metadata": {},
   "outputs": [],
   "source": [
    "# Cross-validate it with other variables (ignoring chronic dialysis for now)\n",
    "# Strangely, there is no patient meeting the creteria...\n",
    "\n",
    "train[(train.urineoutput_apache <410) & (train.d1_creatinine_max >=133)]\n"
   ]
  },
  {
   "cell_type": "markdown",
   "metadata": {},
   "source": [
    "## Feature Engineering: Any Acute Kidney Injury patient in ICU data?\n",
    "\n",
    "[AKI cretirion](https://www.ncbi.nlm.nih.gov/pmc/articles/PMC3724452/) AKI was defined as an increase in creatinine of ≥50% within 48 hrs, with resulting creatinine ≥1.2 mg/dL.\n",
    "\n",
    "https://www.aafp.org/afp/2012/1001/p631.html Increase ≥ 0.3 mg per dL (26.52 μmol per L) or ≥ 1.5 to twofold from baseline\n"
   ]
  },
  {
   "cell_type": "code",
   "execution_count": null,
   "metadata": {},
   "outputs": [],
   "source": [
    "creatinine_col = [col for col in train.columns if '_creatinine_' in col]\n",
    "creatinine_col"
   ]
  },
  {
   "cell_type": "code",
   "execution_count": null,
   "metadata": {},
   "outputs": [],
   "source": [
    "# For Patients with 2 cretinine measurements\n",
    "patients = train.loc[train[creatinine_col].notnull().sum(axis=1) == 4, creatinine_col]\n",
    "\n",
    "# Calculate change of creatinine within first 24 hours\n",
    "patients['max_cr'] = patients.max(axis=1)\n",
    "patients['min_cr'] = patients.min(axis=1)\n",
    "patients['cr_change_pct'] = round((patients.max_cr - patients.min_cr)/patients.min_cr,2)\n",
    "\n",
    "# If a patient has admission creatinine above 5mg/dL (442 micromol/L), they has renal replacemet therapy prior\n",
    "patients['rrt'] = (patients.h1_creatinine_max>442).astype(int)\n",
    "\n",
    "# Identify patients with AKI\n",
    "patients['aki'] = 0\n",
    "patients.loc[(patients.cr_change_pct>=1.50) & (train.urineoutput_apache<410),'aki'] = 1"
   ]
  },
  {
   "cell_type": "code",
   "execution_count": null,
   "metadata": {},
   "outputs": [],
   "source": [
    "patients[patients.rrt==1].head()"
   ]
  },
  {
   "cell_type": "code",
   "execution_count": null,
   "metadata": {},
   "outputs": [],
   "source": [
    "patients.aki.astype(str).value_counts()"
   ]
  },
  {
   "cell_type": "markdown",
   "metadata": {},
   "source": [
    "### Cleaning Blood Preasure: Assign the worse measurement based on invasive and noninvasive values"
   ]
  },
  {
   "cell_type": "code",
   "execution_count": null,
   "metadata": {},
   "outputs": [],
   "source": [
    "col = [col for col in train.columns if col.startswith(\"h1_mbp\")]\n",
    "max = [i for i in col if i.endswith(\"_max\")]\n",
    "min = [i for i in col if i.endswith(\"_min\")]\n",
    "max + min"
   ]
  },
  {
   "cell_type": "code",
   "execution_count": null,
   "metadata": {},
   "outputs": [],
   "source": [
    "# Test code\n",
    "temp = df.copy(deep=True)\n",
    "col = []\n",
    "i='h1_sysbp'\n",
    "# Max\n",
    "invasive = i + \"_invasive_max\"\n",
    "noninvasive = i + '_noninvasive_max'\n",
    "worse = i + \"_max\"\n",
    "col.extend([invasive, noninvasive,worse])  \n",
    "temp[worse] = np.fmax(temp[invasive], temp[noninvasive])\n",
    "\n",
    "# Min\n",
    "invasive = i + \"_invasive_min\"\n",
    "noninvasive = i + '_noninvasive_min'\n",
    "worse = i + \"_min\"\n",
    "col.extend([invasive, noninvasive,worse]) \n",
    "temp[worse] = np.fmin(temp[invasive], temp[noninvasive])\n",
    "\n",
    "temp[col].head()"
   ]
  },
  {
   "cell_type": "code",
   "execution_count": null,
   "metadata": {},
   "outputs": [],
   "source": []
  },
  {
   "cell_type": "markdown",
   "metadata": {},
   "source": [
    "## CORRELATION"
   ]
  },
  {
   "cell_type": "code",
   "execution_count": null,
   "metadata": {},
   "outputs": [],
   "source": [
    "# Rename the apache variables, so that all starts with \"apache_\"\n",
    "apache_col = [i for i in df.columns if '_apache' in i]\n",
    "apache_col_new = ['apache_'+ i[0:-7] for i in apache_col]\n",
    "\n",
    "# Replace variables ending with \"_apache\" with \"apache_\"\n",
    "col_dict = dict(zip(apache_col, apache_col_new))\n",
    "df.rename(columns = col_dict,inplace=True)"
   ]
  },
  {
   "cell_type": "code",
   "execution_count": null,
   "metadata": {},
   "outputs": [],
   "source": [
    "# Re-arrange the columns name by descending order, so that the apache variables will be assessed first\n",
    "sorted_col = df.columns.sort_values()\n",
    "sorted_col"
   ]
  },
  {
   "cell_type": "code",
   "execution_count": null,
   "metadata": {},
   "outputs": [],
   "source": [
    "df_corr = df[sorted_col].drop('hospital_death', axis=1).corr().abs()"
   ]
  },
  {
   "cell_type": "code",
   "execution_count": null,
   "metadata": {},
   "outputs": [],
   "source": []
  },
  {
   "cell_type": "markdown",
   "metadata": {},
   "source": [
    "## Construct a helper function to check null in multiple columns"
   ]
  },
  {
   "cell_type": "code",
   "execution_count": null,
   "metadata": {},
   "outputs": [],
   "source": [
    "# Construct a helper function to check null in multiple columns\n",
    "def build_string_and (col_list,function):\n",
    "    temp = ['('+col + '.' + function + ')' for col in col_list]\n",
    "    #print(temp)\n",
    "    return \"&\".join(temp)"
   ]
  },
  {
   "cell_type": "code",
   "execution_count": null,
   "metadata": {},
   "outputs": [],
   "source": [
    "temp_string = build_string_and(gcs, 'isnull()')\n",
    "temp_string"
   ]
  },
  {
   "cell_type": "code",
   "execution_count": null,
   "metadata": {},
   "outputs": [],
   "source": [
    "df.query('gcs_eyes_apache==gcs_motor_apache')"
   ]
  },
  {
   "cell_type": "markdown",
   "metadata": {},
   "source": [
    "## Try out imputer"
   ]
  },
  {
   "cell_type": "code",
   "execution_count": null,
   "metadata": {},
   "outputs": [],
   "source": [
    "df = train.drop(columns=['encounter_id','patient_id','readmission_status']).reset_index(drop=True)\n",
    "df.hospital_id = df.hospital_id.astype(str)\n",
    "df.icu_id = df.icu_id.astype(str)\n",
    "df.apache_2_diagnosis = df.apache_2_diagnosis.astype(str)\n",
    "df.apache_3j_diagnosis = df.apache_3j_diagnosis.astype(str)\n",
    "print(df.shape)\n",
    "df.head(10)"
   ]
  },
  {
   "cell_type": "code",
   "execution_count": null,
   "metadata": {},
   "outputs": [],
   "source": [
    "df.isnull().sum()"
   ]
  },
  {
   "cell_type": "code",
   "execution_count": null,
   "metadata": {},
   "outputs": [],
   "source": [
    "imp = IterativeImputer(max_iter=10, n_nearest_features = 3,random_state=0,add_indicator=True)"
   ]
  },
  {
   "cell_type": "code",
   "execution_count": null,
   "metadata": {},
   "outputs": [],
   "source": [
    "#df_imp = imp.fit_transform(df)"
   ]
  },
  {
   "cell_type": "markdown",
   "metadata": {},
   "source": [
    "> Cannot handle numerical and categorical columns at the same time?"
   ]
  },
  {
   "cell_type": "markdown",
   "metadata": {},
   "source": [
    "## Try Pattern Submodel"
   ]
  },
  {
   "cell_type": "code",
   "execution_count": null,
   "metadata": {},
   "outputs": [],
   "source": [
    "train = pd.read_csv('../data/training_v2.csv')\n",
    "df = train.drop(columns=['encounter_id','patient_id','readmission_status']).reset_index(drop=True)\n",
    "df.hospital_id = df.hospital_id.astype(str)\n",
    "df.icu_id = df.icu_id.astype(str)\n",
    "df.apache_2_diagnosis = df.apache_2_diagnosis.astype(str)\n",
    "df.apache_3j_diagnosis = df.apache_3j_diagnosis.astype(str)\n",
    "print(df.shape)\n",
    "df.head(5)"
   ]
  },
  {
   "cell_type": "markdown",
   "metadata": {},
   "source": [
    "#### Deductive Imputation prior to creating the missing indicator df"
   ]
  },
  {
   "cell_type": "code",
   "execution_count": null,
   "metadata": {},
   "outputs": [],
   "source": [
    "# Before\n",
    "print(df.gcs_unable_apache.astype(str).value_counts())\n",
    "\n",
    "# Fill the missing rows with 1\n",
    "df.gcs_unable_apache.fillna('1.0',inplace=True)\n",
    "\n",
    "# After\n",
    "print(df.gcs_unable_apache.astype(str).value_counts())"
   ]
  },
  {
   "cell_type": "markdown",
   "metadata": {},
   "source": [
    "#### Missing Indicator df"
   ]
  },
  {
   "cell_type": "code",
   "execution_count": null,
   "metadata": {},
   "outputs": [],
   "source": [
    "missing_df = df.isnull().astype(int)\n",
    "missing_df.loc[0:2]"
   ]
  },
  {
   "cell_type": "code",
   "execution_count": null,
   "metadata": {},
   "outputs": [],
   "source": [
    "# Convert the data to string, so that we can join the digit row-wise\n",
    "missing_df = missing_df.astype(str)\n",
    "pattern = missing_df.apply(lambda x: \"\".join(x), axis = 1)\n",
    "pattern[0]\n",
    "# pattern is string"
   ]
  },
  {
   "cell_type": "markdown",
   "metadata": {},
   "source": [
    "#### 2p + 2 = 2*183+2 = 368"
   ]
  },
  {
   "cell_type": "code",
   "execution_count": null,
   "metadata": {},
   "outputs": [],
   "source": [
    "n_pattern = pattern.value_counts()\n",
    "print(\"The number of patterns: \", len(n_pattern))\n",
    "print(\"The number of patterns below the threshold membership amount: \", len(n_pattern[n_pattern>368]))"
   ]
  },
  {
   "cell_type": "markdown",
   "metadata": {},
   "source": [
    "> We have a LARGE of amount of patterns that don't meet the threshold..."
   ]
  },
  {
   "cell_type": "code",
   "execution_count": null,
   "metadata": {},
   "outputs": [],
   "source": [
    "n_pattern.head(10)"
   ]
  },
  {
   "cell_type": "markdown",
   "metadata": {},
   "source": [
    "### Missing Indicator df with only measurements - less cols to consider"
   ]
  },
  {
   "cell_type": "code",
   "execution_count": null,
   "metadata": {},
   "outputs": [],
   "source": [
    "#cols = apache_indicators + apache_chronic + apache_others + gcs + h1_vitals + d1_vitals + h1_labs + d1_labs + h1_lbg + d1_lbg\n",
    "#cols =  gcs + h1_vitals + d1_vitals + h1_labs + d1_labs + h1_lbg + d1_lbg\n",
    "# cols =  unique_apache + d1_vitals +  d1_labs +  d1_lbg\n",
    "len(cols)"
   ]
  },
  {
   "cell_type": "code",
   "execution_count": null,
   "metadata": {},
   "outputs": [],
   "source": [
    "missing_df2 = df[apache].isnull().astype(int).astype(str)\n",
    "print(missing_df2.shape)\n",
    "\n",
    "# Convert the data to string, so that we can join the digit row-wise\n",
    "pattern = missing_df2.apply(lambda x: \"\".join(x), axis = 1)\n",
    "pattern[0]"
   ]
  },
  {
   "cell_type": "code",
   "execution_count": null,
   "metadata": {},
   "outputs": [],
   "source": [
    "threshold = 2*len(missing_df2.columns)+2\n",
    "n_pattern = pattern.value_counts()\n",
    "print(\"Total number of patterns: \", len(n_pattern))\n",
    "print(\"The number of patterns below the threshold membership amount: \", len(n_pattern[n_pattern>threshold]))"
   ]
  },
  {
   "cell_type": "markdown",
   "metadata": {},
   "source": [
    "> If we only use the test measurements to build patterns, the number of patterns to fix is still overwhelming"
   ]
  },
  {
   "cell_type": "code",
   "execution_count": null,
   "metadata": {},
   "outputs": [],
   "source": []
  },
  {
   "cell_type": "code",
   "execution_count": null,
   "metadata": {},
   "outputs": [],
   "source": []
  },
  {
   "cell_type": "markdown",
   "metadata": {},
   "source": [
    "### VIF"
   ]
  },
  {
   "cell_type": "code",
   "execution_count": null,
   "metadata": {},
   "outputs": [],
   "source": [
    "# statsmodels.stats.outliers_influence.variance_inflation_factor(exog, exog_idx)"
   ]
  },
  {
   "cell_type": "code",
   "execution_count": null,
   "metadata": {},
   "outputs": [],
   "source": [
    "# Select which columns to check for multicollinearity\n",
    "\n",
    "#cols = apache_indicators + apache_chronic + apache_others + gcs + h1_vitals + d1_vitals + h1_labs + d1_labs + h1_lbg + d1_lbg\n",
    "#cols =  h1_vitals + d1_vitals + h1_labs + d1_labs + h1_lbg + d1_lbg\n",
    "cols =  h1_vitals + d1_vitals + h1_labs + d1_labs\n",
    "#cols =  d1_vitals +  d1_labs\n",
    "len(cols) "
   ]
  },
  {
   "cell_type": "code",
   "execution_count": null,
   "metadata": {},
   "outputs": [],
   "source": [
    "tmp = df[cols]\n",
    "tmp.shape"
   ]
  },
  {
   "cell_type": "code",
   "execution_count": null,
   "metadata": {},
   "outputs": [],
   "source": [
    "import pandas as pd\n",
    "import numpy as np\n",
    "\n",
    "from patsy import dmatrices\n",
    "import statsmodels.api as sm\n",
    "from statsmodels.stats.outliers_influence import variance_inflation_factor\n",
    "\n",
    "\n",
    "tmp = tmp.dropna()\n",
    "print(\"After dropping all Null rows, number of rows reduced to: \",tmp.shape)\n",
    "\n",
    "tmp = tmp._get_numeric_data() #This line will drop non-numeric cols\n",
    "#tmp = sm.add_constant(tmp)   # Add constant column to the dataframe\n",
    "#print(tmp.shape)\n",
    "\n",
    "# For each X, calculate VIF and save in dataframe\n",
    "vif = pd.DataFrame()\n",
    "vif[\"VIF Factor\"] = [variance_inflation_factor(tmp.values, i) for i in range(tmp.shape[1])]\n",
    "vif[\"features\"] = tmp.columns"
   ]
  },
  {
   "cell_type": "code",
   "execution_count": null,
   "metadata": {},
   "outputs": [],
   "source": [
    "#vif.sort_values(\"VIF Factor\").head(10)\n",
    "vif.sort_values(\"VIF Factor\",ascending = False).head(10)"
   ]
  },
  {
   "cell_type": "code",
   "execution_count": null,
   "metadata": {},
   "outputs": [],
   "source": [
    "tmp.head()"
   ]
  },
  {
   "cell_type": "code",
   "execution_count": null,
   "metadata": {},
   "outputs": [],
   "source": [
    "tmp_corr = tmp.corr()\n",
    "upper = tmp_corr.where(np.triu(np.ones(tmp_corr.shape), k=1).astype(np.bool))\n",
    "upper.head(20)"
   ]
  },
  {
   "cell_type": "code",
   "execution_count": null,
   "metadata": {},
   "outputs": [],
   "source": []
  },
  {
   "cell_type": "markdown",
   "metadata": {},
   "source": [
    "## Try imblearn Pipeline"
   ]
  },
  {
   "cell_type": "code",
   "execution_count": null,
   "metadata": {},
   "outputs": [],
   "source": [
    "from imblearn.pipeline import Pipeline, make_pipeline\n",
    "\n",
    "kf = KFold(n_splits=5, random_state=42, shuffle=False)\n",
    "\n",
    "imba_pipeline = make_pipeline([('sm', SMOTE(k_neighbors = 5,sampling_strategy = \"minority\",random_state=42)), \n",
    "                               ('rf', RandomForestClassifier(n_estimators=100, random_state=42))])\n",
    "\n",
    "params =  {'rf__n_estimators': [50, 100, 200],\n",
    "           'rf__max_depth': [4, 6, 10, 12],\n",
    "           'rf__min_samples_split': [5, 10, 15, 20],\n",
    "           'rf__min_samples_leaf': [4, 5, 6, 7,8,10],\n",
    "           'rf__min_impurity_decrease': [1e-7, 1e-5],\n",
    "           'rf__warm_start': [False,True]}          \n",
    "         }\n",
    "grid_imba = GridSearchCV(imba_pipeline, param_grid=params, cv=kf, scoring='roc_auc',return_train_score=True)\n",
    "grid_imba.fit(X_train_ss, y_train);"
   ]
  },
  {
   "cell_type": "code",
   "execution_count": null,
   "metadata": {},
   "outputs": [],
   "source": []
  },
  {
   "cell_type": "code",
   "execution_count": null,
   "metadata": {},
   "outputs": [],
   "source": [
    "t0 = time.time()  # timer starts\n",
    "grid.fit(X_sm, y_sm)  # Use SMOTE\n",
    "print(time.time() - t0)"
   ]
  },
  {
   "cell_type": "code",
   "execution_count": null,
   "metadata": {},
   "outputs": [],
   "source": []
  },
  {
   "cell_type": "markdown",
   "metadata": {},
   "source": [
    "## Try Structured modeling"
   ]
  },
  {
   "cell_type": "code",
   "execution_count": null,
   "metadata": {},
   "outputs": [],
   "source": [
    "# Train,test split\n",
    "X_train,X_test,y_train,y_test = train_test_split(X_imputed, y, test_size=0.25, random_state=42, stratify=y)"
   ]
  },
  {
   "cell_type": "code",
   "execution_count": null,
   "metadata": {},
   "outputs": [],
   "source": [
    "# Instantiate our StandardScaler.\n",
    "ss = StandardScaler()\n",
    "X_train_ss = ss.fit_transform(X_train)  # Scale X_train.\n",
    "X_test_ss = ss.transform(X_test)  # Scale X_test."
   ]
  },
  {
   "cell_type": "code",
   "execution_count": null,
   "metadata": {},
   "outputs": [],
   "source": []
  },
  {
   "cell_type": "code",
   "execution_count": null,
   "metadata": {},
   "outputs": [],
   "source": [
    "model = []\n",
    "parameters = []\n",
    "scores = []\n",
    "precision = []\n",
    "recall = []\n",
    "ra_score = []\n",
    "\n",
    "# To put the name of model, models from sklearn, and hyperparameters of the model we want to search through in order\n",
    "\n",
    "# 'Decision Tree', 'RandomForest', 'LogReg','KNN','SVC','AdaBoost', 'BaggingClass', 'GradientBoost'\n",
    "names = ['LogReg','Decision Tree', 'RandomForest', 'GradientBoost']\n",
    "\n",
    "#DecisionTreeClassifier(), RandomForestClassifier(), LogisticRegression(), KNeighborsClassifier(), SVC(), AdaBoostClassifier(), BaggingClassifier(), GradientBoostingClassifier()\n",
    "estimators = [LogisticRegression(), DecisionTreeClassifier(), RandomForestClassifier(), GradientBoostingClassifier()]\n",
    "\n",
    "params = {\n",
    "    {'logisticregression__C': np.logspace(-2,2,10),\n",
    "     'logisticregression__solver':['liblinear', 'newton-cg', 'lbfgs', 'sag', 'saga'],\n",
    "     'logisticregression__penalty': ['l1', 'l2', 'none'],\n",
    "     'logisticregression__random_state': 42},         #LogisticRegression\n",
    "\n",
    "    {'decisiontree__max_depth': [None, 10, 15, 20, 30, 35],\n",
    "     'decisiontree__min_samples_split': [5,10,15,20,25,30],\n",
    "     'decisiontree_random__state': 42},      #DecisionTree\n",
    "\n",
    "    \n",
    "    {'randomforestclassifier__max_depth': [None,50,75,100,150,200],\n",
    "     'randomforestclassifier__min_samples_split': [5,10,15,20,30],\n",
    "     'randomforestclassifier__random_state': 42},        #RandomForest\n",
    "    \n",
    "    {'gradientboosting__loss' : ['deviance', 'exponential'],\n",
    "     'gradientboosting__n_estimators':[50,75,100,200,500],\n",
    "     'gradientboosting__max_features': [None, 'auto','sqrt','log2'],\n",
    "     'gradientboosting__random_state': 42} #GradientBoosting\n",
    "}\n",
    "\n",
    "cv = KFold(n_splits=5, random_state=42, shuffle=False)\n",
    "\n",
    "for name, estimator, param in zip(names, estimators, params):\n",
    "    imba_pipe = make_pipeline(\n",
    "        SMOTE(sampling_strategy = \"minority\",random_state=42),                         \n",
    "        estimators)\n",
    "      \n",
    "    gs = RandomizedSeCV(imba_pipe, \n",
    "                        param_distributions = params, \n",
    "                        n_iter = 50,\n",
    "                        scoring = 'roc_auc',\n",
    "                        cv=cv, \n",
    "                        verbose=10, \n",
    "                        n_jobs=-1)\n",
    "    \n",
    "    gs.fit(X_train_ss, y_train)\n",
    "    \n",
    "    print(name)\n",
    "    print('Best Score: {}'.format(gs.best_score_))\n",
    "    print('Best Params: {}'.format(gs.best_params_))\n",
    "    \n",
    "    # Best Model\n",
    "    grid_model = gs.best_estimator_\n",
    "    \n",
    "    print('Model Score on X_train: {}'.format(grid_model.score(X_train, y_train)))\n",
    "    \n",
    "    # Prediction and score\n",
    "    pred = grid_model.predict(X_test)\n",
    "    print('Accuracy score of prediction: {}'.format(accuracy_score(y_test, pred)))\n",
    "        \n",
    "    # Confusion Matrix \n",
    "    conf_matrix = confusion_matrix(y_test, pred)\n",
    "    \n",
    "    tn, fp, fn, tp = confusion_matrix(y_test, pred).ravel()\n",
    "    print('TN: {}, FP:{}, FN:{}, TP:{}'.format(tn,fp,fn,tp))\n",
    "    print('Precision of the model is {}'. format(tp/(tp+fp)))\n",
    "    print('Recall of the model is {}'.format(tp/(tp+fn)))\n",
    "    \n",
    "    # roc_auc\n",
    "    probs = grid_model.predict_proba(X_test_ss)[:,1]\n",
    "    ra = roc_auc_score(y_test, probs)\n",
    "    print ('ROC_AUC: {}'.format(ra))\n",
    "   \n",
    "    \n",
    "    print('\\n')\n",
    "    model.append(name)\n",
    "    parameters.append(gs.best_params_)\n",
    "    scores.append(accuracy_score(y_test, pred))\n",
    "    recall.append(tp/(tp+fn))\n",
    "    precision.append(tp/(tp+fp))\n",
    "    ra_score.append(ra) \n",
    "    \n",
    "results = pd.DataFrame({'model': model, \n",
    "              'parameters': parameters, \n",
    "              'scores': scores, \n",
    "              'recall': recall, \n",
    "              'precision': precision,\n",
    "              'roc_auc':ra_score\n",
    "                       })\n",
    "results"
   ]
  },
  {
   "cell_type": "code",
   "execution_count": null,
   "metadata": {},
   "outputs": [],
   "source": []
  }
 ],
 "metadata": {
  "kernelspec": {
   "display_name": "Python 3",
   "language": "python",
   "name": "python3"
  },
  "language_info": {
   "codemirror_mode": {
    "name": "ipython",
    "version": 3
   },
   "file_extension": ".py",
   "mimetype": "text/x-python",
   "name": "python",
   "nbconvert_exporter": "python",
   "pygments_lexer": "ipython3",
   "version": "3.7.4"
  }
 },
 "nbformat": 4,
 "nbformat_minor": 2
}
