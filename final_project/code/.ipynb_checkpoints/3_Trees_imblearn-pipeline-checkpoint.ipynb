{
 "cells": [
  {
   "cell_type": "code",
   "execution_count": 1,
   "metadata": {},
   "outputs": [
    {
     "name": "stderr",
     "output_type": "stream",
     "text": [
      "C:\\Users\\dai_f\\Anaconda3\\lib\\site-packages\\sklearn\\utils\\deprecation.py:144: FutureWarning: The sklearn.neighbors.base module is  deprecated in version 0.22 and will be removed in version 0.24. The corresponding classes / functions should instead be imported from sklearn.neighbors. Anything that cannot be imported from sklearn.neighbors is now part of the private API.\n",
      "  warnings.warn(message, FutureWarning)\n",
      "C:\\Users\\dai_f\\Anaconda3\\lib\\site-packages\\sklearn\\utils\\deprecation.py:144: FutureWarning: The sklearn.ensemble.bagging module is  deprecated in version 0.22 and will be removed in version 0.24. The corresponding classes / functions should instead be imported from sklearn.ensemble. Anything that cannot be imported from sklearn.ensemble is now part of the private API.\n",
      "  warnings.warn(message, FutureWarning)\n",
      "C:\\Users\\dai_f\\Anaconda3\\lib\\site-packages\\sklearn\\utils\\deprecation.py:144: FutureWarning: The sklearn.ensemble.base module is  deprecated in version 0.22 and will be removed in version 0.24. The corresponding classes / functions should instead be imported from sklearn.ensemble. Anything that cannot be imported from sklearn.ensemble is now part of the private API.\n",
      "  warnings.warn(message, FutureWarning)\n",
      "C:\\Users\\dai_f\\Anaconda3\\lib\\site-packages\\sklearn\\utils\\deprecation.py:144: FutureWarning: The sklearn.ensemble.forest module is  deprecated in version 0.22 and will be removed in version 0.24. The corresponding classes / functions should instead be imported from sklearn.ensemble. Anything that cannot be imported from sklearn.ensemble is now part of the private API.\n",
      "  warnings.warn(message, FutureWarning)\n",
      "Using TensorFlow backend.\n",
      "C:\\Users\\dai_f\\Anaconda3\\lib\\site-packages\\sklearn\\utils\\deprecation.py:144: FutureWarning: The sklearn.utils.testing module is  deprecated in version 0.22 and will be removed in version 0.24. The corresponding classes / functions should instead be imported from sklearn.utils. Anything that cannot be imported from sklearn.utils is now part of the private API.\n",
      "  warnings.warn(message, FutureWarning)\n",
      "C:\\Users\\dai_f\\Anaconda3\\lib\\site-packages\\sklearn\\utils\\deprecation.py:144: FutureWarning: The sklearn.metrics.classification module is  deprecated in version 0.22 and will be removed in version 0.24. The corresponding classes / functions should instead be imported from sklearn.metrics. Anything that cannot be imported from sklearn.metrics is now part of the private API.\n",
      "  warnings.warn(message, FutureWarning)\n"
     ]
    }
   ],
   "source": [
    "import pandas as pd\n",
    "import numpy as np\n",
    "import seaborn as sns\n",
    "import matplotlib.pyplot as plt\n",
    "import time\n",
    "import pickle\n",
    "\n",
    "from sklearn.impute import SimpleImputer\n",
    "from sklearn.ensemble import RandomForestClassifier,GradientBoostingClassifier, VotingClassifier\n",
    "from imblearn.pipeline import Pipeline, make_pipeline\n",
    "\n",
    "from sklearn.metrics import accuracy_score, confusion_matrix, roc_auc_score, roc_curve\n",
    "from sklearn.tree import DecisionTreeClassifier\n",
    "from sklearn.model_selection import cross_val_score, GridSearchCV, RandomizedSearchCV, train_test_split, KFold,StratifiedShuffleSplit\n",
    "from imblearn.over_sampling import SMOTE, ADASYN\n",
    "\n",
    "#!pip install category_encoders\n",
    "from category_encoders.target_encoder import TargetEncoder\n",
    "\n",
    "%matplotlib inline\n",
    "\n",
    "pd.set_option('display.max_columns', 200)"
   ]
  },
  {
   "cell_type": "markdown",
   "metadata": {},
   "source": [
    "## LOAD DATA"
   ]
  },
  {
   "cell_type": "code",
   "execution_count": 2,
   "metadata": {},
   "outputs": [
    {
     "name": "stdout",
     "output_type": "stream",
     "text": [
      "(91713, 183)\n",
      "(39308, 183)\n"
     ]
    }
   ],
   "source": [
    "train = pd.read_csv('../data/train_clean.csv')\n",
    "test = pd.read_csv('../data/test_clean_cat.csv')\n",
    "print(train.shape)\n",
    "print(test.shape)"
   ]
  },
  {
   "cell_type": "code",
   "execution_count": 3,
   "metadata": {},
   "outputs": [
    {
     "data": {
      "text/plain": [
       "{'hospital_death'}"
      ]
     },
     "execution_count": 3,
     "metadata": {},
     "output_type": "execute_result"
    }
   ],
   "source": [
    "set(train.columns)-set(test.columns)"
   ]
  },
  {
   "cell_type": "code",
   "execution_count": 4,
   "metadata": {},
   "outputs": [
    {
     "data": {
      "text/plain": [
       "{'encounter_id'}"
      ]
     },
     "execution_count": 4,
     "metadata": {},
     "output_type": "execute_result"
    }
   ],
   "source": [
    "set(test.columns)-set(train.columns)"
   ]
  },
  {
   "cell_type": "markdown",
   "metadata": {},
   "source": [
    "## DATA PREPARATION"
   ]
  },
  {
   "cell_type": "code",
   "execution_count": 5,
   "metadata": {},
   "outputs": [
    {
     "name": "stdout",
     "output_type": "stream",
     "text": [
      "set()\n",
      "set()\n"
     ]
    }
   ],
   "source": [
    "# To verify the categorical columns are identical in both train and test dataset\n",
    "categorical_cols = [col for col in train.columns if  (train[col].dtype != 'float64')&(train[col].dtype != 'int64') ]\n",
    "categorical_cols_test = [col for col in test.columns if  (test[col].dtype != 'float64')&(test[col].dtype != 'int64') ]\n",
    "\n",
    "print(set(categorical_cols) - set(categorical_cols_test))\n",
    "print(set(categorical_cols_test) - set(categorical_cols))"
   ]
  },
  {
   "cell_type": "code",
   "execution_count": 6,
   "metadata": {},
   "outputs": [
    {
     "name": "stdout",
     "output_type": "stream",
     "text": [
      "ethnicity                0\n",
      "gender                   0\n",
      "hospital_admit_source    0\n",
      "icu_admit_source         0\n",
      "icu_stay_type            0\n",
      "icu_type                 0\n",
      "apache_3j_bodysystem     0\n",
      "apache_2_bodysystem      0\n",
      "dtype: int64\n",
      "ethnicity                0\n",
      "gender                   0\n",
      "hospital_admit_source    0\n",
      "icu_admit_source         0\n",
      "icu_stay_type            0\n",
      "icu_type                 0\n",
      "apache_3j_bodysystem     0\n",
      "apache_2_bodysystem      0\n",
      "dtype: int64\n"
     ]
    }
   ],
   "source": [
    "# Verify no missing data in categorical variables\n",
    "print(train[categorical_cols].isnull().sum())\n",
    "print(test[categorical_cols].isnull().sum())"
   ]
  },
  {
   "cell_type": "code",
   "execution_count": 7,
   "metadata": {},
   "outputs": [
    {
     "name": "stdout",
     "output_type": "stream",
     "text": [
      "train only element for ethnicity  is:  set()\n",
      "test only element for ethnicity  is:  set()\n",
      "train only element for gender  is:  set()\n",
      "test only element for gender  is:  set()\n",
      "train only element for hospital_admit_source  is:  set()\n",
      "test only element for hospital_admit_source  is:  set()\n",
      "train only element for icu_admit_source  is:  set()\n",
      "test only element for icu_admit_source  is:  set()\n",
      "train only element for icu_stay_type  is:  set()\n",
      "test only element for icu_stay_type  is:  set()\n",
      "train only element for icu_type  is:  set()\n",
      "test only element for icu_type  is:  set()\n",
      "train only element for apache_3j_bodysystem  is:  set()\n",
      "test only element for apache_3j_bodysystem  is:  set()\n",
      "train only element for apache_2_bodysystem  is:  set()\n",
      "test only element for apache_2_bodysystem  is:  set()\n"
     ]
    }
   ],
   "source": [
    "# Verify no unique elements in either test or train categorical variables\n",
    "for col in categorical_cols:\n",
    "    print(\"train only element for\", col, \" is: \", set(train[col].unique()) - set(test[col].unique()))\n",
    "    print(\"test only element for\", col, \" is: \", set(test[col].unique()) - set(train[col].unique()))"
   ]
  },
  {
   "cell_type": "markdown",
   "metadata": {},
   "source": [
    "### v2. [Target Encoding](https://www.kaggle.com/ogrellier/python-target-encoding-for-categorical-features)"
   ]
  },
  {
   "cell_type": "markdown",
   "metadata": {},
   "source": [
    "X = train.drop(columns=['hospital_death'])\n",
    "y = train.hospital_death"
   ]
  },
  {
   "cell_type": "markdown",
   "metadata": {},
   "source": [
    "target_enc = TargetEncoder(handle_missing='value', handle_unknown='value', min_samples_leaf=100, smoothing=10, verbose=1)\n",
    "X = target_enc.fit_transform(X,y)\n",
    "print(X.shape)\n",
    "\n",
    "test_m = target_enc.transform(test.drop(\"encounter_id\", axis=1))"
   ]
  },
  {
   "cell_type": "markdown",
   "metadata": {},
   "source": [
    "X.head()"
   ]
  },
  {
   "cell_type": "markdown",
   "metadata": {},
   "source": [
    "### v1. Create dummy variables for categorical variables"
   ]
  },
  {
   "cell_type": "code",
   "execution_count": 8,
   "metadata": {},
   "outputs": [
    {
     "name": "stdout",
     "output_type": "stream",
     "text": [
      "(91713, 53)\n"
     ]
    },
    {
     "data": {
      "text/plain": [
       "(91713, 228)"
      ]
     },
     "execution_count": 8,
     "metadata": {},
     "output_type": "execute_result"
    }
   ],
   "source": [
    "dummies = pd.get_dummies(train[categorical_cols]).drop(columns = ['ethnicity_Other/Unknown','gender_Unknown','hospital_admit_source_Unknown','icu_admit_source_Unknown','icu_stay_type_transfer','icu_type_SICU', 'apache_3j_bodysystem_Unknown','apache_2_bodysystem_Unknown'])\n",
    "print(dummies.shape)\n",
    "train_m = pd.concat([train.drop(columns=categorical_cols),dummies],axis=1)\n",
    "train_m.shape"
   ]
  },
  {
   "cell_type": "code",
   "execution_count": 9,
   "metadata": {},
   "outputs": [
    {
     "name": "stdout",
     "output_type": "stream",
     "text": [
      "(39308, 53)\n"
     ]
    },
    {
     "data": {
      "text/plain": [
       "(39308, 228)"
      ]
     },
     "execution_count": 9,
     "metadata": {},
     "output_type": "execute_result"
    }
   ],
   "source": [
    "dummies = pd.get_dummies(test[categorical_cols]).drop(columns = ['ethnicity_Other/Unknown','gender_Unknown','hospital_admit_source_Unknown','icu_admit_source_Unknown','icu_stay_type_transfer','icu_type_SICU', 'apache_3j_bodysystem_Unknown','apache_2_bodysystem_Unknown'])\n",
    "print(dummies.shape)\n",
    "test_m = pd.concat([test.drop(columns=categorical_cols),dummies],axis=1)\n",
    "test_m.shape"
   ]
  },
  {
   "cell_type": "markdown",
   "metadata": {},
   "source": [
    "### v1 - b. creating independent features X and dependant feature y"
   ]
  },
  {
   "cell_type": "code",
   "execution_count": 10,
   "metadata": {},
   "outputs": [
    {
     "name": "stdout",
     "output_type": "stream",
     "text": [
      "(91713, 227) (39308, 227)\n"
     ]
    }
   ],
   "source": [
    "X = train_m.drop(columns=['hospital_death'])\n",
    "y = train_m.hospital_death\n",
    "test_m = test_m.drop(\"encounter_id\", axis=1)\n",
    "\n",
    "print(X.shape, test_m.shape)"
   ]
  },
  {
   "cell_type": "markdown",
   "metadata": {},
   "source": [
    "## REMOVE FEATURES with more than 75 percent missing values"
   ]
  },
  {
   "cell_type": "code",
   "execution_count": 11,
   "metadata": {},
   "outputs": [],
   "source": [
    "#X.isnull().mean().sort_values(ascending=False)"
   ]
  },
  {
   "cell_type": "code",
   "execution_count": 12,
   "metadata": {},
   "outputs": [
    {
     "name": "stdout",
     "output_type": "stream",
     "text": [
      "independent features X's dimension is:  (91713, 182)\n"
     ]
    }
   ],
   "source": [
    "train_missing = X.isnull().mean().sort_values(ascending = False)\n",
    "train_missing = train_missing.index[train_missing > 0.75]\n",
    "#print(train_missing)\n",
    "X = X.drop(columns = train_missing)\n",
    "print(\"independent features X's dimension is: \",X.shape)\n",
    "test_m = test_m.drop(columns = train_missing)"
   ]
  },
  {
   "cell_type": "markdown",
   "metadata": {},
   "source": [
    "## IMPUTATION - SimpleImputer"
   ]
  },
  {
   "cell_type": "code",
   "execution_count": 13,
   "metadata": {},
   "outputs": [],
   "source": [
    "imputer = SimpleImputer(strategy = 'mean')"
   ]
  },
  {
   "cell_type": "code",
   "execution_count": 14,
   "metadata": {},
   "outputs": [],
   "source": [
    "X_imputed = imputer.fit_transform(X)\n",
    "test_imputed = imputer.fit_transform(test_m)"
   ]
  },
  {
   "cell_type": "code",
   "execution_count": 15,
   "metadata": {},
   "outputs": [
    {
     "data": {
      "text/plain": [
       "(91713, 182)"
      ]
     },
     "execution_count": 15,
     "metadata": {},
     "output_type": "execute_result"
    }
   ],
   "source": [
    "X_imputed.shape"
   ]
  },
  {
   "cell_type": "markdown",
   "metadata": {},
   "source": [
    "## TRAIN TEST SPLIT"
   ]
  },
  {
   "cell_type": "code",
   "execution_count": 16,
   "metadata": {},
   "outputs": [
    {
     "name": "stdout",
     "output_type": "stream",
     "text": [
      "(68784, 182) (22929, 182)\n"
     ]
    }
   ],
   "source": [
    "X_train,X_test,y_train,y_test = train_test_split(X_imputed, y, test_size=0.25, random_state=42, stratify=y)\n",
    "print(X_train.shape, X_test.shape)"
   ]
  },
  {
   "cell_type": "markdown",
   "metadata": {},
   "source": [
    "## StandardScaler"
   ]
  },
  {
   "cell_type": "markdown",
   "metadata": {},
   "source": [
    "## =============== CHANGE STARTS HERE ========================"
   ]
  },
  {
   "cell_type": "markdown",
   "metadata": {},
   "source": [
    "## PIPELINE - Oversampling and Modeling"
   ]
  },
  {
   "cell_type": "code",
   "execution_count": 17,
   "metadata": {},
   "outputs": [
    {
     "name": "stdout",
     "output_type": "stream",
     "text": [
      "Fitting 5 folds for each of 50 candidates, totalling 250 fits\n"
     ]
    },
    {
     "name": "stderr",
     "output_type": "stream",
     "text": [
      "C:\\Users\\dai_f\\Anaconda3\\lib\\site-packages\\sklearn\\model_selection\\_split.py:296: FutureWarning: Setting a random_state has no effect since shuffle is False. This will raise an error in 0.24. You should leave random_state to its default (None), or set shuffle=True.\n",
      "  FutureWarning\n",
      "[Parallel(n_jobs=-1)]: Using backend LokyBackend with 8 concurrent workers.\n",
      "[Parallel(n_jobs=-1)]: Done   2 tasks      | elapsed:   45.5s\n",
      "[Parallel(n_jobs=-1)]: Done   9 tasks      | elapsed:  1.4min\n",
      "[Parallel(n_jobs=-1)]: Done  16 tasks      | elapsed:  3.2min\n",
      "[Parallel(n_jobs=-1)]: Done  25 tasks      | elapsed:  4.8min\n",
      "[Parallel(n_jobs=-1)]: Done  34 tasks      | elapsed:  7.4min\n",
      "[Parallel(n_jobs=-1)]: Done  45 tasks      | elapsed:  9.3min\n",
      "[Parallel(n_jobs=-1)]: Done  56 tasks      | elapsed: 11.9min\n",
      "[Parallel(n_jobs=-1)]: Done  69 tasks      | elapsed: 13.6min\n",
      "[Parallel(n_jobs=-1)]: Done  82 tasks      | elapsed: 16.2min\n",
      "[Parallel(n_jobs=-1)]: Done  97 tasks      | elapsed: 20.1min\n",
      "[Parallel(n_jobs=-1)]: Done 112 tasks      | elapsed: 22.6min\n",
      "[Parallel(n_jobs=-1)]: Done 129 tasks      | elapsed: 25.0min\n",
      "[Parallel(n_jobs=-1)]: Done 146 tasks      | elapsed: 27.8min\n",
      "[Parallel(n_jobs=-1)]: Done 165 tasks      | elapsed: 31.0min\n",
      "[Parallel(n_jobs=-1)]: Done 184 tasks      | elapsed: 35.6min\n",
      "[Parallel(n_jobs=-1)]: Done 205 tasks      | elapsed: 39.5min\n",
      "[Parallel(n_jobs=-1)]: Done 226 tasks      | elapsed: 45.4min\n",
      "[Parallel(n_jobs=-1)]: Done 250 out of 250 | elapsed: 50.4min finished\n",
      "C:\\Users\\dai_f\\Anaconda3\\lib\\site-packages\\sklearn\\utils\\deprecation.py:87: FutureWarning: Function safe_indexing is deprecated; safe_indexing is deprecated in version 0.22 and will be removed in version 0.24.\n",
      "  warnings.warn(msg, category=FutureWarning)\n"
     ]
    }
   ],
   "source": [
    "kf = KFold(n_splits=5, random_state=42, shuffle=False)\n",
    "#cv = StratifiedShuffleSplit(n_splits=5, random_state=42)\n",
    "#\n",
    "#imba_pipeline = Pipeline([('sm', SMOTE(k_neighbors = 5,sampling_strategy = \"minority\",random_state=42)), \n",
    "#                         ('rf', RandomForestClassifier(n_estimators=100, random_state=42))])\n",
    "\n",
    "#params =  {'rf__n_estimators': [50, 100, 200],\n",
    "#           'rf__max_depth': [4, 6, 10, 12],\n",
    "#           'rf__min_samples_split': [5, 10, 15, 20],\n",
    "#           'rf__min_samples_leaf': [4, 5, 6, 7,8,10],\n",
    "#           'rf__min_impurity_decrease': [1e-7, 1e-5]}          \n",
    " \n",
    "imba_pipeline = make_pipeline(SMOTE(sampling_strategy = \"minority\",random_state=42), \n",
    "                              RandomForestClassifier(n_estimators=100, random_state=42))\n",
    "\n",
    "params =  {'randomforestclassifier__n_estimators': [50, 100, 200],\n",
    "           'randomforestclassifier__max_depth': [4, 6, 10, 12],\n",
    "           'randomforestclassifier__min_samples_split': [5, 10, 15, 20],\n",
    "           'randomforestclassifier__min_samples_leaf': [4, 5, 6, 7,8,10],\n",
    "           'randomforestclassifier__min_impurity_decrease': [1e-7, 1e-5]}     \n",
    "\n",
    "\n",
    "rf_imba = RandomizedSearchCV(imba_pipeline,\n",
    "                             param_distributions = params,\n",
    "                             n_iter = 50,\n",
    "                             scoring = 'roc_auc',\n",
    "                             cv=kf,\n",
    "                             n_jobs = -1,\n",
    "                             verbose = 10,\n",
    "                             return_train_score=True)    \n",
    "    \n",
    "rf_imba.fit(X_train, y_train);"
   ]
  },
  {
   "cell_type": "code",
   "execution_count": 25,
   "metadata": {},
   "outputs": [
    {
     "name": "stdout",
     "output_type": "stream",
     "text": [
      "0.8810551199053382\n",
      "{'randomforestclassifier__n_estimators': 200, 'randomforestclassifier__min_samples_split': 20, 'randomforestclassifier__min_samples_leaf': 8, 'randomforestclassifier__min_impurity_decrease': 1e-07, 'randomforestclassifier__max_depth': 12}\n",
      "Pipeline(memory=None,\n",
      "         steps=[('smote',\n",
      "                 SMOTE(k_neighbors=5, kind='deprecated',\n",
      "                       m_neighbors='deprecated', n_jobs=1,\n",
      "                       out_step='deprecated', random_state=42, ratio=None,\n",
      "                       sampling_strategy='minority',\n",
      "                       svm_estimator='deprecated')),\n",
      "                ('randomforestclassifier',\n",
      "                 RandomForestClassifier(bootstrap=True, ccp_alpha=0.0,\n",
      "                                        class_weight=None, criterion='gini',\n",
      "                                        max_depth=12, max_features='auto',\n",
      "                                        max_leaf_nodes=None, max_samples=None,\n",
      "                                        min_impurity_decrease=1e-07,\n",
      "                                        min_impurity_split=None,\n",
      "                                        min_samples_leaf=8,\n",
      "                                        min_samples_split=20,\n",
      "                                        min_weight_fraction_leaf=0.0,\n",
      "                                        n_estimators=200, n_jobs=None,\n",
      "                                        oob_score=False, random_state=42,\n",
      "                                        verbose=0, warm_start=False))],\n",
      "         verbose=False)\n"
     ]
    }
   ],
   "source": [
    "print(rf_imba.best_score_)\n",
    "print(rf_imba.best_params_)\n",
    "print(rf_imba.best_estimator_)\n",
    "best_clf = rf_imba.best_estimator_"
   ]
  },
  {
   "cell_type": "code",
   "execution_count": 28,
   "metadata": {},
   "outputs": [
    {
     "name": "stdout",
     "output_type": "stream",
     "text": [
      "roc auc score: 0.8840449541184826\n",
      "accuracy score: 0.8959396397575123\n"
     ]
    }
   ],
   "source": [
    "# Score from Optimized RF:\n",
    "probs = best_clf.predict_proba(X_test)[:,1]\n",
    "print('roc auc score:', roc_auc_score(y_test,probs))\n",
    "print('accuracy score:',best_clf.score(X_test, y_test))"
   ]
  },
  {
   "cell_type": "code",
   "execution_count": null,
   "metadata": {},
   "outputs": [],
   "source": []
  },
  {
   "cell_type": "code",
   "execution_count": 29,
   "metadata": {},
   "outputs": [],
   "source": [
    "def model_performance (model):\n",
    "    tn, fp, fn, tp = confusion_matrix(y_test, best_clf.predict(X_test)).ravel()\n",
    "    accuracy  =  ((tp+tn)/(tp+tn+fp+fn))\n",
    "    precision =  (tp/(tp+fp))\n",
    "    recall    =  (tp/(tp+fn))\n",
    "    f1_score  =  (2*precision*recall)/(precision + recall)\n",
    "    roc = roc_auc_score(y_test,probs)\n",
    "\n",
    "    metrics = pd.DataFrame([[model, roc, accuracy,precision,recall,f1_score]], columns = ['Model','ROC_AUC','Accuracy', 'Precision', \"Recall\", 'F1_score'])\n",
    "    return metrics"
   ]
  },
  {
   "cell_type": "code",
   "execution_count": 30,
   "metadata": {},
   "outputs": [
    {
     "data": {
      "text/html": [
       "<div>\n",
       "<style scoped>\n",
       "    .dataframe tbody tr th:only-of-type {\n",
       "        vertical-align: middle;\n",
       "    }\n",
       "\n",
       "    .dataframe tbody tr th {\n",
       "        vertical-align: top;\n",
       "    }\n",
       "\n",
       "    .dataframe thead th {\n",
       "        text-align: right;\n",
       "    }\n",
       "</style>\n",
       "<table border=\"1\" class=\"dataframe\">\n",
       "  <thead>\n",
       "    <tr style=\"text-align: right;\">\n",
       "      <th></th>\n",
       "      <th>Model</th>\n",
       "      <th>ROC_AUC</th>\n",
       "      <th>Accuracy</th>\n",
       "      <th>Precision</th>\n",
       "      <th>Recall</th>\n",
       "      <th>F1_score</th>\n",
       "    </tr>\n",
       "  </thead>\n",
       "  <tbody>\n",
       "    <tr>\n",
       "      <td>0</td>\n",
       "      <td>rf_imba</td>\n",
       "      <td>0.884045</td>\n",
       "      <td>0.89594</td>\n",
       "      <td>0.422476</td>\n",
       "      <td>0.560384</td>\n",
       "      <td>0.481755</td>\n",
       "    </tr>\n",
       "  </tbody>\n",
       "</table>\n",
       "</div>"
      ],
      "text/plain": [
       "     Model   ROC_AUC  Accuracy  Precision    Recall  F1_score\n",
       "0  rf_imba  0.884045   0.89594   0.422476  0.560384  0.481755"
      ]
     },
     "execution_count": 30,
     "metadata": {},
     "output_type": "execute_result"
    }
   ],
   "source": [
    "model_performance('rf_imba')"
   ]
  },
  {
   "cell_type": "code",
   "execution_count": 32,
   "metadata": {},
   "outputs": [
    {
     "data": {
      "image/png": "[encoded data removed]",
      "text/plain": [
       "<Figure size 720x288 with 1 Axes>"
      ]
     },
     "metadata": {
      "needs_background": "light"
     },
     "output_type": "display_data"
    }
   ],
   "source": [
    "    pred_df = pd.DataFrame({'true_values': y_test,\n",
    "                            'pred_probs':best_clf.predict_proba(X_test)[:,1]})\n",
    "    # Create figure.\n",
    "    plt.figure(figsize = (10,4))\n",
    "\n",
    "    # Create two histograms of observations.\n",
    "    plt.hist(pred_df[pred_df['true_values'] == 0]['pred_probs'],\n",
    "             bins=50,\n",
    "             color='b',\n",
    "             alpha = 0.5,\n",
    "             density=True,\n",
    "             label='hosptial_death = 0')\n",
    "    plt.hist(pred_df[pred_df['true_values'] == 1]['pred_probs'],\n",
    "             bins=50,\n",
    "             color='red',\n",
    "             alpha = 0.5,\n",
    "             density=True,\n",
    "             label='hosptial_death = 1')\n",
    "\n",
    "    # Label axes.\n",
    "    plt.title(\"Optimized RF (with imblearn pipeline)\", fontsize=22)\n",
    "    plt.ylabel('Frequency', fontsize=18)\n",
    "    plt.xlabel('Predicted Probability for hospital_death = 1', fontsize=18)\n",
    "\n",
    "    # Create legend.\n",
    "    plt.legend(fontsize=10);"
   ]
  },
  {
   "cell_type": "markdown",
   "metadata": {},
   "source": [
    "> I don't see much improvement with imblearn's package "
   ]
  },
  {
   "cell_type": "markdown",
   "metadata": {},
   "source": [
    "# ===============  STOP HERE  =================="
   ]
  },
  {
   "cell_type": "code",
   "execution_count": null,
   "metadata": {},
   "outputs": [],
   "source": []
  },
  {
   "cell_type": "markdown",
   "metadata": {},
   "source": [
    "## Performance Summary"
   ]
  },
  {
   "cell_type": "markdown",
   "metadata": {},
   "source": [
    "plot_roc_curve(fpr, tpr,'ensemble')\n",
    "plot_roc_curve(fpr_gbc, tpr_gbc, 'GradientBoosting')\n",
    "plot_roc_curve(fpr_rf, tpr_rf, \"RandomForest\")\n",
    "plot_roc_curve(fpr_dt, tpr_dt,'Best Decision Tree')"
   ]
  },
  {
   "cell_type": "markdown",
   "metadata": {},
   "source": [
    "## Important Features"
   ]
  },
  {
   "cell_type": "markdown",
   "metadata": {},
   "source": [
    "len(X.columns), len(dt1.feature_importances_)"
   ]
  },
  {
   "cell_type": "markdown",
   "metadata": {},
   "source": [
    "feature_imp_df = pd.DataFrame({\"Feature\": X.columns, \"Importance\": dt1.feature_importances_}).sort_values(by=\"Importance\", ascending=False)\n",
    "sns.barplot(x=\"Importance\", y=\"Feature\", data=feature_imp_df.head(20))\n",
    "plt.title(\"Decision Tree\")\n",
    "plt.show()\n",
    "sns.barplot(x=\"Importance\", y=\"Feature\", data=feature_imp_df.tail(20))\n",
    "dt.max_features_"
   ]
  },
  {
   "cell_type": "markdown",
   "metadata": {},
   "source": [
    "feature_imp_df = pd.DataFrame({\"Feature\": X.columns, \"Importance\": rfc.feature_importances_}).sort_values(by=\"Importance\", ascending=False)\n",
    "sns.barplot(x=\"Importance\", y=\"Feature\", data=feature_imp_df.head(20))\n",
    "plt.title(\"Random Forest\")\n",
    "plt.show()\n",
    "sns.barplot(x=\"Importance\", y=\"Feature\", data=feature_imp_df.tail(20))"
   ]
  },
  {
   "cell_type": "markdown",
   "metadata": {},
   "source": [
    "feature_imp_df = pd.DataFrame({\"Feature\": X.columns, \"Importance\": gbc.feature_importances_}).sort_values(by=\"Importance\", ascending=False)\n",
    "sns.barplot(x=\"Importance\", y=\"Feature\", data=feature_imp_df.head(20))\n",
    "plt.title(\"Gradient Boost\")\n",
    "plt.show()\n",
    "sns.barplot(x=\"Importance\", y=\"Feature\", data=feature_imp_df.tail(20))"
   ]
  },
  {
   "cell_type": "markdown",
   "metadata": {},
   "source": [
    "## Submission"
   ]
  },
  {
   "cell_type": "code",
   "execution_count": null,
   "metadata": {},
   "outputs": [],
   "source": []
  }
 ],
 "metadata": {
  "kernelspec": {
   "display_name": "Python 3",
   "language": "python",
   "name": "python3"
  },
  "language_info": {
   "codemirror_mode": {
    "name": "ipython",
    "version": 3
   },
   "file_extension": ".py",
   "mimetype": "text/x-python",
   "name": "python",
   "nbconvert_exporter": "python",
   "pygments_lexer": "ipython3",
   "version": "3.7.4"
  }
 },
 "nbformat": 4,
 "nbformat_minor": 2
}
