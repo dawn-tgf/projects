{
 "cells": [
  {
   "cell_type": "code",
   "execution_count": 51,
   "metadata": {},
   "outputs": [],
   "source": [
    "import pandas as pd\n",
    "import numpy as np\n",
    "import seaborn as sns\n",
    "import matplotlib.pyplot as plt\n",
    "import pickle\n",
    "from sklearn.impute import SimpleImputer\n",
    "from sklearn.preprocessing import StandardScaler, OneHotEncoder\n",
    "from sklearn.linear_model import LogisticRegression\n",
    "\n",
    "from sklearn.model_selection import cross_val_score, GridSearchCV, RandomizedSearchCV, train_test_split, KFold\n",
    "from sklearn.pipeline import Pipeline\n",
    "from sklearn.metrics import accuracy_score, confusion_matrix, roc_auc_score, roc_curve\n",
    "from imblearn.over_sampling import SMOTE\n",
    "\n",
    "%matplotlib inline\n",
    "\n",
    "pd.set_option('display.max_columns', 200)"
   ]
  },
  {
   "cell_type": "markdown",
   "metadata": {},
   "source": [
    "## LOAD DATA"
   ]
  },
  {
   "cell_type": "code",
   "execution_count": 2,
   "metadata": {},
   "outputs": [
    {
     "name": "stdout",
     "output_type": "stream",
     "text": [
      "(91713, 183)\n",
      "(39308, 183)\n"
     ]
    }
   ],
   "source": [
    "train = pd.read_csv('../data/train_clean.csv')\n",
    "test = pd.read_csv('../data/test_clean_cat.csv')\n",
    "print(train.shape)\n",
    "print(test.shape)"
   ]
  },
  {
   "cell_type": "code",
   "execution_count": 3,
   "metadata": {},
   "outputs": [
    {
     "data": {
      "text/plain": [
       "{'hospital_death'}"
      ]
     },
     "execution_count": 3,
     "metadata": {},
     "output_type": "execute_result"
    }
   ],
   "source": [
    "set(train.columns)-set(test.columns)"
   ]
  },
  {
   "cell_type": "code",
   "execution_count": 4,
   "metadata": {},
   "outputs": [
    {
     "data": {
      "text/plain": [
       "{'encounter_id'}"
      ]
     },
     "execution_count": 4,
     "metadata": {},
     "output_type": "execute_result"
    }
   ],
   "source": [
    "set(test.columns)-set(train.columns)"
   ]
  },
  {
   "cell_type": "markdown",
   "metadata": {},
   "source": [
    "## DATA PREPARATION"
   ]
  },
  {
   "cell_type": "code",
   "execution_count": 5,
   "metadata": {},
   "outputs": [
    {
     "data": {
      "text/plain": [
       "40"
      ]
     },
     "execution_count": 5,
     "metadata": {},
     "output_type": "execute_result"
    }
   ],
   "source": [
    "# Apache Variables\n",
    "apache_cov = ['albumin_apache','bilirubin_apache','bun_apache','creatinine_apache','glucose_apache','heart_rate_apache',\n",
    "          'hematocrit_apache','resprate_apache','sodium_apache','temp_apache','urineoutput_apache','wbc_apache',\n",
    "          'fio2_apache','map_apache','paco2_apache','paco2_for_ph_apache','pao2_apache','ph_apache']\n",
    "# 4 indicators\n",
    "apache_indicators = ['apache_post_operative','arf_apache','intubated_apache','ventilated_apache']\n",
    "\n",
    "# 8 Chronic health status\n",
    "apache_chronic = ['aids','cirrhosis','diabetes_mellitus','hepatic_failure',\n",
    "                  'immunosuppression','leukemia','lymphoma','solid_tumor_with_metastasis']\n",
    "# 6 others\n",
    "apache_others =['apache_2_diagnosis','apache_3j_diagnosis', 'apache_3j_bodysystem','apache_2_bodysystem',\n",
    "                'apache_4a_hospital_death_prob','apache_4a_icu_death_prob']\n",
    "\n",
    "gcs = ['gcs_eyes_apache','gcs_motor_apache','gcs_unable_apache','gcs_verbal_apache']\n",
    "\n",
    "apache = apache_cov + apache_indicators + apache_chronic + apache_others + gcs\n",
    "len(apache)"
   ]
  },
  {
   "cell_type": "code",
   "execution_count": 6,
   "metadata": {},
   "outputs": [
    {
     "data": {
      "text/plain": [
       "hospital_id                      0\n",
       "hospital_death                   0\n",
       "age                              0\n",
       "bmi                              0\n",
       "elective_surgery                 0\n",
       "                              ... \n",
       "leukemia                       715\n",
       "lymphoma                       715\n",
       "solid_tumor_with_metastasis    715\n",
       "apache_3j_bodysystem             0\n",
       "apache_2_bodysystem              0\n",
       "Length: 183, dtype: int64"
      ]
     },
     "execution_count": 6,
     "metadata": {},
     "output_type": "execute_result"
    }
   ],
   "source": [
    "train.isnull().sum()"
   ]
  },
  {
   "cell_type": "code",
   "execution_count": 7,
   "metadata": {},
   "outputs": [],
   "source": [
    "#train.isnull().sum().sort_values(ascending=False)"
   ]
  },
  {
   "cell_type": "markdown",
   "metadata": {},
   "source": [
    "### Create independent features X and dependant feature y"
   ]
  },
  {
   "cell_type": "code",
   "execution_count": 8,
   "metadata": {},
   "outputs": [],
   "source": [
    "# Version 3: Exclude all APACHE covariates, but keep its unique information\n",
    "\n",
    "#print(len(apache_cov))\n",
    "#X = train.drop(columns=apache_cov).drop(columns='hospital_death',axis=1)\n",
    "#y = train.hospital_death\n",
    "\n",
    "#test = test_m.drop(columns=apache_cov)\n",
    "#X.shape, test.shape"
   ]
  },
  {
   "cell_type": "code",
   "execution_count": 9,
   "metadata": {},
   "outputs": [
    {
     "name": "stdout",
     "output_type": "stream",
     "text": [
      "Apache column to drop: 40\n"
     ]
    },
    {
     "data": {
      "text/plain": [
       "((91713, 142), (39308, 143))"
      ]
     },
     "execution_count": 9,
     "metadata": {},
     "output_type": "execute_result"
    }
   ],
   "source": [
    "# Version 2: Exclude all APACHE variables\n",
    "\n",
    "print(\"Apache column to drop:\", len(apache))\n",
    "X = train.drop(columns = apache).drop(columns = 'hospital_death',axis=1)\n",
    "y = train.hospital_death\n",
    "\n",
    "test = test.drop(columns = apache)\n",
    "X.shape, test.shape"
   ]
  },
  {
   "cell_type": "code",
   "execution_count": 10,
   "metadata": {},
   "outputs": [],
   "source": [
    "# Original: all Variables\n",
    "#X = train_m.drop(columns=['hospital_death'])\n",
    "#y = train_m.hospital_death"
   ]
  },
  {
   "cell_type": "markdown",
   "metadata": {},
   "source": [
    "### Categorical Cols\n",
    "These are categorical, will need to convert later on:\n",
    "apache_2_diagnosis,apache_3j_diagnosis,apache_3j_diag_type, hospital_id"
   ]
  },
  {
   "cell_type": "code",
   "execution_count": 11,
   "metadata": {},
   "outputs": [
    {
     "name": "stdout",
     "output_type": "stream",
     "text": [
      "6\n"
     ]
    },
    {
     "data": {
      "text/plain": [
       "['ethnicity',\n",
       " 'gender',\n",
       " 'hospital_admit_source',\n",
       " 'icu_admit_source',\n",
       " 'icu_stay_type',\n",
       " 'icu_type']"
      ]
     },
     "execution_count": 11,
     "metadata": {},
     "output_type": "execute_result"
    }
   ],
   "source": [
    "categorical_cols = [col for col in X.columns if  (X[col].dtype != 'float64')&(X[col].dtype != 'int64') ]\n",
    "print(len(categorical_cols))\n",
    "categorical_cols"
   ]
  },
  {
   "cell_type": "markdown",
   "metadata": {},
   "source": [
    "### Encode categorical columns"
   ]
  },
  {
   "cell_type": "markdown",
   "metadata": {},
   "source": [
    "**For Train dataset**"
   ]
  },
  {
   "cell_type": "code",
   "execution_count": 12,
   "metadata": {},
   "outputs": [
    {
     "name": "stdout",
     "output_type": "stream",
     "text": [
      "(91713, 33)\n"
     ]
    },
    {
     "data": {
      "text/plain": [
       "(91713, 169)"
      ]
     },
     "execution_count": 12,
     "metadata": {},
     "output_type": "execute_result"
    }
   ],
   "source": [
    "# Use this if excluding APACHE info\n",
    "dummies = pd.get_dummies(X[categorical_cols]).drop(columns = ['ethnicity_Other/Unknown','gender_Unknown','hospital_admit_source_Unknown','icu_admit_source_Unknown','icu_stay_type_transfer','icu_type_SICU'])\n",
    "\n",
    "# Use this if APACHE bodysystem is used\n",
    "#dummies = pd.get_dummies(X[categorical_cols]).drop(columns = ['ethnicity_Other/Unknown','gender_Unknown','hospital_admit_source_Unknown','icu_admit_source_Unknown','icu_stay_type_transfer','icu_type_SICU', 'apache_3j_bodysystem_Unknown','apache_2_bodysystem_Unknown'])\n",
    "\n",
    "print(dummies.shape)\n",
    "X = pd.concat([X.drop(columns=categorical_cols),dummies],axis=1)\n",
    "X.shape"
   ]
  },
  {
   "cell_type": "markdown",
   "metadata": {},
   "source": [
    "**For Test dataset**"
   ]
  },
  {
   "cell_type": "code",
   "execution_count": 13,
   "metadata": {},
   "outputs": [
    {
     "name": "stdout",
     "output_type": "stream",
     "text": [
      "(39308, 33)\n"
     ]
    },
    {
     "data": {
      "text/plain": [
       "(39308, 169)"
      ]
     },
     "execution_count": 13,
     "metadata": {},
     "output_type": "execute_result"
    }
   ],
   "source": [
    "# Use this if excluding APACHE info\n",
    "dummies = pd.get_dummies(test[categorical_cols]).drop(columns = ['ethnicity_Other/Unknown','gender_Unknown','hospital_admit_source_Unknown','icu_admit_source_Unknown','icu_stay_type_transfer','icu_type_SICU'])\n",
    "\n",
    "# Use this if APACHE bodysystem is used\n",
    "#dummies = pd.get_dummies(test[categorical_cols]).drop(columns = ['ethnicity_Other/Unknown','gender_Unknown','hospital_admit_source_Unknown','icu_admit_source_Unknown','icu_stay_type_transfer','icu_type_SICU', 'apache_3j_bodysystem_Unknown','apache_2_bodysystem_Unknown'])\n",
    "\n",
    "print(dummies.shape)\n",
    "test_m = pd.concat([test.drop(columns=categorical_cols),dummies],axis=1)\n",
    "test_m = test_m.drop(\"encounter_id\", axis=1)   # Drop encounter_id for test_m dataset to match train here\n",
    "test_m.shape"
   ]
  },
  {
   "cell_type": "markdown",
   "metadata": {},
   "source": [
    "### Remove Columns with more than 75% missing"
   ]
  },
  {
   "cell_type": "code",
   "execution_count": 14,
   "metadata": {},
   "outputs": [
    {
     "name": "stdout",
     "output_type": "stream",
     "text": [
      "Feature dimention is:  (91713, 129) (39308, 129)\n"
     ]
    }
   ],
   "source": [
    "train_missing = X.isnull().mean().sort_values(ascending = False)\n",
    "train_missing = train_missing.index[train_missing > 0.75]\n",
    "#print(train_missing)\n",
    "X = X.drop(columns = train_missing)\n",
    "\n",
    "test_m = test_m.drop(columns = train_missing)\n",
    "\n",
    "print(\"Feature dimention is: \",X.shape, test_m.shape)"
   ]
  },
  {
   "cell_type": "markdown",
   "metadata": {},
   "source": [
    "### Impute missing data with SimpleImputer"
   ]
  },
  {
   "cell_type": "code",
   "execution_count": 15,
   "metadata": {},
   "outputs": [],
   "source": [
    "imputer = SimpleImputer(strategy = 'mean')\n",
    "X_imputed = imputer.fit_transform(X)\n",
    "test_imputed = imputer.fit_transform(test_m)  # Use test's mean to impute"
   ]
  },
  {
   "cell_type": "markdown",
   "metadata": {},
   "source": [
    "## TRAIN TEST SPLIT"
   ]
  },
  {
   "cell_type": "code",
   "execution_count": 16,
   "metadata": {},
   "outputs": [
    {
     "name": "stdout",
     "output_type": "stream",
     "text": [
      "(68784, 129) (22929, 129)\n"
     ]
    }
   ],
   "source": [
    "X_train,X_test,y_train,y_test = train_test_split(X_imputed, y, test_size=0.25, random_state=42, stratify=y)\n",
    "print(X_train.shape, X_test.shape)"
   ]
  },
  {
   "cell_type": "markdown",
   "metadata": {},
   "source": [
    "## StandardScaler"
   ]
  },
  {
   "cell_type": "code",
   "execution_count": 17,
   "metadata": {},
   "outputs": [],
   "source": [
    "# Instantiate our StandardScaler.\n",
    "ss = StandardScaler()\n",
    "X_train_ss = ss.fit_transform(X_train)  # Scale X_train.\n",
    "X_test_ss = ss.transform(X_test)  # Scale X_test."
   ]
  },
  {
   "cell_type": "markdown",
   "metadata": {},
   "source": [
    "## OVERSAMPLING THE MINORITY CLASS"
   ]
  },
  {
   "cell_type": "code",
   "execution_count": 18,
   "metadata": {},
   "outputs": [
    {
     "data": {
      "text/plain": [
       "0    0.913701\n",
       "1    0.086299\n",
       "Name: hospital_death, dtype: float64"
      ]
     },
     "execution_count": 18,
     "metadata": {},
     "output_type": "execute_result"
    }
   ],
   "source": [
    "y_train.value_counts(normalize=True)"
   ]
  },
  {
   "cell_type": "code",
   "execution_count": 19,
   "metadata": {},
   "outputs": [
    {
     "name": "stderr",
     "output_type": "stream",
     "text": [
      "C:\\Users\\dai_f\\Anaconda3\\lib\\site-packages\\sklearn\\utils\\deprecation.py:87: FutureWarning: Function safe_indexing is deprecated; safe_indexing is deprecated in version 0.22 and will be removed in version 0.24.\n",
      "  warnings.warn(msg, category=FutureWarning)\n"
     ]
    }
   ],
   "source": [
    "## Oversampling on minority class\n",
    "sm = SMOTE(k_neighbors=5,sampling_strategy = \"minority\",random_state=42)\n",
    "X_sm, y_sm = sm.fit_sample(X_train_ss, y_train)"
   ]
  },
  {
   "cell_type": "code",
   "execution_count": 20,
   "metadata": {},
   "outputs": [
    {
     "name": "stdout",
     "output_type": "stream",
     "text": [
      "[62848  5936] [62848 62848]\n"
     ]
    }
   ],
   "source": [
    "print(np.bincount(y_train), np.bincount(y_sm))"
   ]
  },
  {
   "cell_type": "markdown",
   "metadata": {},
   "source": [
    "## MODELING - Logistic Regression"
   ]
  },
  {
   "cell_type": "code",
   "execution_count": 124,
   "metadata": {},
   "outputs": [],
   "source": [
    "# Create variables to store results\n",
    "search_model = []\n",
    "search_best_score = []\n",
    "search_best_estimator= []\n",
    "search_params_list = []\n",
    "\n",
    "name_list = []\n",
    "model_list = []\n",
    "scores_list = []\n",
    "recall_list = []\n",
    "specificity_list = []\n",
    "precision_list = []\n",
    "f1_list=[]\n",
    "roc_list = []"
   ]
  },
  {
   "cell_type": "code",
   "execution_count": 125,
   "metadata": {},
   "outputs": [],
   "source": [
    "# Create a function to store model performance\n",
    "# Use standard name:\n",
    "# X_test, y_test, probs (for predict_proba) \n",
    "\n",
    "def model_performance (name, model):\n",
    "    tn, fp, fn, tp = confusion_matrix(y_test, model.predict(X_test_ss)).ravel()\n",
    "    accuracy  =  ((tp+tn)/(tp+tn+fp+fn))\n",
    "    recall    =  tp/(tp+fn)\n",
    "    specificity = tn/(tn+fp)\n",
    "    precision =  tp/(tp+fp)\n",
    "    f1_score  =  (2*precision*recall)/(precision + recall)\n",
    "    roc = roc_auc_score(y_test,probs)\n",
    "\n",
    "    name_list.append(name)\n",
    "    model_list.append(model)\n",
    "    scores_list.append(accuracy)\n",
    "    recall_list.append(recall)\n",
    "    specificity_list.append(specificity)\n",
    "    precision_list.append(precision)\n",
    "    f1_list.append(f1_score)\n",
    "    roc_list.append(roc)\n",
    "    \n",
    "    metrics = pd.DataFrame([[name,roc,accuracy,recall,specificity,precision,f1_score]], columns = ['Model Name','ROC_AUC','Accuracy', \"Recall\", 'Specificity','Precision', 'F1_Score'])\n",
    "    return metrics"
   ]
  },
  {
   "cell_type": "code",
   "execution_count": 126,
   "metadata": {},
   "outputs": [],
   "source": [
    "# Create a function to store model performance after RandomizedSearchCV\n",
    "\n",
    "# Use standard name:\n",
    "# X_test, y_test, probs (for predict_proba) \n",
    "\n",
    "def model_performance_search (name, model):\n",
    "    \n",
    "    print(model.best_score_)\n",
    "    print(model.best_params_)\n",
    "    print(model.best_estimator_)\n",
    "    \n",
    "    best_model = model.best_estimator_\n",
    "    \n",
    "    tn, fp, fn, tp = confusion_matrix(y_test, best_model.predict(X_test_ss)).ravel()\n",
    "    accuracy  =  ((tp+tn)/(tp+tn+fp+fn))\n",
    "    recall    =  tp/(tp+fn)\n",
    "    specificity = tn/(tn+fp)\n",
    "    precision =  tp/(tp+fp)\n",
    "    f1_score  =  (2*precision*recall)/(precision + recall)\n",
    "    roc = roc_auc_score(y_test,probs)\n",
    "\n",
    "    search_model.append(name)\n",
    "    search_best_score.append(model.best_score_)\n",
    "    search_best_estimator.append(model.best_estimator_)\n",
    "    search_params_list.append(model.best_params_)\n",
    "    \n",
    "    name_list.append(name)\n",
    "    model_list.append(model)\n",
    "    scores_list.append(accuracy)\n",
    "    recall_list.append(recall)\n",
    "    specificity_list.append(specificity)\n",
    "    precision_list.append(precision)\n",
    "    f1_list.append(f1_score)\n",
    "    roc_list.append(roc)\n",
    "\n",
    "    metrics = pd.DataFrame([[name,roc,accuracy,recall,specificity,precision,f1_score]], columns = ['Model Name','ROC_AUC','Accuracy', \"Recall\", 'Specificity','Precision', 'F1_Score'])\n",
    "    return metrics\n"
   ]
  },
  {
   "cell_type": "code",
   "execution_count": 21,
   "metadata": {},
   "outputs": [],
   "source": [
    "cv = KFold(n_splits=5, random_state=42, shuffle=False)"
   ]
  },
  {
   "cell_type": "markdown",
   "metadata": {},
   "source": [
    "### 1. Basic Logistic Regression"
   ]
  },
  {
   "cell_type": "code",
   "execution_count": 22,
   "metadata": {},
   "outputs": [
    {
     "name": "stdout",
     "output_type": "stream",
     "text": [
      "0.8414371104244218\n"
     ]
    }
   ],
   "source": [
    "### 1. Train Logistic Regression on Oversampling dataset\n",
    "logr = LogisticRegression(penalty='l1',solver='liblinear',max_iter=200,, random_state=42)\n",
    "logr.fit(X_sm, y_sm)\n",
    "print(cross_val_score(logr, X_sm, y_sm, cv=cv,scoring='roc_auc').mean())"
   ]
  },
  {
   "cell_type": "code",
   "execution_count": 23,
   "metadata": {},
   "outputs": [
    {
     "name": "stdout",
     "output_type": "stream",
     "text": [
      "X_train XROC AUC score is: 0.8380481441597336\n",
      "X_test ROC AUC score is: 0.8420345368613884\n"
     ]
    }
   ],
   "source": [
    "# Apply the model to standardized X (not oversampled X)\n",
    "probs = logr.predict_proba(X_train_ss)[:,1]\n",
    "pred = logr.predict(X_train_ss)\n",
    "print(\"X_train XROC AUC score is:\", roc_auc_score(y_train,probs))\n",
    "\n",
    "y_test_probs = logr.predict_proba(X_test_ss)[:,1]\n",
    "print(\"X_test ROC AUC score is:\", roc_auc_score(y_test,y_test_probs))"
   ]
  },
  {
   "cell_type": "code",
   "execution_count": 24,
   "metadata": {},
   "outputs": [
    {
     "name": "stdout",
     "output_type": "stream",
     "text": [
      "X_train accuracy: 0.77727378460107\n",
      "X_test accuracy: 0.7797548955471237\n"
     ]
    }
   ],
   "source": [
    "print(\"X_train accuracy:\", logr.score(X_train_ss, y_train))\n",
    "print(\"X_test accuracy:\",logr.score(X_test_ss, y_test))"
   ]
  },
  {
   "cell_type": "code",
   "execution_count": 25,
   "metadata": {},
   "outputs": [],
   "source": [
    "# 2. Logistic Regression GridSearchCV\n",
    "#params = {\n",
    "#    'penalty': ['l1', 'l2', 'none'],\n",
    "#    'C': np.logspace(-2,2,10),\n",
    "#    'solver': ['lbfgs','liblinear']\n",
    "#}\n",
    "\n",
    "#logr = LogisticRegression(random_state=42)\n",
    "#search = GridSearchCV(logr, params,scoring='roc_auc',cv=cv, verbose=10, n_jobs=-1)\n",
    "#search.fit(X_sm,y_sm)"
   ]
  },
  {
   "cell_type": "markdown",
   "metadata": {},
   "source": [
    "### 2. Logistic Regression - RandomSearchCV"
   ]
  },
  {
   "cell_type": "code",
   "execution_count": 26,
   "metadata": {},
   "outputs": [
    {
     "name": "stdout",
     "output_type": "stream",
     "text": [
      "Fitting 5 folds for each of 50 candidates, totalling 250 fits\n"
     ]
    },
    {
     "name": "stderr",
     "output_type": "stream",
     "text": [
      "[Parallel(n_jobs=-1)]: Using backend LokyBackend with 8 concurrent workers.\n",
      "[Parallel(n_jobs=-1)]: Done   2 tasks      | elapsed:    2.3s\n",
      "[Parallel(n_jobs=-1)]: Done   9 tasks      | elapsed:   45.5s\n",
      "[Parallel(n_jobs=-1)]: Done  16 tasks      | elapsed:   47.3s\n",
      "[Parallel(n_jobs=-1)]: Done  25 tasks      | elapsed:   49.5s\n",
      "[Parallel(n_jobs=-1)]: Done  34 tasks      | elapsed:  2.1min\n",
      "[Parallel(n_jobs=-1)]: Done  45 tasks      | elapsed:  2.7min\n",
      "[Parallel(n_jobs=-1)]: Done  56 tasks      | elapsed:  3.4min\n",
      "[Parallel(n_jobs=-1)]: Done  69 tasks      | elapsed:  5.0min\n",
      "[Parallel(n_jobs=-1)]: Done  82 tasks      | elapsed:  6.6min\n",
      "[Parallel(n_jobs=-1)]: Done  97 tasks      | elapsed:  7.7min\n",
      "[Parallel(n_jobs=-1)]: Done 112 tasks      | elapsed:  9.1min\n",
      "[Parallel(n_jobs=-1)]: Done 129 tasks      | elapsed: 10.2min\n",
      "[Parallel(n_jobs=-1)]: Done 146 tasks      | elapsed: 13.7min\n",
      "[Parallel(n_jobs=-1)]: Done 165 tasks      | elapsed: 15.6min\n",
      "[Parallel(n_jobs=-1)]: Done 184 tasks      | elapsed: 17.0min\n",
      "[Parallel(n_jobs=-1)]: Done 205 tasks      | elapsed: 17.4min\n",
      "[Parallel(n_jobs=-1)]: Done 226 tasks      | elapsed: 18.7min\n",
      "[Parallel(n_jobs=-1)]: Done 250 out of 250 | elapsed: 21.3min finished\n"
     ]
    },
    {
     "data": {
      "text/plain": [
       "RandomizedSearchCV(cv=StratifiedShuffleSplit(n_splits=5, random_state=42, test_size=0.33,\n",
       "            train_size=None),\n",
       "                   error_score=nan,\n",
       "                   estimator=LogisticRegression(C=1.0, class_weight=None,\n",
       "                                                dual=False, fit_intercept=True,\n",
       "                                                intercept_scaling=1,\n",
       "                                                l1_ratio=None, max_iter=100,\n",
       "                                                multi_class='auto', n_jobs=None,\n",
       "                                                penalty='l2', random_state=42,\n",
       "                                                solver='lbfgs', tol=0.0001,\n",
       "                                                verbose=0, warm...\n",
       "                   param_distributions={'C': array([1.00000000e-02, 2.78255940e-02, 7.74263683e-02, 2.15443469e-01,\n",
       "       5.99484250e-01, 1.66810054e+00, 4.64158883e+00, 1.29154967e+01,\n",
       "       3.59381366e+01, 1.00000000e+02]),\n",
       "                                        'penalty': ['l1', 'l2', 'none'],\n",
       "                                        'solver': ['liblinear', 'newton-cg',\n",
       "                                                   'lbfgs', 'sag', 'saga']},\n",
       "                   pre_dispatch='2*n_jobs', random_state=42, refit=True,\n",
       "                   return_train_score=False, scoring='roc_auc', verbose=10)"
      ]
     },
     "execution_count": 26,
     "metadata": {},
     "output_type": "execute_result"
    }
   ],
   "source": [
    "# Logistic Regression RandomSearchCV\n",
    "params = {\n",
    "    'penalty': ['l1', 'l2', 'none'],\n",
    "    'C': np.logspace(-2,2,10),\n",
    "    'solver': ['liblinear', 'newton-cg', 'lbfgs', 'sag', 'saga']\n",
    "}\n",
    "\n",
    "logr = LogisticRegression(random_state=42)\n",
    "search = RandomizedSearchCV(logr, params,n_iter=30, scoring='roc_auc',cv=cv, verbose=10, n_jobs=-1,random_state=42)\n",
    "search.fit(X_sm,y_sm)"
   ]
  },
  {
   "cell_type": "code",
   "execution_count": 27,
   "metadata": {},
   "outputs": [
    {
     "name": "stdout",
     "output_type": "stream",
     "text": [
      "{'solver': 'liblinear', 'penalty': 'l1', 'C': 1.6681005372000592}\n",
      "0.8414355876912948\n"
     ]
    }
   ],
   "source": [
    "best_logr = search.best_estimator_"
   ]
  },
  {
   "cell_type": "code",
   "execution_count": 127,
   "metadata": {},
   "outputs": [
    {
     "name": "stdout",
     "output_type": "stream",
     "text": [
      "0.8414355876912948\n",
      "{'solver': 'liblinear', 'penalty': 'l1', 'C': 1.6681005372000592}\n",
      "LogisticRegression(C=1.6681005372000592, class_weight=None, dual=False,\n",
      "                   fit_intercept=True, intercept_scaling=1, l1_ratio=None,\n",
      "                   max_iter=100, multi_class='auto', n_jobs=None, penalty='l1',\n",
      "                   random_state=42, solver='liblinear', tol=0.0001, verbose=0,\n",
      "                   warm_start=False)\n"
     ]
    },
    {
     "data": {
      "text/html": [
       "<div>\n",
       "<style scoped>\n",
       "    .dataframe tbody tr th:only-of-type {\n",
       "        vertical-align: middle;\n",
       "    }\n",
       "\n",
       "    .dataframe tbody tr th {\n",
       "        vertical-align: top;\n",
       "    }\n",
       "\n",
       "    .dataframe thead th {\n",
       "        text-align: right;\n",
       "    }\n",
       "</style>\n",
       "<table border=\"1\" class=\"dataframe\">\n",
       "  <thead>\n",
       "    <tr style=\"text-align: right;\">\n",
       "      <th></th>\n",
       "      <th>Model Name</th>\n",
       "      <th>ROC_AUC</th>\n",
       "      <th>Accuracy</th>\n",
       "      <th>Recall</th>\n",
       "      <th>Specificity</th>\n",
       "      <th>Precision</th>\n",
       "      <th>F1_Score</th>\n",
       "    </tr>\n",
       "  </thead>\n",
       "  <tbody>\n",
       "    <tr>\n",
       "      <td>0</td>\n",
       "      <td>Optimized Logistic Regression</td>\n",
       "      <td>0.842017</td>\n",
       "      <td>0.779799</td>\n",
       "      <td>0.742799</td>\n",
       "      <td>0.783294</td>\n",
       "      <td>0.244592</td>\n",
       "      <td>0.368006</td>\n",
       "    </tr>\n",
       "  </tbody>\n",
       "</table>\n",
       "</div>"
      ],
      "text/plain": [
       "                      Model Name   ROC_AUC  Accuracy    Recall  Specificity  \\\n",
       "0  Optimized Logistic Regression  0.842017  0.779799  0.742799     0.783294   \n",
       "\n",
       "   Precision  F1_Score  \n",
       "0   0.244592  0.368006  "
      ]
     },
     "execution_count": 127,
     "metadata": {},
     "output_type": "execute_result"
    }
   ],
   "source": [
    "probs = best_logr.predict_proba(X_test_ss)[:,1]\n",
    "fpr,tpr,threshold = roc_curve(y_test,probs)\n",
    "\n",
    "model_performance_search(\"Optimized Logistic Regression\", search)"
   ]
  },
  {
   "cell_type": "code",
   "execution_count": 29,
   "metadata": {},
   "outputs": [
    {
     "data": {
      "text/plain": [
       "LogisticRegression(C=1.6681005372000592, class_weight=None, dual=False,\n",
       "                   fit_intercept=True, intercept_scaling=1, l1_ratio=None,\n",
       "                   max_iter=100, multi_class='auto', n_jobs=None, penalty='l1',\n",
       "                   random_state=42, solver='liblinear', tol=0.0001, verbose=0,\n",
       "                   warm_start=False)"
      ]
     },
     "execution_count": 29,
     "metadata": {},
     "output_type": "execute_result"
    }
   ],
   "source": [
    "best_logr"
   ]
  },
  {
   "cell_type": "markdown",
   "metadata": {},
   "source": [
    "## Performance Summary"
   ]
  },
  {
   "cell_type": "code",
   "execution_count": 129,
   "metadata": {},
   "outputs": [
    {
     "data": {
      "text/html": [
       "<div>\n",
       "<style scoped>\n",
       "    .dataframe tbody tr th:only-of-type {\n",
       "        vertical-align: middle;\n",
       "    }\n",
       "\n",
       "    .dataframe tbody tr th {\n",
       "        vertical-align: top;\n",
       "    }\n",
       "\n",
       "    .dataframe thead th {\n",
       "        text-align: right;\n",
       "    }\n",
       "</style>\n",
       "<table border=\"1\" class=\"dataframe\">\n",
       "  <thead>\n",
       "    <tr style=\"text-align: right;\">\n",
       "      <th></th>\n",
       "      <th>model</th>\n",
       "      <th>model_name</th>\n",
       "      <th>roc_auc</th>\n",
       "      <th>accuracy</th>\n",
       "      <th>recall</th>\n",
       "      <th>specificity</th>\n",
       "      <th>precision</th>\n",
       "      <th>f1_score</th>\n",
       "    </tr>\n",
       "  </thead>\n",
       "  <tbody>\n",
       "    <tr>\n",
       "      <td>0</td>\n",
       "      <td>Optimized Logistic Regression</td>\n",
       "      <td>RandomizedSearchCV(cv=StratifiedShuffleSplit(n...</td>\n",
       "      <td>0.842017</td>\n",
       "      <td>0.779799</td>\n",
       "      <td>0.742799</td>\n",
       "      <td>0.783294</td>\n",
       "      <td>0.244592</td>\n",
       "      <td>0.368006</td>\n",
       "    </tr>\n",
       "  </tbody>\n",
       "</table>\n",
       "</div>"
      ],
      "text/plain": [
       "                           model  \\\n",
       "0  Optimized Logistic Regression   \n",
       "\n",
       "                                          model_name   roc_auc  accuracy  \\\n",
       "0  RandomizedSearchCV(cv=StratifiedShuffleSplit(n...  0.842017  0.779799   \n",
       "\n",
       "     recall  specificity  precision  f1_score  \n",
       "0  0.742799     0.783294   0.244592  0.368006  "
      ]
     },
     "execution_count": 129,
     "metadata": {},
     "output_type": "execute_result"
    }
   ],
   "source": [
    "results = pd.DataFrame({'model': name_list, \n",
    "                        'model_name': model_list,\n",
    "                        'roc_auc': roc_list,\n",
    "                        'accuracy': scores_list, \n",
    "                        'recall': recall_list, \n",
    "                        'specificity': specificity_list,\n",
    "                        'precision': precision_list,\n",
    "                        'f1_score': f1_list\n",
    "                       })\n",
    "\n",
    "results.to_csv('../data/ph1_logr_results.csv')\n",
    "               \n",
    "results"
   ]
  },
  {
   "cell_type": "markdown",
   "metadata": {},
   "source": [
    "### ROC Curve"
   ]
  },
  {
   "cell_type": "code",
   "execution_count": 37,
   "metadata": {},
   "outputs": [],
   "source": [
    "def plot_roc_curve(fpr, tpr,model):\n",
    "    plt.plot(fpr, tpr, label=model)\n",
    "    plt.plot([0, 1], [0, 1], color='darkblue', linestyle='--')\n",
    "    plt.xlabel('False Positive Rate')\n",
    "    plt.ylabel('True Positive Rate')\n",
    "    plt.title('Receiver Operating Characteristic (ROC) Curve')\n",
    "    plt.legend()\n",
    "#    plt.show()"
   ]
  },
  {
   "cell_type": "code",
   "execution_count": 38,
   "metadata": {},
   "outputs": [
    {
     "data": {
      "image/png": "[encoded data removed]",
      "text/plain": [
       "<Figure size 432x288 with 1 Axes>"
      ]
     },
     "metadata": {
      "needs_background": "light"
     },
     "output_type": "display_data"
    }
   ],
   "source": [
    "plot_roc_curve(fpr, tpr,'LogisticRegression_randomizedsearchcv')"
   ]
  },
  {
   "cell_type": "markdown",
   "metadata": {},
   "source": [
    "#### Save the model to disk"
   ]
  },
  {
   "cell_type": "code",
   "execution_count": 52,
   "metadata": {},
   "outputs": [],
   "source": [
    "# save the model to disk\n",
    "filename = 'logr_randomizedsearchcv.sav'\n",
    "pickle.dump(best_logr, open(filename, 'wb'))\n",
    "\n",
    "# load the model from disk\n",
    "#loaded_model = pickle.load(open(filename, 'rb'))\n",
    "#result = loaded_model.score(X_test, Y_test)\n"
   ]
  },
  {
   "cell_type": "markdown",
   "metadata": {},
   "source": [
    "### Distribution"
   ]
  },
  {
   "cell_type": "code",
   "execution_count": 101,
   "metadata": {},
   "outputs": [
    {
     "data": {
      "image/png": "[encoded data removed]",
      "text/plain": [
       "<Figure size 720x288 with 1 Axes>"
      ]
     },
     "metadata": {
      "needs_background": "light"
     },
     "output_type": "display_data"
    }
   ],
   "source": [
    "pred_df = pd.DataFrame({'true_values': y_test,\n",
    "                        'pred_probs':best_logr.predict_proba(X_test_ss)[:,1]})\n",
    "# Create figure.\n",
    "plt.figure(figsize = (10,4))\n",
    "\n",
    "# Create two histograms of observations.\n",
    "plt.hist(pred_df[pred_df['true_values'] == 0]['pred_probs'],\n",
    "         bins=50,\n",
    "         color='b',\n",
    "         alpha = 0.5,\n",
    "         density=True,\n",
    "         label='hosptial_death = 0')\n",
    "plt.hist(pred_df[pred_df['true_values'] == 1]['pred_probs'],\n",
    "         bins=50,\n",
    "         color='red',\n",
    "         alpha = 0.5,\n",
    "         density=True,\n",
    "         label='hosptial_death = 1')\n",
    "\n",
    "# Label axes.\n",
    "plt.title('Optimized Logistic Regression', fontsize=22)\n",
    "plt.ylabel('Frequency', fontsize=18)\n",
    "plt.xlabel('Predicted Probability for hospital_death = 1', fontsize=18)\n",
    "\n",
    "# Create legend.\n",
    "plt.legend(fontsize=10);"
   ]
  },
  {
   "cell_type": "code",
   "execution_count": 71,
   "metadata": {},
   "outputs": [
    {
     "data": {
      "text/html": [
       "<div>\n",
       "<style scoped>\n",
       "    .dataframe tbody tr th:only-of-type {\n",
       "        vertical-align: middle;\n",
       "    }\n",
       "\n",
       "    .dataframe tbody tr th {\n",
       "        vertical-align: top;\n",
       "    }\n",
       "\n",
       "    .dataframe thead th {\n",
       "        text-align: right;\n",
       "    }\n",
       "</style>\n",
       "<table border=\"1\" class=\"dataframe\">\n",
       "  <thead>\n",
       "    <tr style=\"text-align: right;\">\n",
       "      <th></th>\n",
       "      <th>true_values</th>\n",
       "      <th>pred_probs</th>\n",
       "    </tr>\n",
       "  </thead>\n",
       "  <tbody>\n",
       "    <tr>\n",
       "      <td>24191</td>\n",
       "      <td>0</td>\n",
       "      <td>0.258250</td>\n",
       "    </tr>\n",
       "    <tr>\n",
       "      <td>44190</td>\n",
       "      <td>0</td>\n",
       "      <td>0.577060</td>\n",
       "    </tr>\n",
       "    <tr>\n",
       "      <td>61336</td>\n",
       "      <td>0</td>\n",
       "      <td>0.316022</td>\n",
       "    </tr>\n",
       "    <tr>\n",
       "      <td>88972</td>\n",
       "      <td>1</td>\n",
       "      <td>0.921424</td>\n",
       "    </tr>\n",
       "    <tr>\n",
       "      <td>78389</td>\n",
       "      <td>1</td>\n",
       "      <td>0.949055</td>\n",
       "    </tr>\n",
       "    <tr>\n",
       "      <td>...</td>\n",
       "      <td>...</td>\n",
       "      <td>...</td>\n",
       "    </tr>\n",
       "    <tr>\n",
       "      <td>73050</td>\n",
       "      <td>0</td>\n",
       "      <td>0.456798</td>\n",
       "    </tr>\n",
       "    <tr>\n",
       "      <td>50309</td>\n",
       "      <td>0</td>\n",
       "      <td>0.178818</td>\n",
       "    </tr>\n",
       "    <tr>\n",
       "      <td>48478</td>\n",
       "      <td>1</td>\n",
       "      <td>0.995690</td>\n",
       "    </tr>\n",
       "    <tr>\n",
       "      <td>70264</td>\n",
       "      <td>0</td>\n",
       "      <td>0.334352</td>\n",
       "    </tr>\n",
       "    <tr>\n",
       "      <td>77189</td>\n",
       "      <td>0</td>\n",
       "      <td>0.073629</td>\n",
       "    </tr>\n",
       "  </tbody>\n",
       "</table>\n",
       "<p>22929 rows × 2 columns</p>\n",
       "</div>"
      ],
      "text/plain": [
       "       true_values  pred_probs\n",
       "24191            0    0.258250\n",
       "44190            0    0.577060\n",
       "61336            0    0.316022\n",
       "88972            1    0.921424\n",
       "78389            1    0.949055\n",
       "...            ...         ...\n",
       "73050            0    0.456798\n",
       "50309            0    0.178818\n",
       "48478            1    0.995690\n",
       "70264            0    0.334352\n",
       "77189            0    0.073629\n",
       "\n",
       "[22929 rows x 2 columns]"
      ]
     },
     "execution_count": 71,
     "metadata": {},
     "output_type": "execute_result"
    }
   ],
   "source": [
    "pred_df"
   ]
  },
  {
   "cell_type": "code",
   "execution_count": null,
   "metadata": {},
   "outputs": [],
   "source": []
  },
  {
   "cell_type": "code",
   "execution_count": null,
   "metadata": {},
   "outputs": [],
   "source": []
  },
  {
   "cell_type": "markdown",
   "metadata": {},
   "source": [
    "### Feature Importance"
   ]
  },
  {
   "cell_type": "code",
   "execution_count": 121,
   "metadata": {},
   "outputs": [
    {
     "data": {
      "image/png": "[encoded data removed]",
      "text/plain": [
       "<Figure size 432x720 with 1 Axes>"
      ]
     },
     "metadata": {
      "needs_background": "light"
     },
     "output_type": "display_data"
    }
   ],
   "source": [
    "feature_imp_df = pd.DataFrame({\"feature\": X.columns, \"coeficients\": best_logr.coef_[0]}).sort_values(by=\"coeficients\", ascending=False)\n",
    "impt_features = pd.concat([feature_imp_df.head(15),feature_imp_df.tail(15)], axis=0)\n",
    "\n",
    "# The most important features\n",
    "plt.figure(figsize=(6,10))\n",
    "sns.barplot(x=\"coeficients\", y=\"feature\", data=impt_features)\n",
    "plt.title(\"Logistic Regression without any APACHE variables\")\n",
    "plt.show()"
   ]
  },
  {
   "cell_type": "code",
   "execution_count": 123,
   "metadata": {
    "scrolled": true
   },
   "outputs": [
    {
     "data": {
      "text/html": [
       "<div>\n",
       "<style scoped>\n",
       "    .dataframe tbody tr th:only-of-type {\n",
       "        vertical-align: middle;\n",
       "    }\n",
       "\n",
       "    .dataframe tbody tr th {\n",
       "        vertical-align: top;\n",
       "    }\n",
       "\n",
       "    .dataframe thead th {\n",
       "        text-align: right;\n",
       "    }\n",
       "</style>\n",
       "<table border=\"1\" class=\"dataframe\">\n",
       "  <thead>\n",
       "    <tr style=\"text-align: right;\">\n",
       "      <th></th>\n",
       "      <th>feature</th>\n",
       "      <th>coeficients</th>\n",
       "      <th>coef_abs</th>\n",
       "    </tr>\n",
       "  </thead>\n",
       "  <tbody>\n",
       "    <tr>\n",
       "      <td>26</td>\n",
       "      <td>d1_sysbp_invasive_max</td>\n",
       "      <td>0.019927</td>\n",
       "      <td>0.019927</td>\n",
       "    </tr>\n",
       "    <tr>\n",
       "      <td>100</td>\n",
       "      <td>ethnicity_Native American</td>\n",
       "      <td>0.019892</td>\n",
       "      <td>0.019892</td>\n",
       "    </tr>\n",
       "    <tr>\n",
       "      <td>0</td>\n",
       "      <td>hospital_id</td>\n",
       "      <td>0.017382</td>\n",
       "      <td>0.017382</td>\n",
       "    </tr>\n",
       "    <tr>\n",
       "      <td>37</td>\n",
       "      <td>h1_diasbp_noninvasive_min</td>\n",
       "      <td>0.015927</td>\n",
       "      <td>0.015927</td>\n",
       "    </tr>\n",
       "    <tr>\n",
       "      <td>36</td>\n",
       "      <td>h1_diasbp_noninvasive_max</td>\n",
       "      <td>0.015234</td>\n",
       "      <td>0.015234</td>\n",
       "    </tr>\n",
       "    <tr>\n",
       "      <td>106</td>\n",
       "      <td>hospital_admit_source_Emergency Department</td>\n",
       "      <td>0.014957</td>\n",
       "      <td>0.014957</td>\n",
       "    </tr>\n",
       "    <tr>\n",
       "      <td>114</td>\n",
       "      <td>hospital_admit_source_SDU</td>\n",
       "      <td>0.013018</td>\n",
       "      <td>0.013018</td>\n",
       "    </tr>\n",
       "    <tr>\n",
       "      <td>9</td>\n",
       "      <td>d1_diasbp_invasive_min</td>\n",
       "      <td>0.012169</td>\n",
       "      <td>0.012169</td>\n",
       "    </tr>\n",
       "    <tr>\n",
       "      <td>92</td>\n",
       "      <td>d1_arterial_po2_max</td>\n",
       "      <td>0.008128</td>\n",
       "      <td>0.008128</td>\n",
       "    </tr>\n",
       "    <tr>\n",
       "      <td>22</td>\n",
       "      <td>d1_resprate_max</td>\n",
       "      <td>0.005090</td>\n",
       "      <td>0.005090</td>\n",
       "    </tr>\n",
       "    <tr>\n",
       "      <td>109</td>\n",
       "      <td>hospital_admit_source_Operating Room</td>\n",
       "      <td>0.000704</td>\n",
       "      <td>0.000704</td>\n",
       "    </tr>\n",
       "    <tr>\n",
       "      <td>44</td>\n",
       "      <td>h1_resprate_max</td>\n",
       "      <td>0.000225</td>\n",
       "      <td>0.000225</td>\n",
       "    </tr>\n",
       "    <tr>\n",
       "      <td>87</td>\n",
       "      <td>h1_inr_min</td>\n",
       "      <td>-0.000899</td>\n",
       "      <td>0.000899</td>\n",
       "    </tr>\n",
       "    <tr>\n",
       "      <td>86</td>\n",
       "      <td>h1_inr_max</td>\n",
       "      <td>-0.002718</td>\n",
       "      <td>0.002718</td>\n",
       "    </tr>\n",
       "    <tr>\n",
       "      <td>104</td>\n",
       "      <td>hospital_admit_source_Chest Pain Center</td>\n",
       "      <td>-0.004801</td>\n",
       "      <td>0.004801</td>\n",
       "    </tr>\n",
       "    <tr>\n",
       "      <td>110</td>\n",
       "      <td>hospital_admit_source_Other</td>\n",
       "      <td>-0.005871</td>\n",
       "      <td>0.005871</td>\n",
       "    </tr>\n",
       "    <tr>\n",
       "      <td>105</td>\n",
       "      <td>hospital_admit_source_Direct Admit</td>\n",
       "      <td>-0.010061</td>\n",
       "      <td>0.010061</td>\n",
       "    </tr>\n",
       "    <tr>\n",
       "      <td>99</td>\n",
       "      <td>ethnicity_Hispanic</td>\n",
       "      <td>-0.012809</td>\n",
       "      <td>0.012809</td>\n",
       "    </tr>\n",
       "    <tr>\n",
       "      <td>54</td>\n",
       "      <td>d1_albumin_max</td>\n",
       "      <td>-0.012822</td>\n",
       "      <td>0.012822</td>\n",
       "    </tr>\n",
       "    <tr>\n",
       "      <td>35</td>\n",
       "      <td>h1_diasbp_min</td>\n",
       "      <td>-0.017999</td>\n",
       "      <td>0.017999</td>\n",
       "    </tr>\n",
       "  </tbody>\n",
       "</table>\n",
       "</div>"
      ],
      "text/plain": [
       "                                        feature  coeficients  coef_abs\n",
       "26                        d1_sysbp_invasive_max     0.019927  0.019927\n",
       "100                   ethnicity_Native American     0.019892  0.019892\n",
       "0                                   hospital_id     0.017382  0.017382\n",
       "37                    h1_diasbp_noninvasive_min     0.015927  0.015927\n",
       "36                    h1_diasbp_noninvasive_max     0.015234  0.015234\n",
       "106  hospital_admit_source_Emergency Department     0.014957  0.014957\n",
       "114                   hospital_admit_source_SDU     0.013018  0.013018\n",
       "9                        d1_diasbp_invasive_min     0.012169  0.012169\n",
       "92                          d1_arterial_po2_max     0.008128  0.008128\n",
       "22                              d1_resprate_max     0.005090  0.005090\n",
       "109        hospital_admit_source_Operating Room     0.000704  0.000704\n",
       "44                              h1_resprate_max     0.000225  0.000225\n",
       "87                                   h1_inr_min    -0.000899  0.000899\n",
       "86                                   h1_inr_max    -0.002718  0.002718\n",
       "104     hospital_admit_source_Chest Pain Center    -0.004801  0.004801\n",
       "110                 hospital_admit_source_Other    -0.005871  0.005871\n",
       "105          hospital_admit_source_Direct Admit    -0.010061  0.010061\n",
       "99                           ethnicity_Hispanic    -0.012809  0.012809\n",
       "54                               d1_albumin_max    -0.012822  0.012822\n",
       "35                                h1_diasbp_min    -0.017999  0.017999"
      ]
     },
     "execution_count": 123,
     "metadata": {},
     "output_type": "execute_result"
    }
   ],
   "source": [
    "feature_imp_df['coef_abs'] = feature_imp_df.coeficients.abs()\n",
    "threshold = 0.02\n",
    "least_impt = feature_imp_df[feature_imp_df.coef_abs<threshold]\n",
    "least_impt"
   ]
  },
  {
   "cell_type": "markdown",
   "metadata": {},
   "source": [
    "## Submission"
   ]
  },
  {
   "cell_type": "code",
   "execution_count": null,
   "metadata": {},
   "outputs": [],
   "source": [
    "pred_logr = logr.predict_proba(test_imputed)[:,1]\n",
    "pred_results = pd.DataFrame({'encounter_id':test_df.encounter_id, 'hospital_death': pred_logr})\n",
    "pred_results.to_csv('../data/pred_logr.csv',index=False)\n",
    "pred_results.head()"
   ]
  },
  {
   "cell_type": "code",
   "execution_count": null,
   "metadata": {},
   "outputs": [],
   "source": []
  }
 ],
 "metadata": {
  "kernelspec": {
   "display_name": "Python 3",
   "language": "python",
   "name": "python3"
  },
  "language_info": {
   "codemirror_mode": {
    "name": "ipython",
    "version": 3
   },
   "file_extension": ".py",
   "mimetype": "text/x-python",
   "name": "python",
   "nbconvert_exporter": "python",
   "pygments_lexer": "ipython3",
   "version": "3.7.4"
  }
 },
 "nbformat": 4,
 "nbformat_minor": 2
}
