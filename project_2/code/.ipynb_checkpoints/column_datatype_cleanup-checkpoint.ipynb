{
 "cells": [
  {
   "cell_type": "code",
   "execution_count": null,
   "metadata": {},
   "outputs": [],
   "source": [
    "### to open files \n",
    "## Below are files that store columns' datatype\n",
    "col_string = pd.read_csv('../datasets/string_columns.txt',header=None) \n",
    "col_numeric = pd.read_csv('../datasets/float_int_columns.txt',sep=',',index_col='column_name')"
   ]
  },
  {
   "cell_type": "code",
   "execution_count": null,
   "metadata": {},
   "outputs": [],
   "source": []
  },
  {
   "cell_type": "code",
   "execution_count": 61,
   "metadata": {},
   "outputs": [],
   "source": [
    "import pandas as pd"
   ]
  },
  {
   "cell_type": "code",
   "execution_count": 68,
   "metadata": {},
   "outputs": [],
   "source": [
    "col_string = pd.read_csv('../datasets/string_columns.txt',header=None)   \n",
    "col_numeric = pd.read_csv('../datasets/float_int_columns.txt',sep='\\t',index_col='column_name')"
   ]
  },
  {
   "cell_type": "code",
   "execution_count": 69,
   "metadata": {},
   "outputs": [
    {
     "data": {
      "text/html": [
       "<div>\n",
       "<style scoped>\n",
       "    .dataframe tbody tr th:only-of-type {\n",
       "        vertical-align: middle;\n",
       "    }\n",
       "\n",
       "    .dataframe tbody tr th {\n",
       "        vertical-align: top;\n",
       "    }\n",
       "\n",
       "    .dataframe thead th {\n",
       "        text-align: right;\n",
       "    }\n",
       "</style>\n",
       "<table border=\"1\" class=\"dataframe\">\n",
       "  <thead>\n",
       "    <tr style=\"text-align: right;\">\n",
       "      <th></th>\n",
       "      <th>data_type</th>\n",
       "    </tr>\n",
       "    <tr>\n",
       "      <th>column_name</th>\n",
       "      <th></th>\n",
       "    </tr>\n",
       "  </thead>\n",
       "  <tbody>\n",
       "    <tr>\n",
       "      <td>Lot Frontage</td>\n",
       "      <td>float</td>\n",
       "    </tr>\n",
       "    <tr>\n",
       "      <td>Lot Area</td>\n",
       "      <td>float</td>\n",
       "    </tr>\n",
       "    <tr>\n",
       "      <td>Mas Vnr Area</td>\n",
       "      <td>float</td>\n",
       "    </tr>\n",
       "    <tr>\n",
       "      <td>BsmtFin SF 1</td>\n",
       "      <td>float</td>\n",
       "    </tr>\n",
       "    <tr>\n",
       "      <td>BsmtFin SF 2</td>\n",
       "      <td>float</td>\n",
       "    </tr>\n",
       "  </tbody>\n",
       "</table>\n",
       "</div>"
      ],
      "text/plain": [
       "              data_type\n",
       "column_name            \n",
       "Lot Frontage      float\n",
       "Lot Area          float\n",
       "Mas Vnr Area      float\n",
       "BsmtFin SF 1      float\n",
       "BsmtFin SF 2      float"
      ]
     },
     "execution_count": 69,
     "metadata": {},
     "output_type": "execute_result"
    }
   ],
   "source": [
    "col_numeric.head()"
   ]
  },
  {
   "cell_type": "code",
   "execution_count": 70,
   "metadata": {},
   "outputs": [
    {
     "data": {
      "text/plain": [
       "['Lot Frontage ',\n",
       " 'Lot Area ',\n",
       " 'Mas Vnr Area ',\n",
       " 'BsmtFin SF 1 ',\n",
       " 'BsmtFin SF 2 ',\n",
       " 'Bsmt Unf SF ',\n",
       " 'Total Bsmt SF ',\n",
       " '1st Flr SF ',\n",
       " '2nd Flr SF ',\n",
       " 'Low Qual Fin SF ',\n",
       " 'Gr Liv Area ',\n",
       " 'Garage Area ',\n",
       " 'Wood Deck SF ',\n",
       " 'Open Porch SF ',\n",
       " 'Enclosed Porch ',\n",
       " '3Ssn Porch',\n",
       " 'Screen Porch ',\n",
       " 'Pool Area ',\n",
       " 'Misc Val ',\n",
       " 'SalePrice ',\n",
       " 'Id',\n",
       " 'Year Built ',\n",
       " 'Year Remod/Add ',\n",
       " 'Bsmt Full Bath ',\n",
       " 'Bsmt Half Bath ',\n",
       " 'Full Bath ',\n",
       " 'Half Bath ',\n",
       " 'Bedroom AbvGr',\n",
       " 'Kitchen AbvGr',\n",
       " 'TotRms AbvGrd',\n",
       " 'Fireplaces ',\n",
       " 'Garage Yr Blt ',\n",
       " 'Garage Cars ',\n",
       " 'Mo Sold ',\n",
       " 'Yr Sold ']"
      ]
     },
     "execution_count": 70,
     "metadata": {},
     "output_type": "execute_result"
    }
   ],
   "source": [
    "# TO check if there is space after the name\n",
    "\n",
    "list(col_numeric.index)\n",
    "\n",
    "# ALl names as a space behind, need to remove them"
   ]
  },
  {
   "cell_type": "code",
   "execution_count": 73,
   "metadata": {},
   "outputs": [
    {
     "data": {
      "text/plain": [
       "['Lot Frontage',\n",
       " 'Lot Area',\n",
       " 'Mas Vnr Area',\n",
       " 'BsmtFin SF 1',\n",
       " 'BsmtFin SF 2',\n",
       " 'Bsmt Unf SF',\n",
       " 'Total Bsmt SF',\n",
       " '1st Flr SF',\n",
       " '2nd Flr SF',\n",
       " 'Low Qual Fin SF',\n",
       " 'Gr Liv Area',\n",
       " 'Garage Area',\n",
       " 'Wood Deck SF',\n",
       " 'Open Porch SF',\n",
       " 'Enclosed Porch',\n",
       " '3Ssn Porch',\n",
       " 'Screen Porch',\n",
       " 'Pool Area',\n",
       " 'Misc Val',\n",
       " 'SalePrice',\n",
       " 'Id',\n",
       " 'Year Built',\n",
       " 'Year Remod/Add',\n",
       " 'Bsmt Full Bath',\n",
       " 'Bsmt Half Bath',\n",
       " 'Full Bath',\n",
       " 'Half Bath',\n",
       " 'Bedroom AbvGr',\n",
       " 'Kitchen AbvGr',\n",
       " 'TotRms AbvGrd',\n",
       " 'Fireplaces',\n",
       " 'Garage Yr Blt',\n",
       " 'Garage Cars',\n",
       " 'Mo Sold',\n",
       " 'Yr Sold']"
      ]
     },
     "execution_count": 73,
     "metadata": {},
     "output_type": "execute_result"
    }
   ],
   "source": [
    "col_numeric.index = col_numeric.index.map(lambda x: x.strip())\n",
    "list(col_numeric.index)\n",
    "\n",
    "# Now they look correct"
   ]
  },
  {
   "cell_type": "code",
   "execution_count": 78,
   "metadata": {},
   "outputs": [
    {
     "data": {
      "text/plain": [
       "['float',\n",
       " 'float',\n",
       " 'float',\n",
       " 'float',\n",
       " 'float',\n",
       " 'float',\n",
       " 'float',\n",
       " 'float',\n",
       " 'float',\n",
       " 'float',\n",
       " 'float',\n",
       " 'float',\n",
       " 'float',\n",
       " 'float',\n",
       " 'float',\n",
       " 'float',\n",
       " 'float',\n",
       " 'float',\n",
       " 'float',\n",
       " 'float',\n",
       " 'int',\n",
       " 'int',\n",
       " 'int',\n",
       " 'int',\n",
       " 'int',\n",
       " 'int',\n",
       " 'int',\n",
       " 'int',\n",
       " 'int',\n",
       " 'int',\n",
       " 'int',\n",
       " 'int',\n",
       " 'int',\n",
       " 'int',\n",
       " 'int']"
      ]
     },
     "execution_count": 78,
     "metadata": {},
     "output_type": "execute_result"
    }
   ],
   "source": [
    "list(col_numeric['data_type'])\n",
    "# data_type look ok, no space after the name"
   ]
  },
  {
   "cell_type": "code",
   "execution_count": 79,
   "metadata": {},
   "outputs": [
    {
     "data": {
      "text/plain": [
       "float    20\n",
       "int      15\n",
       "Name: data_type, dtype: int64"
      ]
     },
     "execution_count": 79,
     "metadata": {},
     "output_type": "execute_result"
    }
   ],
   "source": [
    "col_numeric['data_type'].value_counts()\n",
    "\n",
    "# the name seems "
   ]
  },
  {
   "cell_type": "code",
   "execution_count": 80,
   "metadata": {},
   "outputs": [
    {
     "data": {
      "text/html": [
       "<div>\n",
       "<style scoped>\n",
       "    .dataframe tbody tr th:only-of-type {\n",
       "        vertical-align: middle;\n",
       "    }\n",
       "\n",
       "    .dataframe tbody tr th {\n",
       "        vertical-align: top;\n",
       "    }\n",
       "\n",
       "    .dataframe thead th {\n",
       "        text-align: right;\n",
       "    }\n",
       "</style>\n",
       "<table border=\"1\" class=\"dataframe\">\n",
       "  <thead>\n",
       "    <tr style=\"text-align: right;\">\n",
       "      <th></th>\n",
       "      <th>data_type</th>\n",
       "    </tr>\n",
       "    <tr>\n",
       "      <th>column_name</th>\n",
       "      <th></th>\n",
       "    </tr>\n",
       "  </thead>\n",
       "  <tbody>\n",
       "    <tr>\n",
       "      <td>Lot Frontage</td>\n",
       "      <td>float</td>\n",
       "    </tr>\n",
       "    <tr>\n",
       "      <td>Lot Area</td>\n",
       "      <td>float</td>\n",
       "    </tr>\n",
       "    <tr>\n",
       "      <td>Mas Vnr Area</td>\n",
       "      <td>float</td>\n",
       "    </tr>\n",
       "    <tr>\n",
       "      <td>BsmtFin SF 1</td>\n",
       "      <td>float</td>\n",
       "    </tr>\n",
       "    <tr>\n",
       "      <td>BsmtFin SF 2</td>\n",
       "      <td>float</td>\n",
       "    </tr>\n",
       "  </tbody>\n",
       "</table>\n",
       "</div>"
      ],
      "text/plain": [
       "             data_type\n",
       "column_name           \n",
       "Lot Frontage     float\n",
       "Lot Area         float\n",
       "Mas Vnr Area     float\n",
       "BsmtFin SF 1     float\n",
       "BsmtFin SF 2     float"
      ]
     },
     "execution_count": 80,
     "metadata": {},
     "output_type": "execute_result"
    }
   ],
   "source": [
    "col_numeric.head()"
   ]
  },
  {
   "cell_type": "code",
   "execution_count": 82,
   "metadata": {},
   "outputs": [],
   "source": [
    "# Save it to the file\n",
    "col_numeric.to_csv('../datasets/float_int_columns.txt', header=True)"
   ]
  },
  {
   "cell_type": "code",
   "execution_count": null,
   "metadata": {},
   "outputs": [],
   "source": []
  }
 ],
 "metadata": {
  "kernelspec": {
   "display_name": "Python 3",
   "language": "python",
   "name": "python3"
  },
  "language_info": {
   "codemirror_mode": {
    "name": "ipython",
    "version": 3
   },
   "file_extension": ".py",
   "mimetype": "text/x-python",
   "name": "python",
   "nbconvert_exporter": "python",
   "pygments_lexer": "ipython3",
   "version": "3.7.4"
  }
 },
 "nbformat": 4,
 "nbformat_minor": 2
}
